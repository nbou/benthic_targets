{
 "cells": [
  {
   "cell_type": "markdown",
   "id": "e6cf6501",
   "metadata": {},
   "source": [
    "Want to build the vectors and get the hypotheses at each timestep so they can be properly scores"
   ]
  },
  {
   "cell_type": "code",
   "execution_count": 1,
   "id": "45947b02",
   "metadata": {},
   "outputs": [],
   "source": [
    "import pandas as pd"
   ]
  },
  {
   "cell_type": "markdown",
   "id": "7612674e",
   "metadata": {},
   "source": [
    "Make dummy detections. First with no simultaneous detections"
   ]
  },
  {
   "cell_type": "code",
   "execution_count": 2,
   "id": "81a5a3e3",
   "metadata": {},
   "outputs": [],
   "source": [
    "detections = pd.DataFrame()\n",
    "detections[\"id\"] = [0, 1, 2]\n",
    "detections[\"time\"] = [0, 1, 2]\n",
    "detections[\"object_location\"] = [0, 1, 2]"
   ]
  },
  {
   "cell_type": "code",
   "execution_count": 3,
   "id": "8e5c3e76",
   "metadata": {},
   "outputs": [],
   "source": [
    "import matplotlib.pyplot as plt"
   ]
  },
  {
   "cell_type": "code",
   "execution_count": 6,
   "id": "56f97ca1",
   "metadata": {},
   "outputs": [
    {
     "name": "stderr",
     "output_type": "stream",
     "text": [
      "/home/nader/Projects/thesis/benthic_targets/venv/lib/python3.6/site-packages/ipykernel_launcher.py:11: UserWarning: Matplotlib is currently using module://ipykernel.pylab.backend_inline, which is a non-GUI backend, so cannot show the figure.\n",
      "  # This is added back by InteractiveShellApp.init_path()\n"
     ]
    },
    {
     "data": {
      "image/png": "[encoded data removed]",
      "text/plain": [
       "<Figure size 432x288 with 1 Axes>"
      ]
     },
     "metadata": {
      "needs_background": "light"
     },
     "output_type": "display_data"
    }
   ],
   "source": [
    "fig, ax = plt.subplots()\n",
    "\n",
    "ax.scatter(detections.object_location, detections.time)\n",
    "\n",
    "ax.set_xlabel(\"Position\")\n",
    "ax.set_ylabel(\"Timestep\")\n",
    "\n",
    "ax.set_xticks([0,1,2])\n",
    "ax.set_yticks([0,1,2])\n",
    "\n",
    "fig.show()"
   ]
  },
  {
   "cell_type": "code",
   "execution_count": 9,
   "id": "70c96050",
   "metadata": {},
   "outputs": [],
   "source": [
    "def make_first_branches(det_t):\n",
    "    new_branches = []\n",
    "    for i, row in det_t.iterrows():\n",
    "        new_br = np.array([row[\"id\"]])\n",
    "        new_branches.append(new_br)\n",
    "    return new_branches"
   ]
  },
  {
   "cell_type": "code",
   "execution_count": null,
   "id": "19a0f399",
   "metadata": {},
   "outputs": [],
   "source": [
    "def make_new_branches(branches, det_t, it):\n",
    "\n",
    "    new_branches = []\n",
    "    old_it = len(branches[0])\n",
    "\n",
    "    nan_append = np.empty(it - old_it) + np.NaN\n",
    "\n",
    "    bz = []\n",
    "    for br in branches:\n",
    "        bz.append(np.append(br, nan_append))\n",
    "\n",
    "    branches = bz\n",
    "    # new_branches = []\n",
    "    if len(det_t) == 1:\n",
    "        # create new vector (case where this detection is a new individual)\n",
    "        d = det_t.iloc[0]\n",
    "        new_br = np.empty(it + 1)\n",
    "        new_br[:] = np.NaN\n",
    "        new_br[it] = d[\"id\"]\n",
    "        new_branches.append(new_br)\n",
    "\n",
    "        for i, br in enumerate(branches):\n",
    "            # case where this is a repeat of the last observed\n",
    "            new_br_repeat = np.append(br, d[\"id\"])\n",
    "            new_branches.append(new_br_repeat)\n",
    "\n",
    "            # get the id of the previous detection in the current branch\n",
    "            last_detection = np.array(br)[np.logical_not(np.isnan(br))][-1]\n",
    "\n",
    "            # case where it's not\n",
    "            new_br_no_repeat = np.append(br, np.NaN)\n",
    "\n",
    "    else:\n",
    "        for i, br in enumerate(branches):\n",
    "\n",
    "            for i, d in det_t.iterrows():\n",
    "                # create new vector (case where this detection is a new individual)\n",
    "                new_br = np.empty(it + 1)\n",
    "                new_br[:] = np.NaN\n",
    "                new_br[it] = d[\"id\"]\n",
    "\n",
    "                new_branches.append(new_br)\n",
    "\n",
    "                new_score = 1\n",
    "                new_scores.append(new_score)\n",
    "\n",
    "\n",
    "                new_br_repeat = np.append(br, d[\"id\"])\n",
    "                new_branches.append(new_br_repeat)\n",
    "\n",
    "                # get the id of the previous detection in the current branch\n",
    "                last_detection = np.array(br)[np.logical_not(np.isnan(br))][-1]\n",
    "                scr = probz[int(last_detection), int(d[\"id\"])]\n",
    "                new_scores.append(scores[i] + scr)\n",
    "\n",
    "            new_br_no_repeat = np.append(br, np.NaN)\n",
    "            new_branches.append(new_br_no_repeat)\n",
    "            new_scores.append(scores[i] + (1 - scr))\n",
    "    return new_branches, new_scores\n"
   ]
  }
 ],
 "metadata": {
  "kernelspec": {
   "display_name": "Python 3",
   "language": "python",
   "name": "python3"
  },
  "language_info": {
   "codemirror_mode": {
    "name": "ipython",
    "version": 3
   },
   "file_extension": ".py",
   "mimetype": "text/x-python",
   "name": "python",
   "nbconvert_exporter": "python",
   "pygments_lexer": "ipython3",
   "version": "3.6.9"
  }
 },
 "nbformat": 4,
 "nbformat_minor": 5
}
