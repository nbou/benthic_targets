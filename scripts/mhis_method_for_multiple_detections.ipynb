{
 "cells": [
  {
   "cell_type": "markdown",
   "id": "3cda7af6",
   "metadata": {},
   "source": [
    "Inputs are a hypothesis (with multiple individual vectors) and a set of simulataneous detections\n",
    "\n",
    "Output is the set of new hypotheses"
   ]
  },
  {
   "cell_type": "code",
   "execution_count": 17,
   "id": "522754b7",
   "metadata": {},
   "outputs": [],
   "source": [
    "import numpy as np\n",
    "import itertools\n",
    "import igraph"
   ]
  },
  {
   "cell_type": "code",
   "execution_count": 28,
   "id": "10421bcb",
   "metadata": {},
   "outputs": [],
   "source": [
    "bg_prob = 0.1"
   ]
  },
  {
   "cell_type": "code",
   "execution_count": 72,
   "id": "10d86ea8",
   "metadata": {},
   "outputs": [],
   "source": [
    "hyp = [[0, np.nan], [np.nan, 1]]\n",
    "score = 1\n",
    "\n",
    "\n",
    "dets = [2, 3]\n"
   ]
  },
  {
   "cell_type": "markdown",
   "id": "d843e3cd",
   "metadata": {},
   "source": [
    "Create the case where all detections are new individuals"
   ]
  },
  {
   "cell_type": "code",
   "execution_count": 73,
   "id": "67ec5271",
   "metadata": {},
   "outputs": [],
   "source": [
    "new_scen = [h + [np.nan] for h in hyp] + [list(np.empty(len(hyp[0])) * np.nan) + [d] for d in dets]"
   ]
  },
  {
   "cell_type": "markdown",
   "id": "6b04abc6",
   "metadata": {},
   "source": [
    "Create branches for the repeat scenarios for each existing branch and the new detections"
   ]
  },
  {
   "cell_type": "code",
   "execution_count": 74,
   "id": "c577efd5",
   "metadata": {},
   "outputs": [],
   "source": [
    "repeat_scen = []\n",
    "for h in hyp:\n",
    "    for d in dets:\n",
    "        repeat_scen.append(h + [d])"
   ]
  },
  {
   "cell_type": "markdown",
   "id": "4bc81118",
   "metadata": {},
   "source": [
    "Append the branches from the two to create all the branches for this step"
   ]
  },
  {
   "cell_type": "code",
   "execution_count": 75,
   "id": "4627048d",
   "metadata": {},
   "outputs": [
    {
     "data": {
      "text/plain": [
       "[[0, nan, nan], [nan, 1, nan], [nan, nan, 2], [nan, nan, 3]]"
      ]
     },
     "execution_count": 75,
     "metadata": {},
     "output_type": "execute_result"
    }
   ],
   "source": [
    "new_scen"
   ]
  },
  {
   "cell_type": "code",
   "execution_count": 76,
   "id": "f08327b5",
   "metadata": {},
   "outputs": [
    {
     "data": {
      "text/plain": [
       "[[0, nan, 2], [0, nan, 3], [nan, 1, 2], [nan, 1, 3]]"
      ]
     },
     "execution_count": 76,
     "metadata": {},
     "output_type": "execute_result"
    }
   ],
   "source": [
    "repeat_scen"
   ]
  },
  {
   "cell_type": "code",
   "execution_count": 77,
   "id": "392bf6c5",
   "metadata": {},
   "outputs": [],
   "source": [
    "all_branches = new_scen + repeat_scen"
   ]
  },
  {
   "cell_type": "code",
   "execution_count": 78,
   "id": "496ac38a",
   "metadata": {},
   "outputs": [
    {
     "data": {
      "text/plain": [
       "[[0, nan, nan],\n",
       " [nan, 1, nan],\n",
       " [nan, nan, 2],\n",
       " [nan, nan, 3],\n",
       " [0, nan, 2],\n",
       " [0, nan, 3],\n",
       " [nan, 1, 2],\n",
       " [nan, 1, 3]]"
      ]
     },
     "execution_count": 78,
     "metadata": {},
     "output_type": "execute_result"
    }
   ],
   "source": [
    "all_branches"
   ]
  },
  {
   "cell_type": "code",
   "execution_count": 79,
   "id": "c34673ff",
   "metadata": {},
   "outputs": [],
   "source": [
    "def get_last_detection_id(br):\n",
    "    return np.array(br)[np.logical_not(np.isnan(br))][-1]"
   ]
  },
  {
   "cell_type": "code",
   "execution_count": 80,
   "id": "088fd9cb",
   "metadata": {},
   "outputs": [],
   "source": [
    "def score_new_branches(branches, bg_prob, probz):\n",
    "    scores = [0] * len(branches)\n",
    "    \n",
    "    for i, br in branches:\n",
    "        # if it's just the padded branches form the existing hypothesis then score is zero\n",
    "        if br[-1] == np.nan:\n",
    "            scores[i] = 0\n",
    "        # if it ends in a new detections, but all nans otherwise then score is the background\n",
    "        elif np.sum(np.logical_not(np.isnan(d[:-1]))) == 0:\n",
    "            scores[i] = bg_prob\n",
    "        # otherwise, calculate the repeat prob\n",
    "        else:\n",
    "            current_det = br[-1]\n",
    "            last_det = get_last_detection_id(br[:-1])\n",
    "            scores[i] = probz[int(last_det), int(current_det)]\n",
    "            \n",
    "    return scores\n",
    "            "
   ]
  },
  {
   "cell_type": "code",
   "execution_count": 95,
   "id": "14685fdc",
   "metadata": {},
   "outputs": [],
   "source": [
    "def make_branches_multi(hypothesis, detection_ids):\n",
    "    # Create the case where all detections are new individuals\n",
    "    new_scen = [h + [np.nan] for h in hyp] + [list(np.empty(len(hyp[0])) * np.nan) + [d] for d in dets]\n",
    "    \n",
    "    repeat_scen = []\n",
    "    for h in hyp:\n",
    "        for d in dets:\n",
    "            repeat_scen.append(h + [d])\n",
    "            \n",
    "    all_branches = new_scen + repeat_scen\n",
    "    return all_branches"
   ]
  },
  {
   "cell_type": "code",
   "execution_count": 81,
   "id": "21a6df77",
   "metadata": {},
   "outputs": [],
   "source": [
    "def make_tree_compat(trees):\n",
    "    trees = np.array(trees)\n",
    "    tree_compat = np.zeros((len(trees), len(trees)))\n",
    "\n",
    "    for step in trees.transpose():\n",
    "        unique, counts = np.unique(step, return_counts=True)\n",
    "        reps = unique[np.where(counts > 1)]\n",
    "        for r in reps:\n",
    "            if r >= 0:\n",
    "                whr = np.where(step == r)\n",
    "                for pair in itertools.permutations(whr[0], r=2):\n",
    "                    tree_compat[pair] = 1\n",
    "    return tree_compat\n",
    "\n",
    "def make_hypotheses_from_trees(trees):\n",
    "\n",
    "    tree_compat = make_tree_compat(trees)\n",
    "    g = igraph.Graph()\n",
    "    nverts = len(trees)\n",
    "    g.add_vertices(nverts)\n",
    "    labels = []\n",
    "    edges = []\n",
    "    for i in range(nverts):\n",
    "        labels.append(str(i))\n",
    "        for ed in np.where(tree_compat[i] ==1)[0]:\n",
    "            edges.append((i,ed))\n",
    "\n",
    "\n",
    "    g.vs[\"label\"] = labels\n",
    "\n",
    "    g.add_edges(edges)\n",
    "    hyps =  g.maximal_independent_vertex_sets()\n",
    "    return hyps\n"
   ]
  },
  {
   "cell_type": "code",
   "execution_count": 82,
   "id": "ec4c2b4e",
   "metadata": {},
   "outputs": [],
   "source": [
    "new_hyp_inds = make_hypotheses_from_trees(all_branches)"
   ]
  },
  {
   "cell_type": "code",
   "execution_count": 83,
   "id": "60d3ff00",
   "metadata": {},
   "outputs": [
    {
     "data": {
      "text/plain": [
       "[(0, 1, 2, 3), (0, 2, 7), (0, 3, 6), (1, 2, 5), (5, 6), (1, 3, 4), (4, 7)]"
      ]
     },
     "execution_count": 83,
     "metadata": {},
     "output_type": "execute_result"
    }
   ],
   "source": [
    "new_hyp_inds"
   ]
  },
  {
   "cell_type": "markdown",
   "id": "6504c895",
   "metadata": {},
   "source": [
    "### Score the new hypotheses\n"
   ]
  },
  {
   "cell_type": "code",
   "execution_count": 85,
   "id": "043009c4",
   "metadata": {},
   "outputs": [],
   "source": [
    "import pandas as pd\n",
    "import matplotlib.pyplot as plt\n",
    "\n",
    "detections = pd.DataFrame()\n",
    "detections[\"id\"] = [0, 1, 2, 3]\n",
    "detections[\"time\"] = [0, 1, 2, 3]\n",
    "detections[\"object_location\"] = [0, 1, 2, 3]"
   ]
  },
  {
   "cell_type": "code",
   "execution_count": 87,
   "id": "9b448a6d",
   "metadata": {},
   "outputs": [],
   "source": [
    "fauna_step = 0.2\n",
    "background_prob = 0.2"
   ]
  },
  {
   "cell_type": "code",
   "execution_count": 92,
   "id": "b2b441aa",
   "metadata": {},
   "outputs": [],
   "source": [
    "from src.hypotheses import build_and_score_hypotheses, generate_hypothesis_matrix"
   ]
  },
  {
   "cell_type": "code",
   "execution_count": null,
   "id": "ab1e8e72",
   "metadata": {},
   "outputs": [],
   "source": []
  },
  {
   "cell_type": "code",
   "execution_count": 93,
   "id": "3dd544a7",
   "metadata": {
    "scrolled": false
   },
   "outputs": [
    {
     "name": "stderr",
     "output_type": "stream",
     "text": [
      "/home/nader/Projects/thesis/benthic_targets/src/hypotheses.py:83: RuntimeWarning: invalid value encountered in true_divide\n",
      "  z_stat = np.divide(dists, faunastep * Dtime)\n"
     ]
    }
   ],
   "source": [
    "probz = generate_hypothesis_matrix(detections, fauna_step)"
   ]
  },
  {
   "cell_type": "code",
   "execution_count": 94,
   "id": "16496cb7",
   "metadata": {},
   "outputs": [
    {
     "data": {
      "text/plain": [
       "array([[           nan, 5.73303144e-07, 5.73303144e-07, 5.73303144e-07],\n",
       "       [5.73303144e-07,            nan, 5.73303144e-07, 5.73303144e-07],\n",
       "       [5.73303144e-07, 5.73303144e-07,            nan, 5.73303144e-07],\n",
       "       [5.73303144e-07, 5.73303144e-07, 5.73303144e-07,            nan]])"
      ]
     },
     "execution_count": 94,
     "metadata": {},
     "output_type": "execute_result"
    }
   ],
   "source": [
    "probz"
   ]
  },
  {
   "cell_type": "code",
   "execution_count": 89,
   "id": "dbceefee",
   "metadata": {
    "scrolled": true
   },
   "outputs": [
    {
     "name": "stderr",
     "output_type": "stream",
     "text": [
      "/home/nader/Projects/thesis/benthic_targets/src/hypotheses.py:83: RuntimeWarning: invalid value encountered in true_divide\n",
      "  z_stat = np.divide(dists, faunastep * Dtime)\n"
     ]
    }
   ],
   "source": [
    "hyps0, scores0 = build_and_score_hypotheses(detections, fauna_step, background_prob)"
   ]
  },
  {
   "cell_type": "code",
   "execution_count": 90,
   "id": "b263ae1e",
   "metadata": {},
   "outputs": [
    {
     "data": {
      "text/plain": [
       "[[[0, nan, nan, nan],\n",
       "  [nan, 1, nan, nan],\n",
       "  [nan, nan, 2, nan],\n",
       "  [nan, nan, nan, 3]],\n",
       " [[0, nan, nan, 3], [nan, 1, nan, nan], [nan, nan, 2, nan]],\n",
       " [[nan, 1, nan, 3], [0, nan, nan, nan], [nan, nan, 2, nan]],\n",
       " [[nan, nan, 2, 3], [0, nan, nan, nan], [nan, 1, nan, nan]],\n",
       " [[0, nan, 2, nan], [nan, 1, nan, nan], [nan, nan, nan, 3]],\n",
       " [[0, nan, 2, 3], [nan, 1, nan, nan]],\n",
       " [[nan, 1, nan, 3], [0, nan, 2, nan]],\n",
       " [[nan, 1, 2, nan], [0, nan, nan, nan], [nan, nan, nan, 3]],\n",
       " [[nan, 1, 2, 3], [0, nan, nan, nan]],\n",
       " [[0, nan, nan, 3], [nan, 1, 2, nan]],\n",
       " [[0, 1, nan, nan], [nan, nan, 2, nan], [nan, nan, nan, 3]],\n",
       " [[0, 1, nan, 3], [nan, nan, 2, nan]],\n",
       " [[nan, nan, 2, 3], [0, 1, nan, nan]],\n",
       " [[0, 1, 2, nan], [nan, nan, nan, 3]],\n",
       " [[0, 1, 2, 3]]]"
      ]
     },
     "execution_count": 90,
     "metadata": {},
     "output_type": "execute_result"
    }
   ],
   "source": [
    "hyps0"
   ]
  },
  {
   "cell_type": "code",
   "execution_count": 91,
   "id": "7018e4fb",
   "metadata": {},
   "outputs": [
    {
     "data": {
      "text/plain": [
       "[0.8,\n",
       " 0.6000005733031439,\n",
       " 0.6000005733031439,\n",
       " 0.6000005733031439,\n",
       " 0.6000005733031439,\n",
       " 0.4000011466062877,\n",
       " 0.4000011466062877,\n",
       " 0.6000005733031439,\n",
       " 0.4000011466062877,\n",
       " 0.4000011466062877,\n",
       " 0.6000005733031439,\n",
       " 0.4000011466062877,\n",
       " 0.4000011466062877,\n",
       " 0.4000011466062877,\n",
       " 0.20000171990943155]"
      ]
     },
     "execution_count": 91,
     "metadata": {},
     "output_type": "execute_result"
    }
   ],
   "source": [
    "scores0"
   ]
  },
  {
   "cell_type": "code",
   "execution_count": null,
   "id": "1d27ea98",
   "metadata": {},
   "outputs": [],
   "source": []
  }
 ],
 "metadata": {
  "kernelspec": {
   "display_name": "Python 3",
   "language": "python",
   "name": "python3"
  },
  "language_info": {
   "codemirror_mode": {
    "name": "ipython",
    "version": 3
   },
   "file_extension": ".py",
   "mimetype": "text/x-python",
   "name": "python",
   "nbconvert_exporter": "python",
   "pygments_lexer": "ipython3",
   "version": "3.6.9"
  }
 },
 "nbformat": 4,
 "nbformat_minor": 5
}
