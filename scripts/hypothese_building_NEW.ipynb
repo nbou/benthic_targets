{
 "cells": [
  {
   "cell_type": "code",
   "execution_count": 8,
   "id": "ac6ee9bf",
   "metadata": {},
   "outputs": [],
   "source": [
    "import pandas as pd\n",
    "import numpy as np"
   ]
  },
  {
   "cell_type": "code",
   "execution_count": 2,
   "id": "8b4e02f7",
   "metadata": {},
   "outputs": [],
   "source": [
    "detections = pd.DataFrame()\n",
    "detections[\"id\"] = [0, 1, 2]\n",
    "detections[\"time\"] = [0, 1,2]\n",
    "detections[\"object_location\"] = [0, 1, 2]"
   ]
  },
  {
   "cell_type": "code",
   "execution_count": 4,
   "id": "c3032c59",
   "metadata": {},
   "outputs": [
    {
     "data": {
      "text/html": [
       "<div>\n",
       "<style scoped>\n",
       "    .dataframe tbody tr th:only-of-type {\n",
       "        vertical-align: middle;\n",
       "    }\n",
       "\n",
       "    .dataframe tbody tr th {\n",
       "        vertical-align: top;\n",
       "    }\n",
       "\n",
       "    .dataframe thead th {\n",
       "        text-align: right;\n",
       "    }\n",
       "</style>\n",
       "<table border=\"1\" class=\"dataframe\">\n",
       "  <thead>\n",
       "    <tr style=\"text-align: right;\">\n",
       "      <th></th>\n",
       "      <th>id</th>\n",
       "      <th>time</th>\n",
       "      <th>object_location</th>\n",
       "    </tr>\n",
       "  </thead>\n",
       "  <tbody>\n",
       "    <tr>\n",
       "      <th>0</th>\n",
       "      <td>0</td>\n",
       "      <td>0</td>\n",
       "      <td>0</td>\n",
       "    </tr>\n",
       "    <tr>\n",
       "      <th>1</th>\n",
       "      <td>1</td>\n",
       "      <td>1</td>\n",
       "      <td>1</td>\n",
       "    </tr>\n",
       "    <tr>\n",
       "      <th>2</th>\n",
       "      <td>2</td>\n",
       "      <td>2</td>\n",
       "      <td>2</td>\n",
       "    </tr>\n",
       "  </tbody>\n",
       "</table>\n",
       "</div>"
      ],
      "text/plain": [
       "   id  time  object_location\n",
       "0   0     0                0\n",
       "1   1     1                1\n",
       "2   2     2                2"
      ]
     },
     "execution_count": 4,
     "metadata": {},
     "output_type": "execute_result"
    }
   ],
   "source": [
    "detections"
   ]
  },
  {
   "cell_type": "markdown",
   "id": "b5aaa2cd",
   "metadata": {},
   "source": [
    "After time 0 we have one hypothesis"
   ]
  },
  {
   "cell_type": "code",
   "execution_count": 5,
   "id": "60277b22",
   "metadata": {},
   "outputs": [],
   "source": [
    "hyps = [[[0]]]"
   ]
  },
  {
   "cell_type": "markdown",
   "id": "04561dcb",
   "metadata": {},
   "source": [
    "Get detections at time 1"
   ]
  },
  {
   "cell_type": "code",
   "execution_count": 6,
   "id": "153a7bd3",
   "metadata": {},
   "outputs": [],
   "source": [
    "det_1 = detections[detections.time == 1]\n",
    "\n",
    "detection_id = det_1.iloc[0].id\n",
    "detection_time = det_1.iloc[0].time\n",
    "detection_pos = det_1.iloc[0].object_location\n"
   ]
  },
  {
   "cell_type": "code",
   "execution_count": 9,
   "id": "ca2c7daa",
   "metadata": {},
   "outputs": [
    {
     "name": "stdout",
     "output_type": "stream",
     "text": [
      "[[0, nan], [nan, 1]]\n"
     ]
    }
   ],
   "source": [
    "new_hyps = []\n",
    "# go through hypotheses\n",
    "for hyp in hyps:\n",
    "    \n",
    "    # scenario where the new detection is a new individual\n",
    "    # pad existing branches\n",
    "  \n",
    "    new_scen = [ h + [np.nan] for h in hyp] + [list(np.empty(len(hyp[0]))*np.nan) + [detection_id]]\n",
    "    new_hyps.append(new_scen)\n",
    "    # go through the branches in the hypothesis\n",
    "    for i, branch in enumerate(hyp):\n",
    "        # scenario where the new detection is a repeat\n",
    "        repeat_scen = [branch + [detection_id]]\n",
    "        repeat_scen += [hyp[j] + [np.nan]  for j in range(len(hyp)) if j!=i]\n",
    "        \n",
    "        new_hyps.append(repeat_scen)"
   ]
  },
  {
   "cell_type": "code",
   "execution_count": 25,
   "id": "bcacfbb8",
   "metadata": {},
   "outputs": [],
   "source": [
    "hyps = new_hyps\n",
    "\n",
    "det_2 = detections[detections[\"time\"]==2]\n",
    "detection_id = det_2.iloc[0].id\n",
    "detection_time = det_2.iloc[0].time\n",
    "detection_pos = det_2.iloc[0].object_location"
   ]
  },
  {
   "cell_type": "code",
   "execution_count": 26,
   "id": "8e52fbe4",
   "metadata": {},
   "outputs": [],
   "source": [
    "new_hyps = []\n",
    "# go through hypotheses\n",
    "for hyp in hyps:\n",
    "    \n",
    "    # scenario where the new detection is a new individual\n",
    "    # pad existing branches\n",
    "  \n",
    "    new_scen = [ h + [np.nan] for h in hyp] + [list(np.empty(len(hyp[0]))*np.nan) + [detection_id]]\n",
    "    new_hyps.append(new_scen)\n",
    "    # go through the branches in the hypothesis\n",
    "    for i, branch in enumerate(hyp):\n",
    "        # scenario where the new detection is a repeat\n",
    "        repeat_scen = [branch + [detection_id]]\n",
    "        repeat_scen += [hyp[j] + [np.nan]  for j in range(len(hyp)) if j!=i]\n",
    "        \n",
    "        new_hyps.append(repeat_scen)"
   ]
  },
  {
   "cell_type": "code",
   "execution_count": 27,
   "id": "bb97cbb0",
   "metadata": {},
   "outputs": [
    {
     "data": {
      "text/plain": [
       "[[[0, nan, nan, nan, nan],\n",
       "  [nan, 1, nan, nan, nan],\n",
       "  [nan, nan, 2, nan, nan],\n",
       "  [nan, nan, nan, 2, nan],\n",
       "  [nan, nan, nan, nan, 2]],\n",
       " [[0, nan, nan, nan, 2],\n",
       "  [nan, 1, nan, nan, nan],\n",
       "  [nan, nan, 2, nan, nan],\n",
       "  [nan, nan, nan, 2, nan]],\n",
       " [[nan, 1, nan, nan, 2],\n",
       "  [0, nan, nan, nan, nan],\n",
       "  [nan, nan, 2, nan, nan],\n",
       "  [nan, nan, nan, 2, nan]],\n",
       " [[nan, nan, 2, nan, 2],\n",
       "  [0, nan, nan, nan, nan],\n",
       "  [nan, 1, nan, nan, nan],\n",
       "  [nan, nan, nan, 2, nan]],\n",
       " [[nan, nan, nan, 2, 2],\n",
       "  [0, nan, nan, nan, nan],\n",
       "  [nan, 1, nan, nan, nan],\n",
       "  [nan, nan, 2, nan, nan]],\n",
       " [[0, nan, nan, 2, nan],\n",
       "  [nan, 1, nan, nan, nan],\n",
       "  [nan, nan, 2, nan, nan],\n",
       "  [nan, nan, nan, nan, 2]],\n",
       " [[0, nan, nan, 2, 2], [nan, 1, nan, nan, nan], [nan, nan, 2, nan, nan]],\n",
       " [[nan, 1, nan, nan, 2], [0, nan, nan, 2, nan], [nan, nan, 2, nan, nan]],\n",
       " [[nan, nan, 2, nan, 2], [0, nan, nan, 2, nan], [nan, 1, nan, nan, nan]],\n",
       " [[nan, 1, nan, 2, nan],\n",
       "  [0, nan, nan, nan, nan],\n",
       "  [nan, nan, 2, nan, nan],\n",
       "  [nan, nan, nan, nan, 2]],\n",
       " [[nan, 1, nan, 2, 2], [0, nan, nan, nan, nan], [nan, nan, 2, nan, nan]],\n",
       " [[0, nan, nan, nan, 2], [nan, 1, nan, 2, nan], [nan, nan, 2, nan, nan]],\n",
       " [[nan, nan, 2, nan, 2], [nan, 1, nan, 2, nan], [0, nan, nan, nan, nan]],\n",
       " [[nan, nan, 2, 2, nan],\n",
       "  [0, nan, nan, nan, nan],\n",
       "  [nan, 1, nan, nan, nan],\n",
       "  [nan, nan, nan, nan, 2]],\n",
       " [[nan, nan, 2, 2, 2], [0, nan, nan, nan, nan], [nan, 1, nan, nan, nan]],\n",
       " [[0, nan, nan, nan, 2], [nan, nan, 2, 2, nan], [nan, 1, nan, nan, nan]],\n",
       " [[nan, 1, nan, nan, 2], [nan, nan, 2, 2, nan], [0, nan, nan, nan, nan]],\n",
       " [[0, nan, 2, nan, nan],\n",
       "  [nan, 1, nan, nan, nan],\n",
       "  [nan, nan, nan, 2, nan],\n",
       "  [nan, nan, nan, nan, 2]],\n",
       " [[0, nan, 2, nan, 2], [nan, 1, nan, nan, nan], [nan, nan, nan, 2, nan]],\n",
       " [[nan, 1, nan, nan, 2], [0, nan, 2, nan, nan], [nan, nan, nan, 2, nan]],\n",
       " [[nan, nan, nan, 2, 2], [0, nan, 2, nan, nan], [nan, 1, nan, nan, nan]],\n",
       " [[0, nan, 2, 2, nan], [nan, 1, nan, nan, nan], [nan, nan, nan, nan, 2]],\n",
       " [[0, nan, 2, 2, 2], [nan, 1, nan, nan, nan]],\n",
       " [[nan, 1, nan, nan, 2], [0, nan, 2, 2, nan]],\n",
       " [[nan, 1, nan, 2, nan], [0, nan, 2, nan, nan], [nan, nan, nan, nan, 2]],\n",
       " [[nan, 1, nan, 2, 2], [0, nan, 2, nan, nan]],\n",
       " [[0, nan, 2, nan, 2], [nan, 1, nan, 2, nan]],\n",
       " [[nan, 1, 2, nan, nan],\n",
       "  [0, nan, nan, nan, nan],\n",
       "  [nan, nan, nan, 2, nan],\n",
       "  [nan, nan, nan, nan, 2]],\n",
       " [[nan, 1, 2, nan, 2], [0, nan, nan, nan, nan], [nan, nan, nan, 2, nan]],\n",
       " [[0, nan, nan, nan, 2], [nan, 1, 2, nan, nan], [nan, nan, nan, 2, nan]],\n",
       " [[nan, nan, nan, 2, 2], [nan, 1, 2, nan, nan], [0, nan, nan, nan, nan]],\n",
       " [[nan, 1, 2, 2, nan], [0, nan, nan, nan, nan], [nan, nan, nan, nan, 2]],\n",
       " [[nan, 1, 2, 2, 2], [0, nan, nan, nan, nan]],\n",
       " [[0, nan, nan, nan, 2], [nan, 1, 2, 2, nan]],\n",
       " [[0, nan, nan, 2, nan], [nan, 1, 2, nan, nan], [nan, nan, nan, nan, 2]],\n",
       " [[0, nan, nan, 2, 2], [nan, 1, 2, nan, nan]],\n",
       " [[nan, 1, 2, nan, 2], [0, nan, nan, 2, nan]],\n",
       " [[0, 1, nan, nan, nan],\n",
       "  [nan, nan, 2, nan, nan],\n",
       "  [nan, nan, nan, 2, nan],\n",
       "  [nan, nan, nan, nan, 2]],\n",
       " [[0, 1, nan, nan, 2], [nan, nan, 2, nan, nan], [nan, nan, nan, 2, nan]],\n",
       " [[nan, nan, 2, nan, 2], [0, 1, nan, nan, nan], [nan, nan, nan, 2, nan]],\n",
       " [[nan, nan, nan, 2, 2], [0, 1, nan, nan, nan], [nan, nan, 2, nan, nan]],\n",
       " [[0, 1, nan, 2, nan], [nan, nan, 2, nan, nan], [nan, nan, nan, nan, 2]],\n",
       " [[0, 1, nan, 2, 2], [nan, nan, 2, nan, nan]],\n",
       " [[nan, nan, 2, nan, 2], [0, 1, nan, 2, nan]],\n",
       " [[nan, nan, 2, 2, nan], [0, 1, nan, nan, nan], [nan, nan, nan, nan, 2]],\n",
       " [[nan, nan, 2, 2, 2], [0, 1, nan, nan, nan]],\n",
       " [[0, 1, nan, nan, 2], [nan, nan, 2, 2, nan]],\n",
       " [[0, 1, 2, nan, nan], [nan, nan, nan, 2, nan], [nan, nan, nan, nan, 2]],\n",
       " [[0, 1, 2, nan, 2], [nan, nan, nan, 2, nan]],\n",
       " [[nan, nan, nan, 2, 2], [0, 1, 2, nan, nan]],\n",
       " [[0, 1, 2, 2, nan], [nan, nan, nan, nan, 2]],\n",
       " [[0, 1, 2, 2, 2]]]"
      ]
     },
     "execution_count": 27,
     "metadata": {},
     "output_type": "execute_result"
    }
   ],
   "source": [
    "new_hyps"
   ]
  },
  {
   "cell_type": "code",
   "execution_count": null,
   "id": "1c64e353",
   "metadata": {},
   "outputs": [],
   "source": []
  }
 ],
 "metadata": {
  "kernelspec": {
   "display_name": "Python 3",
   "language": "python",
   "name": "python3"
  },
  "language_info": {
   "codemirror_mode": {
    "name": "ipython",
    "version": 3
   },
   "file_extension": ".py",
   "mimetype": "text/x-python",
   "name": "python",
   "nbconvert_exporter": "python",
   "pygments_lexer": "ipython3",
   "version": "3.6.9"
  }
 },
 "nbformat": 4,
 "nbformat_minor": 5
}
