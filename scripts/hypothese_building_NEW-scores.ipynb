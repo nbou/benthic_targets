{
 "cells": [
  {
   "cell_type": "code",
   "execution_count": 1,
   "id": "ac6ee9bf",
   "metadata": {},
   "outputs": [],
   "source": [
    "import pandas as pd\n",
    "import numpy as np"
   ]
  },
  {
   "cell_type": "code",
   "execution_count": 2,
   "id": "8e5bc82d",
   "metadata": {},
   "outputs": [],
   "source": [
    "from src.generate_trees_scores_DEBUG import two_tail_prob"
   ]
  },
  {
   "cell_type": "code",
   "execution_count": 3,
   "id": "10804872",
   "metadata": {},
   "outputs": [],
   "source": [
    "def get_last_detection_id(br):\n",
    "    return np.array(br)[np.logical_not(np.isnan(br))][-1]"
   ]
  },
  {
   "cell_type": "code",
   "execution_count": 27,
   "id": "0ff5d56c",
   "metadata": {},
   "outputs": [],
   "source": [
    "def update_hyps_scores(det, hyps, scores, probz, bg_prob):\n",
    "    \n",
    "    detection_id = det.iloc[0].id\n",
    "    detection_time = det.iloc[0].time\n",
    "    detection_pos = det.iloc[0].object_location\n",
    "    \n",
    "    new_hyps = []\n",
    "    new_scores = []\n",
    "\n",
    "    # go through hypotheses\n",
    "    for hyp_i, hyp in enumerate(hyps):\n",
    "        existing_score = scores[hyp_i]\n",
    "\n",
    "        # scenario where the new detection is a new individual\n",
    "        # pad existing branches\n",
    "\n",
    "        new_scen = [ h + [np.nan] for h in hyp] + [list(np.empty(len(hyp[0]))*np.nan) + [detection_id]]\n",
    "        new_hyps.append(new_scen)\n",
    "\n",
    "        # score is the existing + background prob\n",
    "        new_scores.append(existing_score + bg_prob)\n",
    "\n",
    "        # go through the branches in the hypothesis\n",
    "        for i, branch in enumerate(hyp):\n",
    "\n",
    "            # scenario where the new detection is a repeat\n",
    "            repeat_scen = [branch + [detection_id]]\n",
    "            repeat_scen += [hyp[j] + [np.nan]  for j in range(len(hyp)) if j!=i]\n",
    "\n",
    "            new_hyps.append(repeat_scen)\n",
    "            # calculate score\n",
    "            last_detection = get_last_detection_id(branch)\n",
    "            new_scores.append( existing_score +probz[int(last_detection), detection_id])\n",
    "    return new_hyps, new_scores"
   ]
  },
  {
   "cell_type": "code",
   "execution_count": 28,
   "id": "8b4e02f7",
   "metadata": {},
   "outputs": [],
   "source": [
    "detections = pd.DataFrame()\n",
    "detections[\"id\"] = [0, 1, 2]\n",
    "detections[\"time\"] = [0, 1,2]\n",
    "detections[\"object_location\"] = [0, 1, 2]"
   ]
  },
  {
   "cell_type": "code",
   "execution_count": 29,
   "id": "546239ac",
   "metadata": {},
   "outputs": [
    {
     "name": "stderr",
     "output_type": "stream",
     "text": [
      "/home/nader/Projects/thesis/benthic_targets/venv/lib/python3.6/site-packages/ipykernel_launcher.py:10: RuntimeWarning: invalid value encountered in true_divide\n",
      "  # Remove the CWD from sys.path while we load stuff.\n"
     ]
    }
   ],
   "source": [
    "faunastep = 0.8\n",
    "n_dets = len(detections)\n",
    "dists = np.zeros((len(detections), len(detections)))\n",
    "Dtime = np.zeros((len(detections), len(detections)))\n",
    "for i in range(n_dets):\n",
    "    for j in range(n_dets):\n",
    "        dists[i, j] = np.abs(detections.loc[i][\"object_location\"] - detections.loc[j][\"object_location\"])\n",
    "        Dtime[i, j] = np.abs(detections.loc[i][\"time\"] - detections.loc[j][\"time\"])\n",
    "\n",
    "z_stat = np.divide(dists, faunastep * Dtime)\n",
    "probz = two_tail_prob(z_stat)\n"
   ]
  },
  {
   "cell_type": "code",
   "execution_count": 30,
   "id": "54b1292c",
   "metadata": {},
   "outputs": [],
   "source": [
    "bg_prob = 0.1"
   ]
  },
  {
   "cell_type": "code",
   "execution_count": 31,
   "id": "fc3b58f7",
   "metadata": {},
   "outputs": [
    {
     "data": {
      "text/plain": [
       "array([[       nan, 0.21129955, 0.21129955],\n",
       "       [0.21129955,        nan, 0.21129955],\n",
       "       [0.21129955, 0.21129955,        nan]])"
      ]
     },
     "execution_count": 31,
     "metadata": {},
     "output_type": "execute_result"
    }
   ],
   "source": [
    "probz"
   ]
  },
  {
   "cell_type": "code",
   "execution_count": 32,
   "id": "c3032c59",
   "metadata": {},
   "outputs": [
    {
     "data": {
      "text/html": [
       "<div>\n",
       "<style scoped>\n",
       "    .dataframe tbody tr th:only-of-type {\n",
       "        vertical-align: middle;\n",
       "    }\n",
       "\n",
       "    .dataframe tbody tr th {\n",
       "        vertical-align: top;\n",
       "    }\n",
       "\n",
       "    .dataframe thead th {\n",
       "        text-align: right;\n",
       "    }\n",
       "</style>\n",
       "<table border=\"1\" class=\"dataframe\">\n",
       "  <thead>\n",
       "    <tr style=\"text-align: right;\">\n",
       "      <th></th>\n",
       "      <th>id</th>\n",
       "      <th>time</th>\n",
       "      <th>object_location</th>\n",
       "    </tr>\n",
       "  </thead>\n",
       "  <tbody>\n",
       "    <tr>\n",
       "      <th>0</th>\n",
       "      <td>0</td>\n",
       "      <td>0</td>\n",
       "      <td>0</td>\n",
       "    </tr>\n",
       "    <tr>\n",
       "      <th>1</th>\n",
       "      <td>1</td>\n",
       "      <td>1</td>\n",
       "      <td>1</td>\n",
       "    </tr>\n",
       "    <tr>\n",
       "      <th>2</th>\n",
       "      <td>2</td>\n",
       "      <td>2</td>\n",
       "      <td>2</td>\n",
       "    </tr>\n",
       "  </tbody>\n",
       "</table>\n",
       "</div>"
      ],
      "text/plain": [
       "   id  time  object_location\n",
       "0   0     0                0\n",
       "1   1     1                1\n",
       "2   2     2                2"
      ]
     },
     "execution_count": 32,
     "metadata": {},
     "output_type": "execute_result"
    }
   ],
   "source": [
    "detections"
   ]
  },
  {
   "cell_type": "markdown",
   "id": "b5aaa2cd",
   "metadata": {},
   "source": [
    "After time 0 we have one hypothesis"
   ]
  },
  {
   "cell_type": "code",
   "execution_count": 33,
   "id": "60277b22",
   "metadata": {},
   "outputs": [],
   "source": [
    "hyps = [[[0]]]"
   ]
  },
  {
   "cell_type": "code",
   "execution_count": 34,
   "id": "ef8d4ec5",
   "metadata": {},
   "outputs": [],
   "source": [
    "scores = []\n",
    "scores.append(bg_prob)"
   ]
  },
  {
   "cell_type": "code",
   "execution_count": 35,
   "id": "1884ae1b",
   "metadata": {},
   "outputs": [
    {
     "data": {
      "text/plain": [
       "[0.1]"
      ]
     },
     "execution_count": 35,
     "metadata": {},
     "output_type": "execute_result"
    }
   ],
   "source": [
    "scores"
   ]
  },
  {
   "cell_type": "code",
   "execution_count": 36,
   "id": "6e5d8f49",
   "metadata": {},
   "outputs": [],
   "source": [
    "new_hyps, new_scores = update_hyps_scores(detections[detections.time==1], hyps, scores, probz, bg_prob)"
   ]
  },
  {
   "cell_type": "code",
   "execution_count": 37,
   "id": "b2cd306e",
   "metadata": {},
   "outputs": [
    {
     "data": {
      "text/plain": [
       "([[[0, nan], [nan, 1]], [[0, 1]]], [0.2, 0.3112995473337107])"
      ]
     },
     "execution_count": 37,
     "metadata": {},
     "output_type": "execute_result"
    }
   ],
   "source": [
    "new_hyps, new_scores"
   ]
  },
  {
   "cell_type": "code",
   "execution_count": 38,
   "id": "8a81478b",
   "metadata": {},
   "outputs": [],
   "source": [
    "new_hyps, new_scores = update_hyps_scores(detections[detections.time==2], new_hyps, new_scores, probz, bg_prob)"
   ]
  },
  {
   "cell_type": "code",
   "execution_count": 39,
   "id": "ff9d9a5a",
   "metadata": {},
   "outputs": [
    {
     "data": {
      "text/plain": [
       "([[[0, nan, nan], [nan, 1, nan], [nan, nan, 2]],\n",
       "  [[0, nan, 2], [nan, 1, nan]],\n",
       "  [[nan, 1, 2], [0, nan, nan]],\n",
       "  [[0, 1, nan], [nan, nan, 2]],\n",
       "  [[0, 1, 2]]],\n",
       " [0.30000000000000004,\n",
       "  0.4112995473337107,\n",
       "  0.4112995473337107,\n",
       "  0.41129954733371066,\n",
       "  0.5225990946674214])"
      ]
     },
     "execution_count": 39,
     "metadata": {},
     "output_type": "execute_result"
    }
   ],
   "source": [
    "new_hyps, new_scores"
   ]
  },
  {
   "cell_type": "markdown",
   "id": "04561dcb",
   "metadata": {},
   "source": [
    "Get detections at time 1"
   ]
  },
  {
   "cell_type": "code",
   "execution_count": 12,
   "id": "153a7bd3",
   "metadata": {},
   "outputs": [],
   "source": [
    "det_1 = detections[detections.time == 1]\n",
    "\n",
    "detection_id = det_1.iloc[0].id\n",
    "detection_time = det_1.iloc[0].time\n",
    "detection_pos = det_1.iloc[0].object_location\n"
   ]
  },
  {
   "cell_type": "code",
   "execution_count": 13,
   "id": "51705402",
   "metadata": {},
   "outputs": [
    {
     "data": {
      "text/plain": [
       "3.0"
      ]
     },
     "execution_count": 13,
     "metadata": {},
     "output_type": "execute_result"
    }
   ],
   "source": [
    "a = [1,2,np.nan,3]\n",
    "np.array(a)[np.logical_not(np.isnan(a))][-1]"
   ]
  },
  {
   "cell_type": "code",
   "execution_count": 18,
   "id": "ca2c7daa",
   "metadata": {},
   "outputs": [],
   "source": [
    "new_hyps = []\n",
    "new_scores = []\n",
    "\n",
    "# go through hypotheses\n",
    "for hyp_i, hyp in enumerate(hyps):\n",
    "    existing_score = scores[hyp_i]\n",
    "    \n",
    "    # scenario where the new detection is a new individual\n",
    "    # pad existing branches\n",
    "  \n",
    "    new_scen = [ h + [np.nan] for h in hyp] + [list(np.empty(len(hyp[0]))*np.nan) + [detection_id]]\n",
    "    new_hyps.append(new_scen)\n",
    "    \n",
    "    # score is the existing + background prob\n",
    "    new_scores.append(existing_score + bg_prob)\n",
    "    \n",
    "    # go through the branches in the hypothesis\n",
    "    for i, branch in enumerate(hyp):\n",
    "       \n",
    "        # scenario where the new detection is a repeat\n",
    "        repeat_scen = [branch + [detection_id]]\n",
    "        repeat_scen += [hyp[j] + [np.nan]  for j in range(len(hyp)) if j!=i]\n",
    "        \n",
    "        new_hyps.append(repeat_scen)\n",
    "        # calculate score\n",
    "        last_detection = get_last_detection_id(branch)\n",
    "        new_scores.append( existing_score +probz[int(last_detection), detection_id])\n",
    "        "
   ]
  },
  {
   "cell_type": "code",
   "execution_count": 15,
   "id": "63fc6476",
   "metadata": {},
   "outputs": [
    {
     "data": {
      "text/plain": [
       "[[[0, nan], [nan, 1]], [[0, 1]]]"
      ]
     },
     "execution_count": 15,
     "metadata": {},
     "output_type": "execute_result"
    }
   ],
   "source": [
    "new_hyps"
   ]
  },
  {
   "cell_type": "code",
   "execution_count": 16,
   "id": "a31e3dc8",
   "metadata": {},
   "outputs": [
    {
     "data": {
      "text/plain": [
       "[0.2, 0.3112995473337107]"
      ]
     },
     "execution_count": 16,
     "metadata": {},
     "output_type": "execute_result"
    }
   ],
   "source": [
    "new_scores"
   ]
  },
  {
   "cell_type": "code",
   "execution_count": 17,
   "id": "bcacfbb8",
   "metadata": {},
   "outputs": [],
   "source": [
    "hyps = new_hyps\n",
    "scores = new_scores\n",
    "det_2 = detections[detections[\"time\"]==2]\n",
    "detection_id = det_2.iloc[0].id\n",
    "detection_time = det_2.iloc[0].time\n",
    "detection_pos = det_2.iloc[0].object_location"
   ]
  },
  {
   "cell_type": "code",
   "execution_count": 18,
   "id": "8e52fbe4",
   "metadata": {},
   "outputs": [],
   "source": [
    "new_hyps = []\n",
    "# go through hypotheses\n",
    "for hyp in hyps:\n",
    "    \n",
    "    # scenario where the new detection is a new individual\n",
    "    # pad existing branches\n",
    "  \n",
    "    new_scen = [ h + [np.nan] for h in hyp] + [list(np.empty(len(hyp[0]))*np.nan) + [detection_id]]\n",
    "    new_hyps.append(new_scen)\n",
    "    # go through the branches in the hypothesis\n",
    "    for i, branch in enumerate(hyp):\n",
    "        # scenario where the new detection is a repeat\n",
    "        repeat_scen = [branch + [detection_id]]\n",
    "        repeat_scen += [hyp[j] + [np.nan]  for j in range(len(hyp)) if j!=i]\n",
    "        \n",
    "        new_hyps.append(repeat_scen)"
   ]
  },
  {
   "cell_type": "code",
   "execution_count": 26,
   "id": "bb97cbb0",
   "metadata": {},
   "outputs": [
    {
     "name": "stdout",
     "output_type": "stream",
     "text": [
      "[[0, nan, nan], [nan, 1, nan], [nan, nan, 2]] 0.3000\n",
      "[[0, nan, 2], [nan, 1, nan]] 0.4113\n",
      "[[nan, 1, 2], [0, nan, nan]] 0.4113\n",
      "[[0, 1, nan], [nan, nan, 2]] 0.4113\n",
      "[[0, 1, 2]] 0.5226\n"
     ]
    }
   ],
   "source": [
    "for i, h in enumerate(new_hyps):\n",
    "    print(h, \"{:.4f}\".format(new_scores[i]))"
   ]
  },
  {
   "cell_type": "code",
   "execution_count": 23,
   "id": "1c64e353",
   "metadata": {},
   "outputs": [
    {
     "data": {
      "text/plain": [
       "[0.2, 0.3112995473337107]"
      ]
     },
     "execution_count": 23,
     "metadata": {},
     "output_type": "execute_result"
    }
   ],
   "source": [
    "new_scores"
   ]
  },
  {
   "cell_type": "code",
   "execution_count": null,
   "id": "879b6845",
   "metadata": {},
   "outputs": [],
   "source": []
  }
 ],
 "metadata": {
  "kernelspec": {
   "display_name": "Python 3",
   "language": "python",
   "name": "python3"
  },
  "language_info": {
   "codemirror_mode": {
    "name": "ipython",
    "version": 3
   },
   "file_extension": ".py",
   "mimetype": "text/x-python",
   "name": "python",
   "nbconvert_exporter": "python",
   "pygments_lexer": "ipython3",
   "version": "3.6.9"
  }
 },
 "nbformat": 4,
 "nbformat_minor": 5
}
