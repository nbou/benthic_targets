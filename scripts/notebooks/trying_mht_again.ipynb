{
 "cells": [
  {
   "cell_type": "code",
   "execution_count": 1,
   "id": "ab04f2bb",
   "metadata": {},
   "outputs": [],
   "source": [
    "import numpy as np\n",
    "from scipy.spatial.distance import mahalanobis, euclidean"
   ]
  },
  {
   "cell_type": "code",
   "execution_count": 2,
   "id": "56e9a14b",
   "metadata": {},
   "outputs": [],
   "source": [
    "import pandas as pd\n",
    "import numpy as np"
   ]
  },
  {
   "cell_type": "code",
   "execution_count": 3,
   "id": "7dc24e5c",
   "metadata": {},
   "outputs": [],
   "source": [
    "def update_tracks(det, hyps):\n",
    "    new_hyps=[]\n",
    "    for i, hyp in enumerate(hyps):\n",
    "        for detection_id in det.ind.unique():\n",
    "            repeat_scen = hyp + [detection_id]\n",
    "            new_hyps.append(repeat_scen)\n",
    "    return new_hyps"
   ]
  },
  {
   "cell_type": "code",
   "execution_count": 28,
   "id": "8ce1ef3c",
   "metadata": {},
   "outputs": [],
   "source": [
    "def score_del(new_pos, old_pos, area, var):\n",
    "    cov = np.array([[var, 0], [0, var]])\n",
    "    mah = mahalanobis(old_pos, new_pos, cov)\n",
    "    delta = np.log(np.divide(area, 2*np.pi)) - 0.5*np.log(np.linalg.det(cov)) - 0.5*mah\n",
    "    return delta, mah\n",
    "\n",
    "\n",
    "def get_this_last_det(detections, track):\n",
    "    t = len(track) -1\n",
    "    \n",
    "    this = track[-1]\n",
    "    this_pos = detections[(detections.time == t) & (detections.ind == this)][[\"x\", \"y\"]].to_numpy()\n",
    "    \n",
    "    if this == 0:\n",
    "        last = np.Nan\n",
    "        return this_pos, np.Nan\n",
    "    else:\n",
    "        last_t = np.max(np.nonzero(track[:-1]))\n",
    "        last = track[last_t]\n",
    "        last_pos = detections[(detections.time == last_t) & (detections.ind == last)][[\"x\", \"y\"]].to_numpy()\n",
    "        return this_pos, last_pos\n",
    "    \n",
    "\n",
    "def score_tracks(tracks, scores, detections, area, var):\n",
    "    tracks = np.shape(tracks)\n",
    "    t = tracks.shape[1] - 1\n",
    "    \n",
    "    dets = detections[detections.time == t]\n",
    "    \n",
    "    new_scores = []\n",
    "    for i, track in enumerate(tracks):\n",
    "\n",
    "        \n",
    "        \n",
    "        \n",
    "        new_scores.append(scores[i] + score_del(new_pos, old_pos, area, var))\n",
    "    \n",
    "    return new_scores\n",
    "        \n",
    "        "
   ]
  },
  {
   "cell_type": "code",
   "execution_count": 29,
   "id": "4524df83",
   "metadata": {},
   "outputs": [
    {
     "data": {
      "text/plain": [
       "[1]"
      ]
     },
     "execution_count": 29,
     "metadata": {},
     "output_type": "execute_result"
    }
   ],
   "source": [
    "tracks[0]"
   ]
  },
  {
   "cell_type": "code",
   "execution_count": 30,
   "id": "f5ca8225",
   "metadata": {},
   "outputs": [
    {
     "ename": "ValueError",
     "evalue": "zero-size array to reduction operation maximum which has no identity",
     "output_type": "error",
     "traceback": [
      "\u001b[0;31m---------------------------------------------------------------------------\u001b[0m",
      "\u001b[0;31mValueError\u001b[0m                                Traceback (most recent call last)",
      "\u001b[0;32m<ipython-input-30-ac9c2befbdc3>\u001b[0m in \u001b[0;36m<module>\u001b[0;34m\u001b[0m\n\u001b[0;32m----> 1\u001b[0;31m \u001b[0mget_this_last_det\u001b[0m\u001b[0;34m(\u001b[0m\u001b[0mdetections\u001b[0m\u001b[0;34m,\u001b[0m \u001b[0mtracks\u001b[0m\u001b[0;34m[\u001b[0m\u001b[0;36m0\u001b[0m\u001b[0;34m]\u001b[0m\u001b[0;34m)\u001b[0m\u001b[0;34m\u001b[0m\u001b[0;34m\u001b[0m\u001b[0m\n\u001b[0m",
      "\u001b[0;32m<ipython-input-28-4722f501267a>\u001b[0m in \u001b[0;36mget_this_last_det\u001b[0;34m(detections, track)\u001b[0m\n\u001b[1;32m     16\u001b[0m         \u001b[0;32mreturn\u001b[0m \u001b[0mthis_pos\u001b[0m\u001b[0;34m,\u001b[0m \u001b[0mnp\u001b[0m\u001b[0;34m.\u001b[0m\u001b[0mNan\u001b[0m\u001b[0;34m\u001b[0m\u001b[0;34m\u001b[0m\u001b[0m\n\u001b[1;32m     17\u001b[0m     \u001b[0;32melse\u001b[0m\u001b[0;34m:\u001b[0m\u001b[0;34m\u001b[0m\u001b[0;34m\u001b[0m\u001b[0m\n\u001b[0;32m---> 18\u001b[0;31m         \u001b[0mlast_t\u001b[0m \u001b[0;34m=\u001b[0m \u001b[0mnp\u001b[0m\u001b[0;34m.\u001b[0m\u001b[0mmax\u001b[0m\u001b[0;34m(\u001b[0m\u001b[0mnp\u001b[0m\u001b[0;34m.\u001b[0m\u001b[0mnonzero\u001b[0m\u001b[0;34m(\u001b[0m\u001b[0mtrack\u001b[0m\u001b[0;34m[\u001b[0m\u001b[0;34m:\u001b[0m\u001b[0;34m-\u001b[0m\u001b[0;36m1\u001b[0m\u001b[0;34m]\u001b[0m\u001b[0;34m)\u001b[0m\u001b[0;34m)\u001b[0m\u001b[0;34m\u001b[0m\u001b[0;34m\u001b[0m\u001b[0m\n\u001b[0m\u001b[1;32m     19\u001b[0m         \u001b[0mlast\u001b[0m \u001b[0;34m=\u001b[0m \u001b[0mtrack\u001b[0m\u001b[0;34m[\u001b[0m\u001b[0mlast_t\u001b[0m\u001b[0;34m]\u001b[0m\u001b[0;34m\u001b[0m\u001b[0;34m\u001b[0m\u001b[0m\n\u001b[1;32m     20\u001b[0m         \u001b[0mlast_pos\u001b[0m \u001b[0;34m=\u001b[0m \u001b[0mdetections\u001b[0m\u001b[0;34m[\u001b[0m\u001b[0;34m(\u001b[0m\u001b[0mdetections\u001b[0m\u001b[0;34m.\u001b[0m\u001b[0mtime\u001b[0m \u001b[0;34m==\u001b[0m \u001b[0mlast_t\u001b[0m\u001b[0;34m)\u001b[0m \u001b[0;34m&\u001b[0m \u001b[0;34m(\u001b[0m\u001b[0mdetections\u001b[0m\u001b[0;34m.\u001b[0m\u001b[0mind\u001b[0m \u001b[0;34m==\u001b[0m \u001b[0mlast\u001b[0m\u001b[0;34m)\u001b[0m\u001b[0;34m]\u001b[0m\u001b[0;34m[\u001b[0m\u001b[0;34m[\u001b[0m\u001b[0;34m\"x\"\u001b[0m\u001b[0;34m,\u001b[0m \u001b[0;34m\"y\"\u001b[0m\u001b[0;34m]\u001b[0m\u001b[0;34m]\u001b[0m\u001b[0;34m.\u001b[0m\u001b[0mto_numpy\u001b[0m\u001b[0;34m(\u001b[0m\u001b[0;34m)\u001b[0m\u001b[0;34m\u001b[0m\u001b[0;34m\u001b[0m\u001b[0m\n",
      "\u001b[0;32m<__array_function__ internals>\u001b[0m in \u001b[0;36mamax\u001b[0;34m(*args, **kwargs)\u001b[0m\n",
      "\u001b[0;32m~/Projects/thesis/benthic_targets/venv/lib/python3.6/site-packages/numpy/core/fromnumeric.py\u001b[0m in \u001b[0;36mamax\u001b[0;34m(a, axis, out, keepdims, initial, where)\u001b[0m\n\u001b[1;32m   2704\u001b[0m     \"\"\"\n\u001b[1;32m   2705\u001b[0m     return _wrapreduction(a, np.maximum, 'max', axis, None, out,\n\u001b[0;32m-> 2706\u001b[0;31m                           keepdims=keepdims, initial=initial, where=where)\n\u001b[0m\u001b[1;32m   2707\u001b[0m \u001b[0;34m\u001b[0m\u001b[0m\n\u001b[1;32m   2708\u001b[0m \u001b[0;34m\u001b[0m\u001b[0m\n",
      "\u001b[0;32m~/Projects/thesis/benthic_targets/venv/lib/python3.6/site-packages/numpy/core/fromnumeric.py\u001b[0m in \u001b[0;36m_wrapreduction\u001b[0;34m(obj, ufunc, method, axis, dtype, out, **kwargs)\u001b[0m\n\u001b[1;32m     85\u001b[0m                 \u001b[0;32mreturn\u001b[0m \u001b[0mreduction\u001b[0m\u001b[0;34m(\u001b[0m\u001b[0maxis\u001b[0m\u001b[0;34m=\u001b[0m\u001b[0maxis\u001b[0m\u001b[0;34m,\u001b[0m \u001b[0mout\u001b[0m\u001b[0;34m=\u001b[0m\u001b[0mout\u001b[0m\u001b[0;34m,\u001b[0m \u001b[0;34m**\u001b[0m\u001b[0mpasskwargs\u001b[0m\u001b[0;34m)\u001b[0m\u001b[0;34m\u001b[0m\u001b[0;34m\u001b[0m\u001b[0m\n\u001b[1;32m     86\u001b[0m \u001b[0;34m\u001b[0m\u001b[0m\n\u001b[0;32m---> 87\u001b[0;31m     \u001b[0;32mreturn\u001b[0m \u001b[0mufunc\u001b[0m\u001b[0;34m.\u001b[0m\u001b[0mreduce\u001b[0m\u001b[0;34m(\u001b[0m\u001b[0mobj\u001b[0m\u001b[0;34m,\u001b[0m \u001b[0maxis\u001b[0m\u001b[0;34m,\u001b[0m \u001b[0mdtype\u001b[0m\u001b[0;34m,\u001b[0m \u001b[0mout\u001b[0m\u001b[0;34m,\u001b[0m \u001b[0;34m**\u001b[0m\u001b[0mpasskwargs\u001b[0m\u001b[0;34m)\u001b[0m\u001b[0;34m\u001b[0m\u001b[0;34m\u001b[0m\u001b[0m\n\u001b[0m\u001b[1;32m     88\u001b[0m \u001b[0;34m\u001b[0m\u001b[0m\n\u001b[1;32m     89\u001b[0m \u001b[0;34m\u001b[0m\u001b[0m\n",
      "\u001b[0;31mValueError\u001b[0m: zero-size array to reduction operation maximum which has no identity"
     ]
    }
   ],
   "source": [
    "get_this_last_det(detections, tracks[0])"
   ]
  },
  {
   "cell_type": "code",
   "execution_count": 14,
   "id": "8f3a8c0c",
   "metadata": {},
   "outputs": [],
   "source": [
    "detections = pd.DataFrame(columns=['ind', 'time', 'x', 'y'])\n",
    "detections[\"ind\"] = [1, 0, 1, 2, 0, 1, 2]\n",
    "detections[\"time\"] = [0, 1, 1, 1, 2, 2, 2]\n",
    "detections[\"x\"] = [0, np.nan, 0.001, 2, np.nan, 0.002, 2.001]\n",
    "detections[\"y\"] = [0, np.nan, 0.001, 2, np.nan, 0.002, 2.001]\n",
    "\n",
    "detections\n",
    "\n",
    "area = 0.2\n",
    "var = 0.1**2"
   ]
  },
  {
   "cell_type": "code",
   "execution_count": 15,
   "id": "d32ae375",
   "metadata": {},
   "outputs": [],
   "source": [
    "tracks = [[1]]"
   ]
  },
  {
   "cell_type": "code",
   "execution_count": 6,
   "id": "a3469de7",
   "metadata": {},
   "outputs": [
    {
     "data": {
      "text/plain": [
       "[[1, 0], [1, 1], [1, 2]]"
      ]
     },
     "execution_count": 6,
     "metadata": {},
     "output_type": "execute_result"
    }
   ],
   "source": [
    "tracks = update_tracks(detections[detections.time==1], tracks)\n",
    "scores = "
   ]
  },
  {
   "cell_type": "code",
   "execution_count": 7,
   "id": "7c797022",
   "metadata": {},
   "outputs": [
    {
     "data": {
      "text/plain": [
       "[[1, 0, 0],\n",
       " [1, 0, 1],\n",
       " [1, 0, 2],\n",
       " [1, 1, 0],\n",
       " [1, 1, 1],\n",
       " [1, 1, 2],\n",
       " [1, 2, 0],\n",
       " [1, 2, 1],\n",
       " [1, 2, 2]]"
      ]
     },
     "execution_count": 7,
     "metadata": {},
     "output_type": "execute_result"
    }
   ],
   "source": [
    "tracks = update_tracks(detections[detections.time==2], tracks)\n",
    "tracks"
   ]
  },
  {
   "cell_type": "code",
   "execution_count": 9,
   "id": "a06bae69",
   "metadata": {},
   "outputs": [],
   "source": [
    "tracks = np.array(tracks)\n",
    "\n",
    "t_steps = 3"
   ]
  },
  {
   "cell_type": "code",
   "execution_count": 12,
   "id": "e7a23af7",
   "metadata": {},
   "outputs": [
    {
     "data": {
      "text/plain": [
       "array([1, 0, 0])"
      ]
     },
     "execution_count": 12,
     "metadata": {},
     "output_type": "execute_result"
    }
   ],
   "source": [
    "tracks[0]"
   ]
  },
  {
   "cell_type": "markdown",
   "id": "7bd62af6",
   "metadata": {},
   "source": [
    "go through each timestep, build and score tracks"
   ]
  },
  {
   "cell_type": "code",
   "execution_count": 23,
   "id": "94084d39",
   "metadata": {},
   "outputs": [],
   "source": [
    "t = 0\n",
    "dets = detections[detections.time==t]\n",
    "\n",
    "tracks = [[int(d[\"ind\"])] for _, d in dets.iterrows()]\n",
    "score = "
   ]
  },
  {
   "cell_type": "code",
   "execution_count": 24,
   "id": "f109df9d",
   "metadata": {},
   "outputs": [
    {
     "data": {
      "text/plain": [
       "[[1]]"
      ]
     },
     "execution_count": 24,
     "metadata": {},
     "output_type": "execute_result"
    }
   ],
   "source": []
  },
  {
   "cell_type": "code",
   "execution_count": 2,
   "id": "a652c0c8",
   "metadata": {},
   "outputs": [],
   "source": [
    "def simulate2(starting, norm):\n",
    "    return [s + np.random.normal(0, norm, 2) for s in starting]\n",
    "\n",
    "def simulate1(starting, norm):\n",
    "    return [s + np.random.normal(0, norm) for s in starting]\n",
    "\n",
    "def simulate(starting, norm, n_steps, d2=False):\n",
    "    s = [starting]\n",
    "    for i in range(n_steps):\n",
    "        if d2:\n",
    "            s.append(simulate2(s[i], norm))\n",
    "        else:\n",
    "            s.append(simulate1(s[i], norm))\n",
    "    \n",
    "    return np.array(s)"
   ]
  },
  {
   "cell_type": "code",
   "execution_count": 3,
   "id": "5e65da1c",
   "metadata": {},
   "outputs": [],
   "source": [
    "norm = 0.1 **2\n",
    "starting = np.array([[0,0], [1,1], [2,2]])\n",
    "\n",
    "pts = simulate(starting, norm, 1, d2=True)"
   ]
  },
  {
   "cell_type": "code",
   "execution_count": 4,
   "id": "34d9c7e2",
   "metadata": {},
   "outputs": [
    {
     "name": "stdout",
     "output_type": "stream",
     "text": [
      "[[0. 0.]\n",
      " [1. 1.]\n",
      " [2. 2.]]\n",
      "[[-0.01669369  0.00230873]\n",
      " [ 1.00939258  0.98525223]\n",
      " [ 1.98484     2.00090847]]\n"
     ]
    }
   ],
   "source": [
    "for p in pts:\n",
    "    print(p)"
   ]
  },
  {
   "cell_type": "code",
   "execution_count": 5,
   "id": "1759bb90",
   "metadata": {},
   "outputs": [],
   "source": [
    "tracks = pts[0]\n",
    "dets = pts[1]"
   ]
  },
  {
   "cell_type": "code",
   "execution_count": 13,
   "id": "d3e34759",
   "metadata": {},
   "outputs": [],
   "source": [
    "area = 2*2\n",
    "\n"
   ]
  },
  {
   "cell_type": "code",
   "execution_count": 15,
   "id": "4deda2d2",
   "metadata": {},
   "outputs": [
    {
     "name": "stdout",
     "output_type": "stream",
     "text": [
      "[-0.01669369  0.00230873] (2.073303309725542, 0.0016852585865154784)\n",
      "[1.00939258 0.98525223] (2.0036194309624067, 0.14105301611278684)\n",
      "[1.98484    2.00090847] (1.9332273050826274, 0.2818372678723455)\n"
     ]
    }
   ],
   "source": [
    "old = tracks[0] \n",
    "new = dets[0]\n",
    "var = norm\n",
    "area = 0.5\n",
    "cov = np.array([[var, 0], [0,var]])\n",
    "for new in dets:\n",
    "    print(new, score_del(new, old, area, var))\n"
   ]
  },
  {
   "cell_type": "code",
   "execution_count": null,
   "id": "b6c41c8c",
   "metadata": {},
   "outputs": [],
   "source": []
  },
  {
   "cell_type": "code",
   "execution_count": 11,
   "id": "632d5fb3",
   "metadata": {},
   "outputs": [
    {
     "name": "stdout",
     "output_type": "stream",
     "text": [
      "[1.98484    2.00090847] [0. 0.] 0.2818372678723455\n"
     ]
    }
   ],
   "source": [
    "print(new, old, mahalanobis(new, old, cov))"
   ]
  },
  {
   "cell_type": "code",
   "execution_count": 64,
   "id": "7b7ce8ac",
   "metadata": {},
   "outputs": [
    {
     "data": {
      "text/plain": [
       "array([2.02814786, 1.96491661])"
      ]
     },
     "execution_count": 64,
     "metadata": {},
     "output_type": "execute_result"
    }
   ],
   "source": []
  },
  {
   "cell_type": "code",
   "execution_count": 23,
   "id": "930fde2f",
   "metadata": {},
   "outputs": [],
   "source": [
    "import matplotlib.pyplot as plt"
   ]
  },
  {
   "cell_type": "code",
   "execution_count": 24,
   "id": "6c5abd05",
   "metadata": {},
   "outputs": [
    {
     "data": {
      "image/png": "[encoded data removed]",
      "text/plain": [
       "<Figure size 432x288 with 1 Axes>"
      ]
     },
     "metadata": {
      "needs_background": "light"
     },
     "output_type": "display_data"
    }
   ],
   "source": [
    "fig, ax = plt.subplots()\n",
    "for t in range(6):\n",
    "    ax.scatter(pts[t][:,0], pts[t][:,1], c=['#1f77b4', '#ff7f0e', '#2ca02c'])\n",
    "    "
   ]
  },
  {
   "cell_type": "code",
   "execution_count": 30,
   "id": "186972df",
   "metadata": {},
   "outputs": [
    {
     "data": {
      "text/plain": [
       "array([0., 1., 2.])"
      ]
     },
     "execution_count": 30,
     "metadata": {},
     "output_type": "execute_result"
    }
   ],
   "source": [
    "pts[t][:,0]"
   ]
  },
  {
   "cell_type": "code",
   "execution_count": 1,
   "id": "a1c5c3de",
   "metadata": {},
   "outputs": [],
   "source": [
    "import pandas as pd"
   ]
  },
  {
   "cell_type": "code",
   "execution_count": 2,
   "id": "11646bce",
   "metadata": {},
   "outputs": [],
   "source": [
    "detections = pd.DataFrame()"
   ]
  },
  {
   "cell_type": "code",
   "execution_count": 3,
   "id": "f1b0fd15",
   "metadata": {},
   "outputs": [],
   "source": [
    "detections[\"id\"] = [0,1,2]\n",
    "detections[\"time\"] = [0,1,2]\n",
    "detections[\"x\"] = [0,1,2]"
   ]
  },
  {
   "cell_type": "code",
   "execution_count": 4,
   "id": "6309daaa",
   "metadata": {},
   "outputs": [
    {
     "data": {
      "text/html": [
       "<div>\n",
       "<style scoped>\n",
       "    .dataframe tbody tr th:only-of-type {\n",
       "        vertical-align: middle;\n",
       "    }\n",
       "\n",
       "    .dataframe tbody tr th {\n",
       "        vertical-align: top;\n",
       "    }\n",
       "\n",
       "    .dataframe thead th {\n",
       "        text-align: right;\n",
       "    }\n",
       "</style>\n",
       "<table border=\"1\" class=\"dataframe\">\n",
       "  <thead>\n",
       "    <tr style=\"text-align: right;\">\n",
       "      <th></th>\n",
       "      <th>id</th>\n",
       "      <th>time</th>\n",
       "      <th>x</th>\n",
       "    </tr>\n",
       "  </thead>\n",
       "  <tbody>\n",
       "    <tr>\n",
       "      <th>0</th>\n",
       "      <td>0</td>\n",
       "      <td>0</td>\n",
       "      <td>0</td>\n",
       "    </tr>\n",
       "    <tr>\n",
       "      <th>1</th>\n",
       "      <td>1</td>\n",
       "      <td>1</td>\n",
       "      <td>1</td>\n",
       "    </tr>\n",
       "    <tr>\n",
       "      <th>2</th>\n",
       "      <td>2</td>\n",
       "      <td>2</td>\n",
       "      <td>2</td>\n",
       "    </tr>\n",
       "  </tbody>\n",
       "</table>\n",
       "</div>"
      ],
      "text/plain": [
       "   id  time  x\n",
       "0   0     0  0\n",
       "1   1     1  1\n",
       "2   2     2  2"
      ]
     },
     "execution_count": 4,
     "metadata": {},
     "output_type": "execute_result"
    }
   ],
   "source": [
    "detections"
   ]
  },
  {
   "cell_type": "code",
   "execution_count": 5,
   "id": "8488662c",
   "metadata": {},
   "outputs": [],
   "source": [
    "import matplotlib.pyplot as plt"
   ]
  },
  {
   "cell_type": "code",
   "execution_count": 6,
   "id": "9c3f6cd3",
   "metadata": {},
   "outputs": [
    {
     "name": "stderr",
     "output_type": "stream",
     "text": [
      "/home/nader/Projects/thesis/benthic_targets/venv/lib/python3.6/site-packages/ipykernel_launcher.py:3: UserWarning: Matplotlib is currently using module://ipykernel.pylab.backend_inline, which is a non-GUI backend, so cannot show the figure.\n",
      "  This is separate from the ipykernel package so we can avoid doing imports until\n"
     ]
    },
    {
     "data": {
      "image/png": "[encoded data removed]",
      "text/plain": [
       "<Figure size 432x288 with 1 Axes>"
      ]
     },
     "metadata": {
      "needs_background": "light"
     },
     "output_type": "display_data"
    }
   ],
   "source": [
    "fig, ax = plt.subplots()\n",
    "detections.plot(x=\"time\", y=\"x\", kind=\"scatter\", ax=ax)\n",
    "fig.show()"
   ]
  },
  {
   "cell_type": "code",
   "execution_count": 7,
   "id": "b946fad1",
   "metadata": {},
   "outputs": [],
   "source": [
    "import numpy as np"
   ]
  },
  {
   "cell_type": "code",
   "execution_count": 8,
   "id": "8fc72603",
   "metadata": {},
   "outputs": [],
   "source": [
    "def score_del(v, var, dist, new_track=False, pd=0):\n",
    "    if new_track:\n",
    "        scored = np.log(1-pd)\n",
    "    else:\n",
    "        scored = log(v/(2*np.pi)) - 0.5 * np.log(var) - (dist*dist)/2\n",
    "    \n",
    "    return scored\n",
    "    "
   ]
  },
  {
   "cell_type": "code",
   "execution_count": 9,
   "id": "cbca54a1",
   "metadata": {},
   "outputs": [],
   "source": [
    "hyps = [\n",
    "    [[0, 1, 2]],\n",
    "    [[0, np.nan, np.nan], [np.nan, 1, 2] ],\n",
    "    [[0, 1, np.nan], [np.nan, np.nan, 2]],\n",
    "    [[0, np.nan, 2], [np.nan, 1 , np.nan]],\n",
    "    [[0, np.nan, np.nan], [np.nan, 1, np.nan], [np.nan, np.nan, 2]]\n",
    "]"
   ]
  },
  {
   "cell_type": "code",
   "execution_count": 10,
   "id": "c25dd083",
   "metadata": {},
   "outputs": [
    {
     "name": "stdout",
     "output_type": "stream",
     "text": [
      "[[0, 1, 2]]\n",
      "[[0, nan, nan], [nan, 1, 2]]\n",
      "[[0, 1, nan], [nan, nan, 2]]\n",
      "[[0, nan, 2], [nan, 1, nan]]\n",
      "[[0, nan, nan], [nan, 1, nan], [nan, nan, 2]]\n"
     ]
    }
   ],
   "source": [
    "for hyp in hyps:\n",
    "    print(hyp)"
   ]
  },
  {
   "cell_type": "code",
   "execution_count": 11,
   "id": "87aac30c",
   "metadata": {},
   "outputs": [],
   "source": [
    "def two_tail_prob(z):\n",
    "    return 2*(1-stats.norm.cdf(z))\n",
    "\n",
    "def generate_probability_matrix(detections, faunastep):\n",
    "\n",
    "    n_dets = len(detections)\n",
    "    dists = np.zeros((len(detections), len(detections)))\n",
    "    Dtime = np.zeros((len(detections), len(detections)))\n",
    "    for i in range(n_dets):\n",
    "        for j in range(n_dets):\n",
    "            dists[i, j] = np.abs(detections.loc[i][\"object_location\"] - detections.loc[j][\"object_location\"])\n",
    "            Dtime[i, j] = np.abs(detections.loc[i][\"time\"] - detections.loc[j][\"time\"])\n",
    "\n",
    "    z_stat = np.divide(dists, faunastep * Dtime)\n",
    "    return two_tail_prob(z_stat)\n"
   ]
  },
  {
   "cell_type": "code",
   "execution_count": 12,
   "id": "12909b49",
   "metadata": {},
   "outputs": [],
   "source": [
    "from scipy.spatial.distance import mahalanobis"
   ]
  },
  {
   "cell_type": "code",
   "execution_count": 13,
   "id": "d9e042e9",
   "metadata": {},
   "outputs": [],
   "source": [
    "cov = [[1,0],[0,1]]"
   ]
  },
  {
   "cell_type": "code",
   "execution_count": 14,
   "id": "4bc3ac51",
   "metadata": {},
   "outputs": [],
   "source": [
    "p0 = [0,0]\n",
    "p1 = [1,1]"
   ]
  },
  {
   "cell_type": "code",
   "execution_count": 15,
   "id": "18fa6237",
   "metadata": {},
   "outputs": [
    {
     "data": {
      "text/plain": [
       "1.4142135623730951"
      ]
     },
     "execution_count": 15,
     "metadata": {},
     "output_type": "execute_result"
    }
   ],
   "source": [
    "mahalanobis(p0, p1, cov)"
   ]
  },
  {
   "cell_type": "code",
   "execution_count": 16,
   "id": "182d8759",
   "metadata": {},
   "outputs": [],
   "source": [
    "from scipy.spatial.distance import euclidean"
   ]
  },
  {
   "cell_type": "code",
   "execution_count": 17,
   "id": "752a9a50",
   "metadata": {},
   "outputs": [
    {
     "data": {
      "text/plain": [
       "1.4142135623730951"
      ]
     },
     "execution_count": 17,
     "metadata": {},
     "output_type": "execute_result"
    }
   ],
   "source": [
    "euclidean(p0, p1)"
   ]
  },
  {
   "cell_type": "code",
   "execution_count": null,
   "id": "ff094b89",
   "metadata": {},
   "outputs": [],
   "source": []
  }
 ],
 "metadata": {
  "kernelspec": {
   "display_name": "Python 3",
   "language": "python",
   "name": "python3"
  },
  "language_info": {
   "codemirror_mode": {
    "name": "ipython",
    "version": 3
   },
   "file_extension": ".py",
   "mimetype": "text/x-python",
   "name": "python",
   "nbconvert_exporter": "python",
   "pygments_lexer": "ipython3",
   "version": "3.6.9"
  }
 },
 "nbformat": 4,
 "nbformat_minor": 5
}
