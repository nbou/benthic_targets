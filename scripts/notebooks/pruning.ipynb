{
 "cells": [
  {
   "cell_type": "code",
   "execution_count": 61,
   "id": "0b6f5718",
   "metadata": {
    "scrolled": true
   },
   "outputs": [
    {
     "name": "stdout",
     "output_type": "stream",
     "text": [
      "The autoreload extension is already loaded. To reload it, use:\n",
      "  %reload_ext autoreload\n"
     ]
    }
   ],
   "source": [
    "%load_ext autoreload\n",
    "%autoreload 2"
   ]
  },
  {
   "cell_type": "code",
   "execution_count": 62,
   "id": "8a0d66dc",
   "metadata": {},
   "outputs": [],
   "source": [
    "from src.concept_utils import conceptExample, gate_score\n",
    "import numpy as np"
   ]
  },
  {
   "cell_type": "code",
   "execution_count": 98,
   "id": "86d1bc36",
   "metadata": {},
   "outputs": [
    {
     "data": {
      "image/png": "[encoded data removed]",
      "text/plain": [
       "<Figure size 432x288 with 1 Axes>"
      ]
     },
     "metadata": {
      "needs_background": "light"
     },
     "output_type": "display_data"
    },
    {
     "data": {
      "image/png": "[encoded data removed]",
      "text/plain": [
       "<Figure size 432x288 with 1 Axes>"
      ]
     },
     "metadata": {
      "needs_background": "light"
     },
     "output_type": "display_data"
    },
    {
     "data": {
      "image/png": "[encoded data removed]",
      "text/plain": [
       "<Figure size 432x288 with 1 Axes>"
      ]
     },
     "metadata": {
      "needs_background": "light"
     },
     "output_type": "display_data"
    },
    {
     "data": {
      "image/png": "[encoded data removed]",
      "text/plain": [
       "<Figure size 432x288 with 1 Axes>"
      ]
     },
     "metadata": {
      "needs_background": "light"
     },
     "output_type": "display_data"
    }
   ],
   "source": [
    "ce = conceptExample(var=0.1)\n",
    "\n",
    "ce.plot_starting()\n",
    "ce.plot_cams()\n",
    "ce.plot_paths()\n",
    "ce.plot_detections()\n"
   ]
  },
  {
   "cell_type": "code",
   "execution_count": 99,
   "id": "f4ee8c6e",
   "metadata": {},
   "outputs": [
    {
     "data": {
      "text/html": [
       "<div>\n",
       "<style scoped>\n",
       "    .dataframe tbody tr th:only-of-type {\n",
       "        vertical-align: middle;\n",
       "    }\n",
       "\n",
       "    .dataframe tbody tr th {\n",
       "        vertical-align: top;\n",
       "    }\n",
       "\n",
       "    .dataframe thead th {\n",
       "        text-align: right;\n",
       "    }\n",
       "</style>\n",
       "<table border=\"1\" class=\"dataframe\">\n",
       "  <thead>\n",
       "    <tr style=\"text-align: right;\">\n",
       "      <th></th>\n",
       "      <th>time</th>\n",
       "      <th>individual</th>\n",
       "      <th>x</th>\n",
       "      <th>y</th>\n",
       "    </tr>\n",
       "  </thead>\n",
       "  <tbody>\n",
       "    <tr>\n",
       "      <th>0</th>\n",
       "      <td>0</td>\n",
       "      <td>0</td>\n",
       "      <td>0.800000</td>\n",
       "      <td>0.385090</td>\n",
       "    </tr>\n",
       "    <tr>\n",
       "      <th>1</th>\n",
       "      <td>1</td>\n",
       "      <td>0</td>\n",
       "      <td>0.693903</td>\n",
       "      <td>0.411808</td>\n",
       "    </tr>\n",
       "    <tr>\n",
       "      <th>2</th>\n",
       "      <td>2</td>\n",
       "      <td>1</td>\n",
       "      <td>1.948726</td>\n",
       "      <td>0.534014</td>\n",
       "    </tr>\n",
       "    <tr>\n",
       "      <th>3</th>\n",
       "      <td>3</td>\n",
       "      <td>1</td>\n",
       "      <td>1.941339</td>\n",
       "      <td>0.592971</td>\n",
       "    </tr>\n",
       "    <tr>\n",
       "      <th>4</th>\n",
       "      <td>6</td>\n",
       "      <td>2</td>\n",
       "      <td>4.270853</td>\n",
       "      <td>0.137536</td>\n",
       "    </tr>\n",
       "    <tr>\n",
       "      <th>5</th>\n",
       "      <td>7</td>\n",
       "      <td>2</td>\n",
       "      <td>4.251683</td>\n",
       "      <td>0.086452</td>\n",
       "    </tr>\n",
       "  </tbody>\n",
       "</table>\n",
       "</div>"
      ],
      "text/plain": [
       "   time  individual         x         y\n",
       "0     0           0  0.800000  0.385090\n",
       "1     1           0  0.693903  0.411808\n",
       "2     2           1  1.948726  0.534014\n",
       "3     3           1  1.941339  0.592971\n",
       "4     6           2  4.270853  0.137536\n",
       "5     7           2  4.251683  0.086452"
      ]
     },
     "execution_count": 99,
     "metadata": {},
     "output_type": "execute_result"
    }
   ],
   "source": [
    "ce.df"
   ]
  },
  {
   "cell_type": "code",
   "execution_count": 100,
   "id": "0e91fa27",
   "metadata": {},
   "outputs": [],
   "source": [
    "def step_tracks(t, tracks, ce):\n",
    "    det = ce.df[ce.df[\"time\" ]==t]\n",
    "    return ce.update_tracks(det, tracks)"
   ]
  },
  {
   "cell_type": "code",
   "execution_count": 101,
   "id": "fb67ea5b",
   "metadata": {},
   "outputs": [],
   "source": [
    "def step_tracks_scores(t, tracks, ce, scores):\n",
    "    det = ce.df[ce.df[\"time\" ]==t]\n",
    "#     gate_score(t, ce.df, ce.var, ce.thresh, np.multiply(*ce.cam_area), 3/5)\n",
    "    return ce.update_score_tracks(det, tracks, scores)"
   ]
  },
  {
   "cell_type": "code",
   "execution_count": 102,
   "id": "95b45140",
   "metadata": {},
   "outputs": [
    {
     "data": {
      "text/html": [
       "<div>\n",
       "<style scoped>\n",
       "    .dataframe tbody tr th:only-of-type {\n",
       "        vertical-align: middle;\n",
       "    }\n",
       "\n",
       "    .dataframe tbody tr th {\n",
       "        vertical-align: top;\n",
       "    }\n",
       "\n",
       "    .dataframe thead th {\n",
       "        text-align: right;\n",
       "    }\n",
       "</style>\n",
       "<table border=\"1\" class=\"dataframe\">\n",
       "  <thead>\n",
       "    <tr style=\"text-align: right;\">\n",
       "      <th></th>\n",
       "      <th>time</th>\n",
       "      <th>individual</th>\n",
       "      <th>x</th>\n",
       "      <th>y</th>\n",
       "    </tr>\n",
       "  </thead>\n",
       "  <tbody>\n",
       "    <tr>\n",
       "      <th>0</th>\n",
       "      <td>0</td>\n",
       "      <td>0</td>\n",
       "      <td>0.800000</td>\n",
       "      <td>0.385090</td>\n",
       "    </tr>\n",
       "    <tr>\n",
       "      <th>1</th>\n",
       "      <td>1</td>\n",
       "      <td>0</td>\n",
       "      <td>0.693903</td>\n",
       "      <td>0.411808</td>\n",
       "    </tr>\n",
       "    <tr>\n",
       "      <th>2</th>\n",
       "      <td>2</td>\n",
       "      <td>1</td>\n",
       "      <td>1.948726</td>\n",
       "      <td>0.534014</td>\n",
       "    </tr>\n",
       "    <tr>\n",
       "      <th>3</th>\n",
       "      <td>3</td>\n",
       "      <td>1</td>\n",
       "      <td>1.941339</td>\n",
       "      <td>0.592971</td>\n",
       "    </tr>\n",
       "    <tr>\n",
       "      <th>4</th>\n",
       "      <td>6</td>\n",
       "      <td>2</td>\n",
       "      <td>4.270853</td>\n",
       "      <td>0.137536</td>\n",
       "    </tr>\n",
       "    <tr>\n",
       "      <th>5</th>\n",
       "      <td>7</td>\n",
       "      <td>2</td>\n",
       "      <td>4.251683</td>\n",
       "      <td>0.086452</td>\n",
       "    </tr>\n",
       "  </tbody>\n",
       "</table>\n",
       "</div>"
      ],
      "text/plain": [
       "   time  individual         x         y\n",
       "0     0           0  0.800000  0.385090\n",
       "1     1           0  0.693903  0.411808\n",
       "2     2           1  1.948726  0.534014\n",
       "3     3           1  1.941339  0.592971\n",
       "4     6           2  4.270853  0.137536\n",
       "5     7           2  4.251683  0.086452"
      ]
     },
     "execution_count": 102,
     "metadata": {},
     "output_type": "execute_result"
    }
   ],
   "source": [
    "ce.df"
   ]
  },
  {
   "cell_type": "markdown",
   "id": "19ffe7f1",
   "metadata": {},
   "source": [
    "Make tracks and score them"
   ]
  },
  {
   "cell_type": "code",
   "execution_count": 103,
   "id": "771cf5a1",
   "metadata": {},
   "outputs": [],
   "source": [
    "tracks = ce.make_first_track()\n",
    "scores = [0,0]"
   ]
  },
  {
   "cell_type": "code",
   "execution_count": 104,
   "id": "399143f6",
   "metadata": {},
   "outputs": [
    {
     "name": "stdout",
     "output_type": "stream",
     "text": [
      "insnan last\n",
      "insnan last\n",
      "insnan last\n",
      "Gated detection 4 from 0\n",
      "Gated detection 4 from 3\n",
      "Gated detection 4 from 2\n",
      "Gated detection 4 from 3\n",
      "Gated detection 4 from 1\n",
      "Gated detection 4 from 3\n",
      "Gated detection 4 from 2\n",
      "Gated detection 4 from 3\n",
      "insnan last\n",
      "Gated detection 4 from 3\n",
      "Gated detection 4 from 2\n",
      "Gated detection 4 from 3\n",
      "Gated detection 4 from 1\n",
      "Gated detection 4 from 3\n",
      "Gated detection 4 from 2\n",
      "Gated detection 4 from 3\n"
     ]
    }
   ],
   "source": [
    "tracks1, scores1 = step_tracks_scores(1, tracks, ce, scores)\n",
    "tracks2, scores2 = step_tracks_scores(2, tracks1, ce, scores1)\n",
    "tracks3, scores3 = step_tracks_scores(3, tracks2, ce, scores2)\n",
    "tracks4, scores4 = step_tracks_scores(4, tracks3, ce, scores3)\n",
    "tracks5, scores5 = step_tracks_scores(5, tracks4, ce, scores4)\n",
    "tracks6, scores6 = step_tracks_scores(6, tracks5, ce, scores5)"
   ]
  },
  {
   "cell_type": "code",
   "execution_count": 105,
   "id": "b02c8e20",
   "metadata": {},
   "outputs": [
    {
     "data": {
      "text/plain": [
       "-0.916290731874155"
      ]
     },
     "execution_count": 105,
     "metadata": {},
     "output_type": "execute_result"
    }
   ],
   "source": [
    "np.log(0.4)#1-ce.density * np.multiply(*ce.cam_area)"
   ]
  },
  {
   "cell_type": "code",
   "execution_count": 106,
   "id": "577adee9",
   "metadata": {},
   "outputs": [
    {
     "name": "stdout",
     "output_type": "stream",
     "text": [
      "[0, nan] -0.10536051565782628\n",
      "[0, 1] 0.44740890017096163\n",
      "[nan, nan] -0.10536051565782628\n",
      "[nan, 1] -0.10536051565782628\n"
     ]
    }
   ],
   "source": [
    "for i, t in enumerate(tracks1):\n",
    "    print(t, scores1[i])"
   ]
  },
  {
   "cell_type": "code",
   "execution_count": 107,
   "id": "218f568c",
   "metadata": {},
   "outputs": [
    {
     "name": "stdout",
     "output_type": "stream",
     "text": [
      "[0, nan, nan] -0.21072103131565256\n",
      "[0, nan, 2] -0.592812193751166\n",
      "[0, 1, nan] 0.34204838451313535\n",
      "[0, 1, 2] 0.7127733141367227\n",
      "[nan, nan, nan] -0.21072103131565256\n",
      "[nan, nan, 2] -0.21072103131565256\n",
      "[nan, 1, nan] -0.21072103131565256\n",
      "[nan, 1, 2] 0.16000389830793488\n"
     ]
    }
   ],
   "source": [
    "for i, t in enumerate(tracks2):\n",
    "    print(t, scores2[i])"
   ]
  },
  {
   "cell_type": "markdown",
   "id": "61ad7c4e",
   "metadata": {},
   "source": [
    "**Make graph**"
   ]
  },
  {
   "cell_type": "code",
   "execution_count": 108,
   "id": "bec927a2",
   "metadata": {},
   "outputs": [
    {
     "data": {
      "text/plain": [
       "[[0, nan, nan, nan, nan, nan, nan],\n",
       " [0, nan, nan, 3, nan, nan, nan],\n",
       " [0, nan, 2, nan, nan, nan, nan],\n",
       " [0, nan, 2, 3, nan, nan, nan],\n",
       " [0, 1, nan, nan, nan, nan, nan],\n",
       " [0, 1, nan, 3, nan, nan, nan],\n",
       " [0, 1, 2, nan, nan, nan, nan],\n",
       " [0, 1, 2, 3, nan, nan, nan],\n",
       " [nan, nan, nan, nan, nan, nan, nan],\n",
       " [nan, nan, nan, nan, nan, nan, 4],\n",
       " [nan, nan, nan, 3, nan, nan, nan],\n",
       " [nan, nan, 2, nan, nan, nan, nan],\n",
       " [nan, nan, 2, 3, nan, nan, nan],\n",
       " [nan, 1, nan, nan, nan, nan, nan],\n",
       " [nan, 1, nan, 3, nan, nan, nan],\n",
       " [nan, 1, 2, nan, nan, nan, nan],\n",
       " [nan, 1, 2, 3, nan, nan, nan]]"
      ]
     },
     "execution_count": 108,
     "metadata": {},
     "output_type": "execute_result"
    }
   ],
   "source": [
    "tracks6"
   ]
  },
  {
   "cell_type": "code",
   "execution_count": 109,
   "id": "aa5dfc74",
   "metadata": {},
   "outputs": [],
   "source": [
    "gtrack = np.array(tracks6)"
   ]
  },
  {
   "cell_type": "code",
   "execution_count": 110,
   "id": "157dac2f",
   "metadata": {},
   "outputs": [],
   "source": [
    "import igraph"
   ]
  },
  {
   "cell_type": "markdown",
   "id": "af1e61ec",
   "metadata": {},
   "source": [
    "Graph building\n",
    "1. Each track is a node\n",
    "2. tracks which share a detection are incompatible so have an edge between"
   ]
  },
  {
   "cell_type": "markdown",
   "id": "ce146bf2",
   "metadata": {},
   "source": [
    "Make a graph with n vertices (where n is number of tracks)"
   ]
  },
  {
   "cell_type": "code",
   "execution_count": 111,
   "id": "8c380b52",
   "metadata": {},
   "outputs": [],
   "source": [
    "g = igraph.Graph()\n",
    "nverts = len(gtrack)\n",
    "g.add_vertices(nverts)"
   ]
  },
  {
   "cell_type": "markdown",
   "id": "38389c0a",
   "metadata": {},
   "source": [
    "Find the incompatible tracks"
   ]
  },
  {
   "cell_type": "code",
   "execution_count": 112,
   "id": "bfcb466d",
   "metadata": {},
   "outputs": [],
   "source": [
    "edges = []\n",
    "\n",
    "for i, tr in enumerate(gtrack):\n",
    "    diff = tr - gtrack\n",
    "    for d in np.where(diff==0)[0]:\n",
    "        if d != i:\n",
    "            edges.append((i, d))"
   ]
  },
  {
   "cell_type": "markdown",
   "id": "5fb6cdf5",
   "metadata": {},
   "source": [
    "add edges to the graph"
   ]
  },
  {
   "cell_type": "code",
   "execution_count": 113,
   "id": "160795b0",
   "metadata": {},
   "outputs": [],
   "source": [
    "g.add_edges(edges)"
   ]
  },
  {
   "cell_type": "code",
   "execution_count": 114,
   "id": "2960c058",
   "metadata": {},
   "outputs": [],
   "source": [
    "hyps = g.maximal_independent_vertex_sets()"
   ]
  },
  {
   "cell_type": "code",
   "execution_count": 115,
   "id": "722d732a",
   "metadata": {},
   "outputs": [
    {
     "data": {
      "text/plain": [
       "[(0, 8, 9, 10, 11, 13),\n",
       " (0, 8, 9, 10, 15),\n",
       " (0, 8, 9, 16),\n",
       " (0, 8, 9, 11, 14),\n",
       " (0, 8, 9, 12, 13),\n",
       " (1, 8, 9, 11, 13),\n",
       " (1, 8, 9, 15),\n",
       " (2, 8, 9, 10, 13),\n",
       " (2, 8, 9, 14),\n",
       " (3, 8, 9, 13),\n",
       " (4, 8, 9, 10, 11),\n",
       " (4, 8, 9, 12),\n",
       " (5, 8, 9, 11),\n",
       " (6, 8, 9, 10),\n",
       " (7, 8, 9)]"
      ]
     },
     "execution_count": 115,
     "metadata": {},
     "output_type": "execute_result"
    }
   ],
   "source": [
    "hyps"
   ]
  },
  {
   "cell_type": "markdown",
   "id": "745f0cbe",
   "metadata": {},
   "source": [
    "Score the generated hypotheses"
   ]
  },
  {
   "cell_type": "code",
   "execution_count": 116,
   "id": "901014c5",
   "metadata": {},
   "outputs": [],
   "source": [
    "def score_hypotheses(hyps, scores):\n",
    "    hscores = []\n",
    "    for hyp in hyps:\n",
    "        hscores.append(np.sum([scores[h] for h in hyp]))\n",
    "    return hscores"
   ]
  },
  {
   "cell_type": "code",
   "execution_count": 117,
   "id": "74a0ab98",
   "metadata": {},
   "outputs": [],
   "source": [
    "hscores = score_hypotheses(hyps,scores6 )"
   ]
  },
  {
   "cell_type": "code",
   "execution_count": 118,
   "id": "5307b410",
   "metadata": {},
   "outputs": [
    {
     "name": "stdout",
     "output_type": "stream",
     "text": [
      "(0, 8, 9, 10, 11, 13) -3.7929785636817472\n",
      "(0, 8, 9, 10, 15) -2.7900905401112013\n",
      "(0, 8, 9, 16) -1.5972537069956028\n",
      "(0, 8, 9, 11, 14) -3.565755575742573\n",
      "(0, 8, 9, 12, 13) -2.600141730566148\n",
      "(1, 8, 9, 11, 13) -4.007070194950053\n",
      "(1, 8, 9, 15) -3.004182171379507\n",
      "(2, 8, 9, 10, 13) -3.542906632170303\n",
      "(2, 8, 9, 14) -3.315683644231129\n",
      "(3, 8, 9, 13) -2.3500697990547037\n",
      "(4, 8, 9, 10, 11) -2.608046053906001\n",
      "(4, 8, 9, 12) -1.415209220790402\n",
      "(5, 8, 9, 11) -2.380823065966827\n",
      "(6, 8, 9, 10) -1.6051580303354558\n",
      "(7, 8, 9) -0.41232119721985727\n"
     ]
    }
   ],
   "source": [
    "for i, h in enumerate(hscores):\n",
    "    print(hyps[i], h)"
   ]
  },
  {
   "cell_type": "code",
   "execution_count": 119,
   "id": "8cbd9913",
   "metadata": {},
   "outputs": [],
   "source": [
    "nscores = []\n",
    "for i, h in enumerate(hscores):\n",
    "    nscores.append(h/len(hyps[i]))"
   ]
  },
  {
   "cell_type": "code",
   "execution_count": 120,
   "id": "64e93fa3",
   "metadata": {},
   "outputs": [
    {
     "data": {
      "text/plain": [
       "array([ 8,  5,  6,  3,  7,  0, 12,  9,  1, 10,  4, 13,  2, 11, 14])"
      ]
     },
     "execution_count": 120,
     "metadata": {},
     "output_type": "execute_result"
    }
   ],
   "source": [
    "np.argsort(nscores)"
   ]
  },
  {
   "cell_type": "code",
   "execution_count": 121,
   "id": "4812995f",
   "metadata": {},
   "outputs": [
    {
     "data": {
      "text/plain": [
       "array([ 5,  0,  3,  7,  8,  6,  1, 10,  4, 12,  9, 13,  2, 11, 14])"
      ]
     },
     "execution_count": 121,
     "metadata": {},
     "output_type": "execute_result"
    }
   ],
   "source": [
    "np.argsort(hscores)"
   ]
  },
  {
   "cell_type": "code",
   "execution_count": 125,
   "id": "71d454c0",
   "metadata": {
    "scrolled": true
   },
   "outputs": [
    {
     "data": {
      "text/plain": [
       "[array([ 0.,  1., nan, nan, nan, nan, nan]),\n",
       " array([nan, nan, nan, nan, nan, nan, nan]),\n",
       " array([nan, nan, nan, nan, nan, nan,  4.]),\n",
       " array([nan, nan,  2.,  3., nan, nan, nan])]"
      ]
     },
     "execution_count": 125,
     "metadata": {},
     "output_type": "execute_result"
    }
   ],
   "source": [
    "[gtrack[h] for h in hyps[11]]"
   ]
  },
  {
   "cell_type": "code",
   "execution_count": 123,
   "id": "bf81af78",
   "metadata": {},
   "outputs": [
    {
     "ename": "IndexError",
     "evalue": "list index out of range",
     "output_type": "error",
     "traceback": [
      "\u001b[0;31m---------------------------------------------------------------------------\u001b[0m",
      "\u001b[0;31mIndexError\u001b[0m                                Traceback (most recent call last)",
      "\u001b[0;32m<ipython-input-123-da4faa92c35d>\u001b[0m in \u001b[0;36m<module>\u001b[0;34m\u001b[0m\n\u001b[1;32m      1\u001b[0m \u001b[0;32mfor\u001b[0m \u001b[0mi\u001b[0m \u001b[0;32min\u001b[0m \u001b[0;34m[\u001b[0m\u001b[0;36m83\u001b[0m\u001b[0;34m,\u001b[0m \u001b[0;36m101\u001b[0m\u001b[0;34m]\u001b[0m\u001b[0;34m:\u001b[0m\u001b[0;34m\u001b[0m\u001b[0;34m\u001b[0m\u001b[0m\n\u001b[0;32m----> 2\u001b[0;31m     \u001b[0mprint\u001b[0m\u001b[0;34m(\u001b[0m \u001b[0;34m[\u001b[0m\u001b[0mgtrack\u001b[0m\u001b[0;34m[\u001b[0m\u001b[0mh\u001b[0m\u001b[0;34m]\u001b[0m \u001b[0;32mfor\u001b[0m \u001b[0mh\u001b[0m \u001b[0;32min\u001b[0m \u001b[0mhyps\u001b[0m\u001b[0;34m[\u001b[0m\u001b[0mi\u001b[0m\u001b[0;34m]\u001b[0m\u001b[0;34m]\u001b[0m\u001b[0;34m)\u001b[0m\u001b[0;34m\u001b[0m\u001b[0;34m\u001b[0m\u001b[0m\n\u001b[0m\u001b[1;32m      3\u001b[0m     \u001b[0mprint\u001b[0m\u001b[0;34m(\u001b[0m\u001b[0mhscores\u001b[0m\u001b[0;34m[\u001b[0m\u001b[0mi\u001b[0m\u001b[0;34m]\u001b[0m\u001b[0;34m)\u001b[0m\u001b[0;34m\u001b[0m\u001b[0;34m\u001b[0m\u001b[0m\n",
      "\u001b[0;31mIndexError\u001b[0m: list index out of range"
     ]
    }
   ],
   "source": [
    "for i in [83, 101]:\n",
    "    print( [gtrack[h] for h in hyps[i]])\n",
    "    print(hscores[i])"
   ]
  },
  {
   "cell_type": "code",
   "execution_count": 53,
   "id": "64686632",
   "metadata": {},
   "outputs": [
    {
     "data": {
      "text/plain": [
       "9.000000000000002"
      ]
     },
     "execution_count": 53,
     "metadata": {},
     "output_type": "execute_result"
    }
   ],
   "source": [
    "np.linalg.det(np.array([[3, 0], [0, 3]]))"
   ]
  },
  {
   "cell_type": "code",
   "execution_count": 97,
   "id": "97fb9d39",
   "metadata": {},
   "outputs": [
    {
     "data": {
      "text/plain": [
       "-4.605170185988091"
      ]
     },
     "execution_count": 97,
     "metadata": {},
     "output_type": "execute_result"
    }
   ],
   "source": [
    "np.log(0.01)"
   ]
  },
  {
   "cell_type": "code",
   "execution_count": null,
   "id": "95bd0072",
   "metadata": {},
   "outputs": [],
   "source": []
  }
 ],
 "metadata": {
  "kernelspec": {
   "display_name": "Python 3",
   "language": "python",
   "name": "python3"
  },
  "language_info": {
   "codemirror_mode": {
    "name": "ipython",
    "version": 3
   },
   "file_extension": ".py",
   "mimetype": "text/x-python",
   "name": "python",
   "nbconvert_exporter": "python",
   "pygments_lexer": "ipython3",
   "version": "3.6.9"
  }
 },
 "nbformat": 4,
 "nbformat_minor": 5
}
