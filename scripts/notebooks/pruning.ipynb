{
 "cells": [
  {
   "cell_type": "code",
   "execution_count": 1,
   "id": "bc0b6098",
   "metadata": {},
   "outputs": [],
   "source": [
    "%load_ext autoreload\n",
    "%autoreload 2"
   ]
  },
  {
   "cell_type": "code",
   "execution_count": 1,
   "id": "8a0d66dc",
   "metadata": {},
   "outputs": [],
   "source": [
    "from src.concept_utils import conceptExample\n",
    "import numpy as np"
   ]
  },
  {
   "cell_type": "code",
   "execution_count": 4,
   "id": "86d1bc36",
   "metadata": {},
   "outputs": [
    {
     "data": {
      "image/png": "[encoded data removed]",
      "text/plain": [
       "<Figure size 432x288 with 1 Axes>"
      ]
     },
     "metadata": {
      "needs_background": "light"
     },
     "output_type": "display_data"
    },
    {
     "data": {
      "image/png": "[encoded data removed]",
      "text/plain": [
       "<Figure size 432x288 with 1 Axes>"
      ]
     },
     "metadata": {
      "needs_background": "light"
     },
     "output_type": "display_data"
    },
    {
     "data": {
      "image/png": "[encoded data removed]",
      "text/plain": [
       "<Figure size 432x288 with 1 Axes>"
      ]
     },
     "metadata": {
      "needs_background": "light"
     },
     "output_type": "display_data"
    },
    {
     "data": {
      "image/png": "[encoded data removed]",
      "text/plain": [
       "<Figure size 432x288 with 1 Axes>"
      ]
     },
     "metadata": {
      "needs_background": "light"
     },
     "output_type": "display_data"
    }
   ],
   "source": [
    "ce = conceptExample()\n",
    "\n",
    "ce.plot_starting()\n",
    "ce.plot_cams()\n",
    "ce.plot_paths()\n",
    "ce.plot_detections()\n"
   ]
  },
  {
   "cell_type": "code",
   "execution_count": 5,
   "id": "f4ee8c6e",
   "metadata": {},
   "outputs": [
    {
     "data": {
      "text/html": [
       "<div>\n",
       "<style scoped>\n",
       "    .dataframe tbody tr th:only-of-type {\n",
       "        vertical-align: middle;\n",
       "    }\n",
       "\n",
       "    .dataframe tbody tr th {\n",
       "        vertical-align: top;\n",
       "    }\n",
       "\n",
       "    .dataframe thead th {\n",
       "        text-align: right;\n",
       "    }\n",
       "</style>\n",
       "<table border=\"1\" class=\"dataframe\">\n",
       "  <thead>\n",
       "    <tr style=\"text-align: right;\">\n",
       "      <th></th>\n",
       "      <th>time</th>\n",
       "      <th>individual</th>\n",
       "      <th>x</th>\n",
       "      <th>y</th>\n",
       "    </tr>\n",
       "  </thead>\n",
       "  <tbody>\n",
       "    <tr>\n",
       "      <th>0</th>\n",
       "      <td>0</td>\n",
       "      <td>0</td>\n",
       "      <td>0.800000</td>\n",
       "      <td>0.603364</td>\n",
       "    </tr>\n",
       "    <tr>\n",
       "      <th>1</th>\n",
       "      <td>1</td>\n",
       "      <td>0</td>\n",
       "      <td>0.793007</td>\n",
       "      <td>0.602898</td>\n",
       "    </tr>\n",
       "    <tr>\n",
       "      <th>2</th>\n",
       "      <td>2</td>\n",
       "      <td>1</td>\n",
       "      <td>2.147797</td>\n",
       "      <td>0.223862</td>\n",
       "    </tr>\n",
       "    <tr>\n",
       "      <th>3</th>\n",
       "      <td>3</td>\n",
       "      <td>1</td>\n",
       "      <td>2.336837</td>\n",
       "      <td>0.052970</td>\n",
       "    </tr>\n",
       "    <tr>\n",
       "      <th>4</th>\n",
       "      <td>4</td>\n",
       "      <td>1</td>\n",
       "      <td>2.450107</td>\n",
       "      <td>0.112162</td>\n",
       "    </tr>\n",
       "    <tr>\n",
       "      <th>5</th>\n",
       "      <td>7</td>\n",
       "      <td>2</td>\n",
       "      <td>4.795086</td>\n",
       "      <td>0.467576</td>\n",
       "    </tr>\n",
       "  </tbody>\n",
       "</table>\n",
       "</div>"
      ],
      "text/plain": [
       "   time  individual         x         y\n",
       "0     0           0  0.800000  0.603364\n",
       "1     1           0  0.793007  0.602898\n",
       "2     2           1  2.147797  0.223862\n",
       "3     3           1  2.336837  0.052970\n",
       "4     4           1  2.450107  0.112162\n",
       "5     7           2  4.795086  0.467576"
      ]
     },
     "execution_count": 5,
     "metadata": {},
     "output_type": "execute_result"
    }
   ],
   "source": [
    "ce.df"
   ]
  },
  {
   "cell_type": "code",
   "execution_count": 6,
   "id": "0e91fa27",
   "metadata": {},
   "outputs": [],
   "source": [
    "def step_tracks(t, tracks, ce):\n",
    "    det = ce.df[ce.df[\"time\"]==t]\n",
    "    return ce.update_tracks(det, tracks)"
   ]
  },
  {
   "cell_type": "code",
   "execution_count": 32,
   "id": "771cf5a1",
   "metadata": {},
   "outputs": [],
   "source": [
    "tracks = ce.make_first_track()"
   ]
  },
  {
   "cell_type": "code",
   "execution_count": 33,
   "id": "22d698d9",
   "metadata": {},
   "outputs": [
    {
     "name": "stdout",
     "output_type": "stream",
     "text": [
      "Gated detection 4 from 0\n"
     ]
    }
   ],
   "source": [
    "tracks1 = step_tracks(1, tracks, ce)\n",
    "tracks2 = step_tracks(2, tracks1, ce)\n",
    "tracks3 = step_tracks(3, tracks2, ce)\n",
    "tracks4 = step_tracks(4, tracks3, ce)"
   ]
  },
  {
   "cell_type": "code",
   "execution_count": 38,
   "id": "26bbe48c",
   "metadata": {},
   "outputs": [
    {
     "data": {
      "text/plain": [
       "[[0, nan, nan],\n",
       " [0, nan, 2],\n",
       " [0, 1, nan],\n",
       " [0, 1, 2],\n",
       " [nan, nan, nan],\n",
       " [nan, nan, 2],\n",
       " [nan, 1, nan],\n",
       " [nan, 1, 2]]"
      ]
     },
     "execution_count": 38,
     "metadata": {},
     "output_type": "execute_result"
    }
   ],
   "source": [
    "tracks2"
   ]
  },
  {
   "cell_type": "code",
   "execution_count": 25,
   "id": "5f3f5492",
   "metadata": {},
   "outputs": [],
   "source": [
    "tracks7 = step_tracks(5, tracks4, ce)"
   ]
  },
  {
   "cell_type": "code",
   "execution_count": 31,
   "id": "ef4d941d",
   "metadata": {},
   "outputs": [
    {
     "name": "stdout",
     "output_type": "stream",
     "text": [
      "[0, nan, nan, nan, nan] [0, nan, nan, nan, nan, nan]\n",
      "[0, nan, nan, 3, nan] [0, nan, nan, 3, nan, nan]\n",
      "[0, nan, nan, 3, 4] [0, nan, nan, 3, 4, nan]\n",
      "[0, nan, 2, nan, nan] [0, nan, 2, nan, nan, nan]\n",
      "[0, nan, 2, nan, 4] [0, nan, 2, nan, 4, nan]\n",
      "[0, nan, 2, 3, nan] [0, nan, 2, 3, nan, nan]\n",
      "[0, nan, 2, 3, 4] [0, nan, 2, 3, 4, nan]\n",
      "[0, 1, nan, nan, nan] [0, 1, nan, nan, nan, nan]\n",
      "[0, 1, nan, nan, 4] [0, 1, nan, nan, 4, nan]\n",
      "[0, 1, nan, 3, nan] [0, 1, nan, 3, nan, nan]\n",
      "[0, 1, nan, 3, 4] [0, 1, nan, 3, 4, nan]\n",
      "[0, 1, 2, nan, nan] [0, 1, 2, nan, nan, nan]\n",
      "[0, 1, 2, nan, 4] [0, 1, 2, nan, 4, nan]\n",
      "[0, 1, 2, 3, nan] [0, 1, 2, 3, nan, nan]\n",
      "[0, 1, 2, 3, 4] [0, 1, 2, 3, 4, nan]\n",
      "[nan, nan, nan, nan, nan] [nan, nan, nan, nan, nan, nan]\n",
      "[nan, nan, nan, nan, 4] [nan, nan, nan, nan, 4, nan]\n",
      "[nan, nan, nan, 3, nan] [nan, nan, nan, 3, nan, nan]\n",
      "[nan, nan, nan, 3, 4] [nan, nan, nan, 3, 4, nan]\n",
      "[nan, nan, 2, nan, nan] [nan, nan, 2, nan, nan, nan]\n",
      "[nan, nan, 2, nan, 4] [nan, nan, 2, nan, 4, nan]\n",
      "[nan, nan, 2, 3, nan] [nan, nan, 2, 3, nan, nan]\n",
      "[nan, nan, 2, 3, 4] [nan, nan, 2, 3, 4, nan]\n",
      "[nan, 1, nan, nan, nan] [nan, 1, nan, nan, nan, nan]\n",
      "[nan, 1, nan, nan, 4] [nan, 1, nan, nan, 4, nan]\n",
      "[nan, 1, nan, 3, nan] [nan, 1, nan, 3, nan, nan]\n",
      "[nan, 1, nan, 3, 4] [nan, 1, nan, 3, 4, nan]\n",
      "[nan, 1, 2, nan, nan] [nan, 1, 2, nan, nan, nan]\n",
      "[nan, 1, 2, nan, 4] [nan, 1, 2, nan, 4, nan]\n",
      "[nan, 1, 2, 3, nan] [nan, 1, 2, 3, nan, nan]\n",
      "[nan, 1, 2, 3, 4] [nan, 1, 2, 3, 4, nan]\n"
     ]
    }
   ],
   "source": [
    "for i, t in enumerate(tracks4):\n",
    "    print(t, tracks7[i])"
   ]
  },
  {
   "cell_type": "code",
   "execution_count": 10,
   "id": "5e40425b",
   "metadata": {},
   "outputs": [
    {
     "data": {
      "text/plain": [
       "[[0, nan, nan],\n",
       " [0, nan, 2],\n",
       " [0, 1, nan],\n",
       " [0, 1, 2],\n",
       " [nan, nan, nan],\n",
       " [nan, nan, 2],\n",
       " [nan, 1, nan],\n",
       " [nan, 1, 2]]"
      ]
     },
     "execution_count": 10,
     "metadata": {},
     "output_type": "execute_result"
    }
   ],
   "source": [
    "tracks"
   ]
  },
  {
   "cell_type": "code",
   "execution_count": 11,
   "id": "61ac6ccb",
   "metadata": {},
   "outputs": [],
   "source": [
    "ta = np.array(tracks)"
   ]
  },
  {
   "cell_type": "code",
   "execution_count": 12,
   "id": "d1d16dd4",
   "metadata": {},
   "outputs": [
    {
     "data": {
      "text/plain": [
       "array([ 2., nan, nan, nan, nan])"
      ]
     },
     "execution_count": 12,
     "metadata": {},
     "output_type": "execute_result"
    }
   ],
   "source": [
    "np.unique(ta[:, 2])"
   ]
  },
  {
   "cell_type": "code",
   "execution_count": null,
   "id": "aa5dfc74",
   "metadata": {},
   "outputs": [],
   "source": []
  }
 ],
 "metadata": {
  "kernelspec": {
   "display_name": "Python 3",
   "language": "python",
   "name": "python3"
  },
  "language_info": {
   "codemirror_mode": {
    "name": "ipython",
    "version": 3
   },
   "file_extension": ".py",
   "mimetype": "text/x-python",
   "name": "python",
   "nbconvert_exporter": "python",
   "pygments_lexer": "ipython3",
   "version": "3.6.9"
  }
 },
 "nbformat": 4,
 "nbformat_minor": 5
}
