{
 "cells": [
  {
   "cell_type": "code",
   "execution_count": 1,
   "id": "0b6f5718",
   "metadata": {
    "scrolled": true
   },
   "outputs": [],
   "source": [
    "%load_ext autoreload\n",
    "%autoreload 2"
   ]
  },
  {
   "cell_type": "code",
   "execution_count": 2,
   "id": "8a0d66dc",
   "metadata": {},
   "outputs": [],
   "source": [
    "from src.concept_utils import conceptExample, gate_score\n",
    "import numpy as np"
   ]
  },
  {
   "cell_type": "code",
   "execution_count": 96,
   "id": "86d1bc36",
   "metadata": {},
   "outputs": [
    {
     "data": {
      "image/png": "[encoded data removed]",
      "text/plain": [
       "<Figure size 432x288 with 1 Axes>"
      ]
     },
     "metadata": {
      "needs_background": "light"
     },
     "output_type": "display_data"
    },
    {
     "data": {
      "image/png": "[encoded data removed]",
      "text/plain": [
       "<Figure size 432x288 with 1 Axes>"
      ]
     },
     "metadata": {
      "needs_background": "light"
     },
     "output_type": "display_data"
    },
    {
     "data": {
      "image/png": "[encoded data removed]",
      "text/plain": [
       "<Figure size 432x288 with 1 Axes>"
      ]
     },
     "metadata": {
      "needs_background": "light"
     },
     "output_type": "display_data"
    },
    {
     "data": {
      "image/png": "[encoded data removed]",
      "text/plain": [
       "<Figure size 432x288 with 1 Axes>"
      ]
     },
     "metadata": {
      "needs_background": "light"
     },
     "output_type": "display_data"
    }
   ],
   "source": [
    "ce = conceptExample(var=0.1)\n",
    "\n",
    "ce.plot_starting()\n",
    "ce.plot_cams()\n",
    "ce.plot_paths()\n",
    "ce.plot_detections()\n"
   ]
  },
  {
   "cell_type": "code",
   "execution_count": 97,
   "id": "f4ee8c6e",
   "metadata": {},
   "outputs": [
    {
     "data": {
      "text/html": [
       "<div>\n",
       "<style scoped>\n",
       "    .dataframe tbody tr th:only-of-type {\n",
       "        vertical-align: middle;\n",
       "    }\n",
       "\n",
       "    .dataframe tbody tr th {\n",
       "        vertical-align: top;\n",
       "    }\n",
       "\n",
       "    .dataframe thead th {\n",
       "        text-align: right;\n",
       "    }\n",
       "</style>\n",
       "<table border=\"1\" class=\"dataframe\">\n",
       "  <thead>\n",
       "    <tr style=\"text-align: right;\">\n",
       "      <th></th>\n",
       "      <th>time</th>\n",
       "      <th>individual</th>\n",
       "      <th>x</th>\n",
       "      <th>y</th>\n",
       "    </tr>\n",
       "  </thead>\n",
       "  <tbody>\n",
       "    <tr>\n",
       "      <th>0</th>\n",
       "      <td>0</td>\n",
       "      <td>0</td>\n",
       "      <td>0.800000</td>\n",
       "      <td>0.436386</td>\n",
       "    </tr>\n",
       "    <tr>\n",
       "      <th>1</th>\n",
       "      <td>1</td>\n",
       "      <td>0</td>\n",
       "      <td>0.675711</td>\n",
       "      <td>0.576379</td>\n",
       "    </tr>\n",
       "    <tr>\n",
       "      <th>2</th>\n",
       "      <td>2</td>\n",
       "      <td>1</td>\n",
       "      <td>2.056013</td>\n",
       "      <td>0.251097</td>\n",
       "    </tr>\n",
       "    <tr>\n",
       "      <th>3</th>\n",
       "      <td>3</td>\n",
       "      <td>1</td>\n",
       "      <td>1.930473</td>\n",
       "      <td>0.411045</td>\n",
       "    </tr>\n",
       "    <tr>\n",
       "      <th>4</th>\n",
       "      <td>6</td>\n",
       "      <td>2</td>\n",
       "      <td>4.021600</td>\n",
       "      <td>0.200827</td>\n",
       "    </tr>\n",
       "  </tbody>\n",
       "</table>\n",
       "</div>"
      ],
      "text/plain": [
       "   time  individual         x         y\n",
       "0     0           0  0.800000  0.436386\n",
       "1     1           0  0.675711  0.576379\n",
       "2     2           1  2.056013  0.251097\n",
       "3     3           1  1.930473  0.411045\n",
       "4     6           2  4.021600  0.200827"
      ]
     },
     "execution_count": 97,
     "metadata": {},
     "output_type": "execute_result"
    }
   ],
   "source": [
    "ce.df"
   ]
  },
  {
   "cell_type": "code",
   "execution_count": 138,
   "id": "0e91fa27",
   "metadata": {},
   "outputs": [],
   "source": [
    "def step_tracks(t, tracks, ce):\n",
    "    det = ce.df[ce.df[\"time\" ]==t]\n",
    "    return ce.update_tracks(det, tracks)"
   ]
  },
  {
   "cell_type": "code",
   "execution_count": 139,
   "id": "fb67ea5b",
   "metadata": {},
   "outputs": [],
   "source": [
    "def step_tracks_scores(t, tracks, ce, scores):\n",
    "    det = ce.df[ce.df[\"time\" ]==t]\n",
    "#     gate_score(t, ce.df, ce.var, ce.thresh, np.multiply(*ce.cam_area), 3/5)\n",
    "    return ce.update_score_tracks(det, tracks, scores)"
   ]
  },
  {
   "cell_type": "code",
   "execution_count": 140,
   "id": "95b45140",
   "metadata": {},
   "outputs": [
    {
     "data": {
      "text/html": [
       "<div>\n",
       "<style scoped>\n",
       "    .dataframe tbody tr th:only-of-type {\n",
       "        vertical-align: middle;\n",
       "    }\n",
       "\n",
       "    .dataframe tbody tr th {\n",
       "        vertical-align: top;\n",
       "    }\n",
       "\n",
       "    .dataframe thead th {\n",
       "        text-align: right;\n",
       "    }\n",
       "</style>\n",
       "<table border=\"1\" class=\"dataframe\">\n",
       "  <thead>\n",
       "    <tr style=\"text-align: right;\">\n",
       "      <th></th>\n",
       "      <th>time</th>\n",
       "      <th>individual</th>\n",
       "      <th>x</th>\n",
       "      <th>y</th>\n",
       "    </tr>\n",
       "  </thead>\n",
       "  <tbody>\n",
       "    <tr>\n",
       "      <th>0</th>\n",
       "      <td>0</td>\n",
       "      <td>0</td>\n",
       "      <td>0.800000</td>\n",
       "      <td>0.436386</td>\n",
       "    </tr>\n",
       "    <tr>\n",
       "      <th>1</th>\n",
       "      <td>1</td>\n",
       "      <td>0</td>\n",
       "      <td>0.675711</td>\n",
       "      <td>0.576379</td>\n",
       "    </tr>\n",
       "    <tr>\n",
       "      <th>2</th>\n",
       "      <td>2</td>\n",
       "      <td>1</td>\n",
       "      <td>2.056013</td>\n",
       "      <td>0.251097</td>\n",
       "    </tr>\n",
       "    <tr>\n",
       "      <th>3</th>\n",
       "      <td>3</td>\n",
       "      <td>1</td>\n",
       "      <td>1.930473</td>\n",
       "      <td>0.411045</td>\n",
       "    </tr>\n",
       "    <tr>\n",
       "      <th>4</th>\n",
       "      <td>6</td>\n",
       "      <td>2</td>\n",
       "      <td>4.021600</td>\n",
       "      <td>0.200827</td>\n",
       "    </tr>\n",
       "  </tbody>\n",
       "</table>\n",
       "</div>"
      ],
      "text/plain": [
       "   time  individual         x         y\n",
       "0     0           0  0.800000  0.436386\n",
       "1     1           0  0.675711  0.576379\n",
       "2     2           1  2.056013  0.251097\n",
       "3     3           1  1.930473  0.411045\n",
       "4     6           2  4.021600  0.200827"
      ]
     },
     "execution_count": 140,
     "metadata": {},
     "output_type": "execute_result"
    }
   ],
   "source": [
    "ce.df"
   ]
  },
  {
   "cell_type": "markdown",
   "id": "19ffe7f1",
   "metadata": {},
   "source": [
    "Make tracks and score them"
   ]
  },
  {
   "cell_type": "code",
   "execution_count": 141,
   "id": "771cf5a1",
   "metadata": {},
   "outputs": [],
   "source": [
    "tracks = ce.make_first_track()\n",
    "scores = [0,0]"
   ]
  },
  {
   "cell_type": "code",
   "execution_count": 142,
   "id": "399143f6",
   "metadata": {},
   "outputs": [
    {
     "name": "stdout",
     "output_type": "stream",
     "text": [
      "insnan last\n",
      "insnan last\n",
      "insnan last\n",
      "Gated detection 4 from 0\n",
      "Gated detection 4 from 3\n",
      "Gated detection 4 from 2\n",
      "Gated detection 4 from 3\n",
      "Gated detection 4 from 1\n",
      "Gated detection 4 from 3\n",
      "Gated detection 4 from 2\n",
      "Gated detection 4 from 3\n",
      "insnan last\n",
      "Gated detection 4 from 3\n",
      "Gated detection 4 from 2\n",
      "Gated detection 4 from 3\n",
      "Gated detection 4 from 1\n",
      "Gated detection 4 from 3\n",
      "Gated detection 4 from 2\n",
      "Gated detection 4 from 3\n"
     ]
    }
   ],
   "source": [
    "tracks1, scores1 = step_tracks_scores(1, tracks, ce, scores)\n",
    "tracks2, scores2 = step_tracks_scores(2, tracks1, ce, scores1)\n",
    "tracks3, scores3 = step_tracks_scores(3, tracks2, ce, scores2)\n",
    "tracks4, scores4 = step_tracks_scores(4, tracks3, ce, scores3)\n",
    "tracks5, scores5 = step_tracks_scores(5, tracks4, ce, scores4)\n",
    "tracks6, scores6 = step_tracks_scores(6, tracks5, ce, scores5)"
   ]
  },
  {
   "cell_type": "code",
   "execution_count": 143,
   "id": "b02c8e20",
   "metadata": {},
   "outputs": [
    {
     "data": {
      "text/plain": [
       "-0.916290731874155"
      ]
     },
     "execution_count": 143,
     "metadata": {},
     "output_type": "execute_result"
    }
   ],
   "source": [
    "np.log(0.4)#1-ce.density * np.multiply(*ce.cam_area)"
   ]
  },
  {
   "cell_type": "code",
   "execution_count": 144,
   "id": "577adee9",
   "metadata": {},
   "outputs": [
    {
     "name": "stdout",
     "output_type": "stream",
     "text": [
      "[0, nan] -0.10536051565782628\n",
      "[0, 1] 0.4351083332003166\n",
      "[nan, nan] -0.10536051565782628\n",
      "[nan, 1] -0.10536051565782628\n"
     ]
    }
   ],
   "source": [
    "for i, t in enumerate(tracks1):\n",
    "    print(t, scores1[i])"
   ]
  },
  {
   "cell_type": "code",
   "execution_count": 145,
   "id": "218f568c",
   "metadata": {},
   "outputs": [
    {
     "name": "stdout",
     "output_type": "stream",
     "text": [
      "[0, nan, nan] -0.21072103131565256\n",
      "[0, nan, 2] -0.6176924311877154\n",
      "[0, 1, nan] 0.32974781754249033\n",
      "[0, 1, 2] 0.6755931158096689\n",
      "[nan, nan, nan] -0.21072103131565256\n",
      "[nan, nan, 2] -0.21072103131565256\n",
      "[nan, 1, nan] -0.21072103131565256\n",
      "[nan, 1, 2] 0.135124266951526\n"
     ]
    }
   ],
   "source": [
    "for i, t in enumerate(tracks2):\n",
    "    print(t, scores2[i])"
   ]
  },
  {
   "cell_type": "markdown",
   "id": "61ad7c4e",
   "metadata": {},
   "source": [
    "**Make graph**"
   ]
  },
  {
   "cell_type": "code",
   "execution_count": 146,
   "id": "bec927a2",
   "metadata": {},
   "outputs": [],
   "source": [
    "tracks6 = [t for t in tracks6 if not np.isnan(t).all()]"
   ]
  },
  {
   "cell_type": "code",
   "execution_count": 147,
   "id": "aa5dfc74",
   "metadata": {},
   "outputs": [],
   "source": [
    "gtrack = np.array(tracks6)"
   ]
  },
  {
   "cell_type": "code",
   "execution_count": 148,
   "id": "157dac2f",
   "metadata": {},
   "outputs": [],
   "source": [
    "import igraph"
   ]
  },
  {
   "cell_type": "markdown",
   "id": "af1e61ec",
   "metadata": {},
   "source": [
    "Graph building\n",
    "1. Each track is a node\n",
    "2. tracks which share a detection are incompatible so have an edge between"
   ]
  },
  {
   "cell_type": "markdown",
   "id": "ce146bf2",
   "metadata": {},
   "source": [
    "Make a graph with n vertices (where n is number of tracks)"
   ]
  },
  {
   "cell_type": "code",
   "execution_count": 149,
   "id": "8c380b52",
   "metadata": {},
   "outputs": [],
   "source": [
    "g = igraph.Graph()\n",
    "nverts = len(gtrack)\n",
    "g.add_vertices(nverts)"
   ]
  },
  {
   "cell_type": "markdown",
   "id": "38389c0a",
   "metadata": {},
   "source": [
    "Find the incompatible tracks"
   ]
  },
  {
   "cell_type": "code",
   "execution_count": 150,
   "id": "bfcb466d",
   "metadata": {},
   "outputs": [],
   "source": [
    "edges = []\n",
    "\n",
    "for i, tr in enumerate(gtrack):\n",
    "    diff = tr - gtrack\n",
    "    for d in np.where(diff==0)[0]:\n",
    "        if d != i:\n",
    "            edges.append((i, d))"
   ]
  },
  {
   "cell_type": "markdown",
   "id": "5fb6cdf5",
   "metadata": {},
   "source": [
    "add edges to the graph"
   ]
  },
  {
   "cell_type": "code",
   "execution_count": 151,
   "id": "160795b0",
   "metadata": {},
   "outputs": [],
   "source": [
    "g.add_edges(edges)"
   ]
  },
  {
   "cell_type": "code",
   "execution_count": 152,
   "id": "2960c058",
   "metadata": {},
   "outputs": [],
   "source": [
    "hyps = g.maximal_independent_vertex_sets()"
   ]
  },
  {
   "cell_type": "code",
   "execution_count": 153,
   "id": "722d732a",
   "metadata": {},
   "outputs": [
    {
     "data": {
      "text/plain": [
       "[(0, 8, 9, 10, 12),\n",
       " (0, 8, 9, 14),\n",
       " (0, 8, 15),\n",
       " (0, 8, 10, 13),\n",
       " (0, 8, 11, 12),\n",
       " (1, 8, 10, 12),\n",
       " (1, 8, 14),\n",
       " (2, 8, 9, 12),\n",
       " (2, 8, 13),\n",
       " (3, 8, 12),\n",
       " (4, 8, 9, 10),\n",
       " (4, 8, 11),\n",
       " (5, 8, 10),\n",
       " (6, 8, 9),\n",
       " (7, 8)]"
      ]
     },
     "execution_count": 153,
     "metadata": {},
     "output_type": "execute_result"
    }
   ],
   "source": [
    "hyps"
   ]
  },
  {
   "cell_type": "markdown",
   "id": "745f0cbe",
   "metadata": {},
   "source": [
    "Score the generated hypotheses"
   ]
  },
  {
   "cell_type": "code",
   "execution_count": 154,
   "id": "901014c5",
   "metadata": {},
   "outputs": [],
   "source": [
    "def score_hypotheses(hyps, scores):\n",
    "    hscores = []\n",
    "    for hyp in hyps:\n",
    "        hscores.append(np.sum([scores[h] for h in hyp]))\n",
    "    return hscores"
   ]
  },
  {
   "cell_type": "code",
   "execution_count": 155,
   "id": "74a0ab98",
   "metadata": {},
   "outputs": [],
   "source": [
    "hscores = score_hypotheses(hyps,scores6 )"
   ]
  },
  {
   "cell_type": "code",
   "execution_count": 164,
   "id": "614efd8f",
   "metadata": {},
   "outputs": [
    {
     "name": "stdout",
     "output_type": "stream",
     "text": [
      "([0, nan, nan, nan, nan, nan, nan], -0.6321630939469578)\n",
      "([0, nan, nan, 3, nan, nan, nan], -1.4703772701733007)\n",
      "([0, nan, 2, nan, nan, nan, nan], -1.0391344938190208)\n",
      "([0, nan, 2, 3, nan, nan, nan], -0.50121563122721)\n",
      "([0, 1, nan, nan, nan, nan, nan], -0.0916942450888148)\n",
      "([0, 1, nan, 3, nan, nan, nan], -0.4977711968270305)\n",
      "([0, 1, 2, nan, nan, nan, nan], 0.2541510531783637)\n",
      "([0, 1, 2, 3, nan, nan, nan], 0.792069915770174)\n",
      "([nan, nan, nan, nan, nan, nan, 4], -0.6321630939469578)\n",
      "([nan, nan, nan, 3, nan, nan, nan], -0.6321630939469578)\n",
      "([nan, nan, 2, nan, nan, nan, nan], -0.6321630939469578)\n",
      "([nan, nan, 2, 3, nan, nan, nan], -0.6321630939469578)\n",
      "([nan, 1, nan, nan, nan, nan, nan], -0.09424423135514715)\n",
      "([nan, 1, nan, 3, nan, nan, nan], -0.6321630939469578)\n",
      "([nan, 1, 2, nan, nan, nan, nan], -1.0382400456851735)\n",
      "([nan, 1, 2, 3, nan, nan, nan], -0.2863177956797791)\n"
     ]
    }
   ],
   "source": [
    "for z in zip(tracks6, scores6):\n",
    "    print(z)"
   ]
  },
  {
   "cell_type": "code",
   "execution_count": 156,
   "id": "5307b410",
   "metadata": {},
   "outputs": [
    {
     "name": "stdout",
     "output_type": "stream",
     "text": [
      "(0, 8, 9, 10, 12) -2.6228966071429785\n",
      "(0, 8, 9, 14) -2.934729327526047\n",
      "(0, 8, 15) -1.5506439835736947\n",
      "(0, 8, 10, 13) -2.528652375787831\n",
      "(0, 8, 11, 12) -1.9907335131960204\n",
      "(1, 8, 10, 12) -2.828947689422364\n",
      "(1, 8, 14) -3.140780409805432\n",
      "(2, 8, 9, 12) -2.3977049130680834\n",
      "(2, 8, 13) -2.303460681712936\n",
      "(3, 8, 12) -1.227622956529315\n",
      "(4, 8, 9, 10) -1.9881835269296881\n",
      "(4, 8, 11) -1.3560204329827303\n",
      "(5, 8, 10) -1.7620973847209462\n",
      "(6, 8, 9) -1.0101751347155519\n",
      "(7, 8) 0.15990682182321625\n"
     ]
    }
   ],
   "source": [
    "for i, h in enumerate(hscores):\n",
    "    print(hyps[i], h)"
   ]
  },
  {
   "cell_type": "code",
   "execution_count": 157,
   "id": "8cbd9913",
   "metadata": {},
   "outputs": [],
   "source": [
    "nscores = []\n",
    "for i, h in enumerate(hscores):\n",
    "    nscores.append(h/len(hyps[i]))"
   ]
  },
  {
   "cell_type": "code",
   "execution_count": 158,
   "id": "64e93fa3",
   "metadata": {},
   "outputs": [
    {
     "data": {
      "text/plain": [
       "array([ 6,  8,  1,  5,  3,  7, 12,  0,  2,  4, 10, 11,  9, 13, 14])"
      ]
     },
     "execution_count": 158,
     "metadata": {},
     "output_type": "execute_result"
    }
   ],
   "source": [
    "np.argsort(nscores)"
   ]
  },
  {
   "cell_type": "code",
   "execution_count": 159,
   "id": "4812995f",
   "metadata": {},
   "outputs": [
    {
     "data": {
      "text/plain": [
       "array([ 6,  1,  5,  0,  3,  7,  8,  4, 10, 12,  2, 11,  9, 13, 14])"
      ]
     },
     "execution_count": 159,
     "metadata": {},
     "output_type": "execute_result"
    }
   ],
   "source": [
    "np.argsort(hscores)"
   ]
  },
  {
   "cell_type": "code",
   "execution_count": 162,
   "id": "71d454c0",
   "metadata": {
    "scrolled": true
   },
   "outputs": [
    {
     "data": {
      "text/plain": [
       "[array([ 0.,  1., nan, nan, nan, nan, nan]),\n",
       " array([nan, nan, nan, nan, nan, nan,  4.]),\n",
       " array([nan, nan,  2.,  3., nan, nan, nan])]"
      ]
     },
     "execution_count": 162,
     "metadata": {},
     "output_type": "execute_result"
    }
   ],
   "source": [
    "[gtrack[h] for h in hyps[11]]"
   ]
  },
  {
   "cell_type": "code",
   "execution_count": 123,
   "id": "bf81af78",
   "metadata": {},
   "outputs": [
    {
     "ename": "IndexError",
     "evalue": "list index out of range",
     "output_type": "error",
     "traceback": [
      "\u001b[0;31m---------------------------------------------------------------------------\u001b[0m",
      "\u001b[0;31mIndexError\u001b[0m                                Traceback (most recent call last)",
      "\u001b[0;32m<ipython-input-123-da4faa92c35d>\u001b[0m in \u001b[0;36m<module>\u001b[0;34m\u001b[0m\n\u001b[1;32m      1\u001b[0m \u001b[0;32mfor\u001b[0m \u001b[0mi\u001b[0m \u001b[0;32min\u001b[0m \u001b[0;34m[\u001b[0m\u001b[0;36m83\u001b[0m\u001b[0;34m,\u001b[0m \u001b[0;36m101\u001b[0m\u001b[0;34m]\u001b[0m\u001b[0;34m:\u001b[0m\u001b[0;34m\u001b[0m\u001b[0;34m\u001b[0m\u001b[0m\n\u001b[0;32m----> 2\u001b[0;31m     \u001b[0mprint\u001b[0m\u001b[0;34m(\u001b[0m \u001b[0;34m[\u001b[0m\u001b[0mgtrack\u001b[0m\u001b[0;34m[\u001b[0m\u001b[0mh\u001b[0m\u001b[0;34m]\u001b[0m \u001b[0;32mfor\u001b[0m \u001b[0mh\u001b[0m \u001b[0;32min\u001b[0m \u001b[0mhyps\u001b[0m\u001b[0;34m[\u001b[0m\u001b[0mi\u001b[0m\u001b[0;34m]\u001b[0m\u001b[0;34m]\u001b[0m\u001b[0;34m)\u001b[0m\u001b[0;34m\u001b[0m\u001b[0;34m\u001b[0m\u001b[0m\n\u001b[0m\u001b[1;32m      3\u001b[0m     \u001b[0mprint\u001b[0m\u001b[0;34m(\u001b[0m\u001b[0mhscores\u001b[0m\u001b[0;34m[\u001b[0m\u001b[0mi\u001b[0m\u001b[0;34m]\u001b[0m\u001b[0;34m)\u001b[0m\u001b[0;34m\u001b[0m\u001b[0;34m\u001b[0m\u001b[0m\n",
      "\u001b[0;31mIndexError\u001b[0m: list index out of range"
     ]
    }
   ],
   "source": [
    "for i in [83, 101]:\n",
    "    print( [gtrack[h] for h in hyps[i]])\n",
    "    print(hscores[i])"
   ]
  },
  {
   "cell_type": "code",
   "execution_count": 53,
   "id": "64686632",
   "metadata": {},
   "outputs": [
    {
     "data": {
      "text/plain": [
       "9.000000000000002"
      ]
     },
     "execution_count": 53,
     "metadata": {},
     "output_type": "execute_result"
    }
   ],
   "source": [
    "np.linalg.det(np.array([[3, 0], [0, 3]]))"
   ]
  },
  {
   "cell_type": "code",
   "execution_count": 97,
   "id": "97fb9d39",
   "metadata": {},
   "outputs": [
    {
     "data": {
      "text/plain": [
       "-4.605170185988091"
      ]
     },
     "execution_count": 97,
     "metadata": {},
     "output_type": "execute_result"
    }
   ],
   "source": [
    "np.log(0.01)"
   ]
  },
  {
   "cell_type": "code",
   "execution_count": null,
   "id": "95bd0072",
   "metadata": {},
   "outputs": [],
   "source": []
  }
 ],
 "metadata": {
  "kernelspec": {
   "display_name": "Python 3",
   "language": "python",
   "name": "python3"
  },
  "language_info": {
   "codemirror_mode": {
    "name": "ipython",
    "version": 3
   },
   "file_extension": ".py",
   "mimetype": "text/x-python",
   "name": "python",
   "nbconvert_exporter": "python",
   "pygments_lexer": "ipython3",
   "version": "3.6.9"
  }
 },
 "nbformat": 4,
 "nbformat_minor": 5
}
