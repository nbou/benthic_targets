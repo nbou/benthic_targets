{
 "cells": [
  {
   "cell_type": "code",
   "execution_count": 1,
   "id": "bc0b6098",
   "metadata": {},
   "outputs": [],
   "source": [
    "%load_ext autoreload\n",
    "%autoreload 2"
   ]
  },
  {
   "cell_type": "code",
   "execution_count": 2,
   "id": "8a0d66dc",
   "metadata": {},
   "outputs": [],
   "source": [
    "from src.concept_utils import conceptExample, gate_score\n",
    "import numpy as np"
   ]
  },
  {
   "cell_type": "code",
   "execution_count": 3,
   "id": "86d1bc36",
   "metadata": {},
   "outputs": [
    {
     "data": {
      "image/png": "[encoded data removed]",
      "text/plain": [
       "<Figure size 432x288 with 1 Axes>"
      ]
     },
     "metadata": {
      "needs_background": "light"
     },
     "output_type": "display_data"
    },
    {
     "data": {
      "image/png": "[encoded data removed]",
      "text/plain": [
       "<Figure size 432x288 with 1 Axes>"
      ]
     },
     "metadata": {
      "needs_background": "light"
     },
     "output_type": "display_data"
    },
    {
     "data": {
      "image/png": "[encoded data removed]",
      "text/plain": [
       "<Figure size 432x288 with 1 Axes>"
      ]
     },
     "metadata": {
      "needs_background": "light"
     },
     "output_type": "display_data"
    },
    {
     "data": {
      "image/png": "[encoded data removed]",
      "text/plain": [
       "<Figure size 432x288 with 1 Axes>"
      ]
     },
     "metadata": {
      "needs_background": "light"
     },
     "output_type": "display_data"
    }
   ],
   "source": [
    "ce = conceptExample()\n",
    "\n",
    "ce.plot_starting()\n",
    "ce.plot_cams()\n",
    "ce.plot_paths()\n",
    "ce.plot_detections()\n"
   ]
  },
  {
   "cell_type": "code",
   "execution_count": 4,
   "id": "f4ee8c6e",
   "metadata": {},
   "outputs": [
    {
     "data": {
      "text/html": [
       "<div>\n",
       "<style scoped>\n",
       "    .dataframe tbody tr th:only-of-type {\n",
       "        vertical-align: middle;\n",
       "    }\n",
       "\n",
       "    .dataframe tbody tr th {\n",
       "        vertical-align: top;\n",
       "    }\n",
       "\n",
       "    .dataframe thead th {\n",
       "        text-align: right;\n",
       "    }\n",
       "</style>\n",
       "<table border=\"1\" class=\"dataframe\">\n",
       "  <thead>\n",
       "    <tr style=\"text-align: right;\">\n",
       "      <th></th>\n",
       "      <th>time</th>\n",
       "      <th>individual</th>\n",
       "      <th>x</th>\n",
       "      <th>y</th>\n",
       "    </tr>\n",
       "  </thead>\n",
       "  <tbody>\n",
       "    <tr>\n",
       "      <th>0</th>\n",
       "      <td>0</td>\n",
       "      <td>0</td>\n",
       "      <td>0.800000</td>\n",
       "      <td>0.420337</td>\n",
       "    </tr>\n",
       "    <tr>\n",
       "      <th>1</th>\n",
       "      <td>1</td>\n",
       "      <td>0</td>\n",
       "      <td>0.911330</td>\n",
       "      <td>0.319702</td>\n",
       "    </tr>\n",
       "    <tr>\n",
       "      <th>2</th>\n",
       "      <td>3</td>\n",
       "      <td>1</td>\n",
       "      <td>2.162800</td>\n",
       "      <td>0.518905</td>\n",
       "    </tr>\n",
       "    <tr>\n",
       "      <th>3</th>\n",
       "      <td>6</td>\n",
       "      <td>2</td>\n",
       "      <td>4.214346</td>\n",
       "      <td>0.279655</td>\n",
       "    </tr>\n",
       "  </tbody>\n",
       "</table>\n",
       "</div>"
      ],
      "text/plain": [
       "   time  individual         x         y\n",
       "0     0           0  0.800000  0.420337\n",
       "1     1           0  0.911330  0.319702\n",
       "2     3           1  2.162800  0.518905\n",
       "3     6           2  4.214346  0.279655"
      ]
     },
     "execution_count": 4,
     "metadata": {},
     "output_type": "execute_result"
    }
   ],
   "source": [
    "ce.df"
   ]
  },
  {
   "cell_type": "code",
   "execution_count": 5,
   "id": "0e91fa27",
   "metadata": {},
   "outputs": [],
   "source": [
    "def step_tracks(t, tracks, ce):\n",
    "    det = ce.df[ce.df[\"time\" ]==t]\n",
    "    return ce.update_tracks(det, tracks)"
   ]
  },
  {
   "cell_type": "code",
   "execution_count": 62,
   "id": "fb67ea5b",
   "metadata": {},
   "outputs": [],
   "source": [
    "def step_tracks_scores(t, tracks, ce, scores):\n",
    "    det = ce.df[ce.df[\"time\" ]==t]\n",
    "#     gate_score(t, ce.df, ce.var, ce.thresh, np.multiply(*ce.cam_area), 3/5)\n",
    "    return ce.update_score_tracks(det, tracks, scores)"
   ]
  },
  {
   "cell_type": "code",
   "execution_count": 50,
   "id": "95b45140",
   "metadata": {},
   "outputs": [
    {
     "data": {
      "text/html": [
       "<div>\n",
       "<style scoped>\n",
       "    .dataframe tbody tr th:only-of-type {\n",
       "        vertical-align: middle;\n",
       "    }\n",
       "\n",
       "    .dataframe tbody tr th {\n",
       "        vertical-align: top;\n",
       "    }\n",
       "\n",
       "    .dataframe thead th {\n",
       "        text-align: right;\n",
       "    }\n",
       "</style>\n",
       "<table border=\"1\" class=\"dataframe\">\n",
       "  <thead>\n",
       "    <tr style=\"text-align: right;\">\n",
       "      <th></th>\n",
       "      <th>time</th>\n",
       "      <th>individual</th>\n",
       "      <th>x</th>\n",
       "      <th>y</th>\n",
       "    </tr>\n",
       "  </thead>\n",
       "  <tbody>\n",
       "    <tr>\n",
       "      <th>0</th>\n",
       "      <td>0</td>\n",
       "      <td>0</td>\n",
       "      <td>0.800000</td>\n",
       "      <td>0.420337</td>\n",
       "    </tr>\n",
       "    <tr>\n",
       "      <th>1</th>\n",
       "      <td>1</td>\n",
       "      <td>0</td>\n",
       "      <td>0.911330</td>\n",
       "      <td>0.319702</td>\n",
       "    </tr>\n",
       "    <tr>\n",
       "      <th>2</th>\n",
       "      <td>3</td>\n",
       "      <td>1</td>\n",
       "      <td>2.162800</td>\n",
       "      <td>0.518905</td>\n",
       "    </tr>\n",
       "    <tr>\n",
       "      <th>3</th>\n",
       "      <td>6</td>\n",
       "      <td>2</td>\n",
       "      <td>4.214346</td>\n",
       "      <td>0.279655</td>\n",
       "    </tr>\n",
       "  </tbody>\n",
       "</table>\n",
       "</div>"
      ],
      "text/plain": [
       "   time  individual         x         y\n",
       "0     0           0  0.800000  0.420337\n",
       "1     1           0  0.911330  0.319702\n",
       "2     3           1  2.162800  0.518905\n",
       "3     6           2  4.214346  0.279655"
      ]
     },
     "execution_count": 50,
     "metadata": {},
     "output_type": "execute_result"
    }
   ],
   "source": [
    "ce.df"
   ]
  },
  {
   "cell_type": "code",
   "execution_count": 63,
   "id": "771cf5a1",
   "metadata": {},
   "outputs": [],
   "source": [
    "tracks = ce.make_first_track()\n",
    "scores = [0,0]"
   ]
  },
  {
   "cell_type": "code",
   "execution_count": 64,
   "id": "c0de6cd4",
   "metadata": {},
   "outputs": [
    {
     "data": {
      "text/plain": [
       "[[0], [nan]]"
      ]
     },
     "execution_count": 64,
     "metadata": {},
     "output_type": "execute_result"
    }
   ],
   "source": [
    "tracks"
   ]
  },
  {
   "cell_type": "code",
   "execution_count": null,
   "id": "c400b929",
   "metadata": {},
   "outputs": [],
   "source": [
    "tracks1, scores1 = step_tracks_scores(1, tracks, ce, scores)"
   ]
  },
  {
   "cell_type": "code",
   "execution_count": 69,
   "id": "c0b7d65f",
   "metadata": {},
   "outputs": [
    {
     "name": "stdout",
     "output_type": "stream",
     "text": [
      "[[0, nan], [0, 1], [nan, nan], [nan, 1]] [0.6, 0.4409794697105468, 0.6, 0]\n"
     ]
    }
   ],
   "source": [
    "print(tracks1, scores1)"
   ]
  },
  {
   "cell_type": "code",
   "execution_count": 73,
   "id": "399143f6",
   "metadata": {},
   "outputs": [
    {
     "name": "stdout",
     "output_type": "stream",
     "text": [
      "Gated detection 3 from 0\n",
      "Gated detection 3 from 2\n",
      "Gated detection 3 from 1\n",
      "Gated detection 3 from 2\n",
      "Gated detection 3 from 2\n",
      "Gated detection 3 from 1\n",
      "Gated detection 3 from 2\n"
     ]
    }
   ],
   "source": [
    "tracks1, scores1 = step_tracks_scores(1, tracks, ce, scores)\n",
    "tracks2, scores2 = step_tracks_scores(2, tracks1, ce, scores1)\n",
    "tracks3, scores3 = step_tracks_scores(3, tracks2, ce, scores2)\n",
    "tracks4, scores4 = step_tracks_scores(4, tracks3, ce, scores3)\n",
    "tracks5, scores5 = step_tracks_scores(5, tracks4, ce, scores4)\n",
    "tracks6, scores6 = step_tracks_scores(6, tracks5, ce, scores5)"
   ]
  },
  {
   "cell_type": "code",
   "execution_count": 74,
   "id": "ee40eb1a",
   "metadata": {},
   "outputs": [
    {
     "name": "stdout",
     "output_type": "stream",
     "text": [
      "[0, nan, nan, nan, nan, nan, nan] 1.2\n",
      "[0, nan, nan, 2, nan, nan, nan] -0.008097226016564318\n",
      "[0, 1, nan, nan, nan, nan, nan] 1.4409794697105467\n",
      "[0, 1, nan, 2, nan, nan, nan] 0.7291803104402681\n",
      "[nan, nan, nan, nan, nan, nan, nan] 1.2\n",
      "[nan, nan, nan, nan, nan, nan, 3] 1.0\n",
      "[nan, nan, nan, 2, nan, nan, nan] 1.0\n",
      "[nan, 1, nan, nan, nan, nan, nan] 1.0\n",
      "[nan, 1, nan, 2, nan, nan, nan] 0.2882008407297212\n"
     ]
    }
   ],
   "source": [
    "for i, t in enumerate(tracks6):\n",
    "    print(t, scores6[i])"
   ]
  },
  {
   "cell_type": "code",
   "execution_count": 38,
   "id": "a3f3156a",
   "metadata": {},
   "outputs": [
    {
     "data": {
      "text/plain": [
       "[[0, nan, nan, nan], [0, nan, nan, 2]]"
      ]
     },
     "execution_count": 38,
     "metadata": {},
     "output_type": "execute_result"
    }
   ],
   "source": [
    "tracks3"
   ]
  },
  {
   "cell_type": "code",
   "execution_count": 9,
   "id": "22d698d9",
   "metadata": {},
   "outputs": [],
   "source": [
    "tracks1 = step_tracks(1, tracks, ce)\n",
    "tracks2 = step_tracks(2, tracks1, ce)\n",
    "tracks3 = step_tracks(3, tracks2, ce)\n",
    "tracks4 = step_tracks(4, tracks3, ce)"
   ]
  },
  {
   "cell_type": "code",
   "execution_count": 10,
   "id": "5b2d7ac7",
   "metadata": {},
   "outputs": [
    {
     "data": {
      "text/plain": [
       "[[0, nan], [0, 1], [nan, nan], [nan, 1]]"
      ]
     },
     "execution_count": 10,
     "metadata": {},
     "output_type": "execute_result"
    }
   ],
   "source": [
    "tracks1"
   ]
  },
  {
   "cell_type": "code",
   "execution_count": 24,
   "id": "26bbe48c",
   "metadata": {},
   "outputs": [
    {
     "name": "stdout",
     "output_type": "stream",
     "text": [
      "[0, nan]\n",
      "('keep', 0.6)\n",
      "[0, 1]\n",
      "('keep', 0.4412897948248704)\n",
      "[nan, nan]\n",
      "('keep', 0)\n",
      "[nan, 1]\n",
      "('keep', 0)\n"
     ]
    }
   ],
   "source": [
    "for t in tracks1:\n",
    "    print(t)\n",
    "    print(gate_score(t, ce.df, ce.var, ce.thresh, np.multiply(*ce.cam_area), 3/5))"
   ]
  },
  {
   "cell_type": "code",
   "execution_count": 12,
   "id": "1e11f645",
   "metadata": {},
   "outputs": [
    {
     "name": "stdout",
     "output_type": "stream",
     "text": [
      "[0, nan, nan]\n",
      "('keep', 0.6)\n",
      "[0, 1, nan]\n",
      "('keep', 0.6)\n",
      "[nan, nan, nan]\n",
      "('keep', 0)\n",
      "[nan, 1, nan]\n",
      "('keep', 0.6)\n"
     ]
    }
   ],
   "source": [
    "for t in tracks2:\n",
    "    print(t)\n",
    "    print(gate_score(t, ce.df, ce.var, ce.thresh, np.multiply(*ce.cam_area), 3/5))"
   ]
  },
  {
   "cell_type": "code",
   "execution_count": 13,
   "id": "42b42ed9",
   "metadata": {},
   "outputs": [
    {
     "name": "stdout",
     "output_type": "stream",
     "text": [
      "[0, nan, nan, nan]\n",
      "('keep', 0.6)\n",
      "[0, nan, nan, 2]\n",
      "('keep', -1.0080972260165644)\n",
      "[0, 1, nan, nan]\n",
      "('keep', 0.6)\n",
      "[0, 1, nan, 2]\n",
      "('keep', -0.5117991592702789)\n",
      "[nan, nan, nan, nan]\n",
      "('keep', 0)\n",
      "[nan, nan, nan, 2]\n",
      "('keep', 0)\n",
      "[nan, 1, nan, nan]\n",
      "('keep', 0.6)\n",
      "[nan, 1, nan, 2]\n",
      "('keep', -0.5117991592702789)\n"
     ]
    }
   ],
   "source": [
    "for t in tracks3:\n",
    "    print(t)\n",
    "    print(gate_score(t, ce.df, ce.var, ce.thresh, np.multiply(*ce.cam_area), 3/5))"
   ]
  },
  {
   "cell_type": "code",
   "execution_count": 14,
   "id": "2c6a7128",
   "metadata": {},
   "outputs": [
    {
     "data": {
      "text/html": [
       "<div>\n",
       "<style scoped>\n",
       "    .dataframe tbody tr th:only-of-type {\n",
       "        vertical-align: middle;\n",
       "    }\n",
       "\n",
       "    .dataframe tbody tr th {\n",
       "        vertical-align: top;\n",
       "    }\n",
       "\n",
       "    .dataframe thead th {\n",
       "        text-align: right;\n",
       "    }\n",
       "</style>\n",
       "<table border=\"1\" class=\"dataframe\">\n",
       "  <thead>\n",
       "    <tr style=\"text-align: right;\">\n",
       "      <th></th>\n",
       "      <th>time</th>\n",
       "      <th>individual</th>\n",
       "      <th>x</th>\n",
       "      <th>y</th>\n",
       "    </tr>\n",
       "  </thead>\n",
       "  <tbody>\n",
       "    <tr>\n",
       "      <th>0</th>\n",
       "      <td>0</td>\n",
       "      <td>0</td>\n",
       "      <td>0.800000</td>\n",
       "      <td>0.420337</td>\n",
       "    </tr>\n",
       "    <tr>\n",
       "      <th>1</th>\n",
       "      <td>1</td>\n",
       "      <td>0</td>\n",
       "      <td>0.911330</td>\n",
       "      <td>0.319702</td>\n",
       "    </tr>\n",
       "    <tr>\n",
       "      <th>2</th>\n",
       "      <td>3</td>\n",
       "      <td>1</td>\n",
       "      <td>2.162800</td>\n",
       "      <td>0.518905</td>\n",
       "    </tr>\n",
       "    <tr>\n",
       "      <th>3</th>\n",
       "      <td>6</td>\n",
       "      <td>2</td>\n",
       "      <td>4.214346</td>\n",
       "      <td>0.279655</td>\n",
       "    </tr>\n",
       "  </tbody>\n",
       "</table>\n",
       "</div>"
      ],
      "text/plain": [
       "   time  individual         x         y\n",
       "0     0           0  0.800000  0.420337\n",
       "1     1           0  0.911330  0.319702\n",
       "2     3           1  2.162800  0.518905\n",
       "3     6           2  4.214346  0.279655"
      ]
     },
     "execution_count": 14,
     "metadata": {},
     "output_type": "execute_result"
    }
   ],
   "source": [
    "ce.df"
   ]
  },
  {
   "cell_type": "code",
   "execution_count": 25,
   "id": "5f3f5492",
   "metadata": {},
   "outputs": [],
   "source": [
    "tracks7 = step_tracks(5, tracks4, ce)"
   ]
  },
  {
   "cell_type": "code",
   "execution_count": 31,
   "id": "ef4d941d",
   "metadata": {},
   "outputs": [
    {
     "name": "stdout",
     "output_type": "stream",
     "text": [
      "[0, nan, nan, nan, nan] [0, nan, nan, nan, nan, nan]\n",
      "[0, nan, nan, 3, nan] [0, nan, nan, 3, nan, nan]\n",
      "[0, nan, nan, 3, 4] [0, nan, nan, 3, 4, nan]\n",
      "[0, nan, 2, nan, nan] [0, nan, 2, nan, nan, nan]\n",
      "[0, nan, 2, nan, 4] [0, nan, 2, nan, 4, nan]\n",
      "[0, nan, 2, 3, nan] [0, nan, 2, 3, nan, nan]\n",
      "[0, nan, 2, 3, 4] [0, nan, 2, 3, 4, nan]\n",
      "[0, 1, nan, nan, nan] [0, 1, nan, nan, nan, nan]\n",
      "[0, 1, nan, nan, 4] [0, 1, nan, nan, 4, nan]\n",
      "[0, 1, nan, 3, nan] [0, 1, nan, 3, nan, nan]\n",
      "[0, 1, nan, 3, 4] [0, 1, nan, 3, 4, nan]\n",
      "[0, 1, 2, nan, nan] [0, 1, 2, nan, nan, nan]\n",
      "[0, 1, 2, nan, 4] [0, 1, 2, nan, 4, nan]\n",
      "[0, 1, 2, 3, nan] [0, 1, 2, 3, nan, nan]\n",
      "[0, 1, 2, 3, 4] [0, 1, 2, 3, 4, nan]\n",
      "[nan, nan, nan, nan, nan] [nan, nan, nan, nan, nan, nan]\n",
      "[nan, nan, nan, nan, 4] [nan, nan, nan, nan, 4, nan]\n",
      "[nan, nan, nan, 3, nan] [nan, nan, nan, 3, nan, nan]\n",
      "[nan, nan, nan, 3, 4] [nan, nan, nan, 3, 4, nan]\n",
      "[nan, nan, 2, nan, nan] [nan, nan, 2, nan, nan, nan]\n",
      "[nan, nan, 2, nan, 4] [nan, nan, 2, nan, 4, nan]\n",
      "[nan, nan, 2, 3, nan] [nan, nan, 2, 3, nan, nan]\n",
      "[nan, nan, 2, 3, 4] [nan, nan, 2, 3, 4, nan]\n",
      "[nan, 1, nan, nan, nan] [nan, 1, nan, nan, nan, nan]\n",
      "[nan, 1, nan, nan, 4] [nan, 1, nan, nan, 4, nan]\n",
      "[nan, 1, nan, 3, nan] [nan, 1, nan, 3, nan, nan]\n",
      "[nan, 1, nan, 3, 4] [nan, 1, nan, 3, 4, nan]\n",
      "[nan, 1, 2, nan, nan] [nan, 1, 2, nan, nan, nan]\n",
      "[nan, 1, 2, nan, 4] [nan, 1, 2, nan, 4, nan]\n",
      "[nan, 1, 2, 3, nan] [nan, 1, 2, 3, nan, nan]\n",
      "[nan, 1, 2, 3, 4] [nan, 1, 2, 3, 4, nan]\n"
     ]
    }
   ],
   "source": [
    "for i, t in enumerate(tracks4):\n",
    "    print(t, tracks7[i])"
   ]
  },
  {
   "cell_type": "code",
   "execution_count": 10,
   "id": "5e40425b",
   "metadata": {},
   "outputs": [
    {
     "data": {
      "text/plain": [
       "[[0, nan, nan],\n",
       " [0, nan, 2],\n",
       " [0, 1, nan],\n",
       " [0, 1, 2],\n",
       " [nan, nan, nan],\n",
       " [nan, nan, 2],\n",
       " [nan, 1, nan],\n",
       " [nan, 1, 2]]"
      ]
     },
     "execution_count": 10,
     "metadata": {},
     "output_type": "execute_result"
    }
   ],
   "source": [
    "tracks"
   ]
  },
  {
   "cell_type": "code",
   "execution_count": 11,
   "id": "61ac6ccb",
   "metadata": {},
   "outputs": [],
   "source": [
    "ta = np.array(tracks)"
   ]
  },
  {
   "cell_type": "code",
   "execution_count": 12,
   "id": "d1d16dd4",
   "metadata": {},
   "outputs": [
    {
     "data": {
      "text/plain": [
       "array([ 2., nan, nan, nan, nan])"
      ]
     },
     "execution_count": 12,
     "metadata": {},
     "output_type": "execute_result"
    }
   ],
   "source": [
    "np.unique(ta[:, 2])"
   ]
  },
  {
   "cell_type": "code",
   "execution_count": null,
   "id": "aa5dfc74",
   "metadata": {},
   "outputs": [],
   "source": []
  }
 ],
 "metadata": {
  "kernelspec": {
   "display_name": "Python 3",
   "language": "python",
   "name": "python3"
  },
  "language_info": {
   "codemirror_mode": {
    "name": "ipython",
    "version": 3
   },
   "file_extension": ".py",
   "mimetype": "text/x-python",
   "name": "python",
   "nbconvert_exporter": "python",
   "pygments_lexer": "ipython3",
   "version": "3.6.9"
  }
 },
 "nbformat": 4,
 "nbformat_minor": 5
}
