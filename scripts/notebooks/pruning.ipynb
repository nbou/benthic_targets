{
 "cells": [
  {
   "cell_type": "code",
   "execution_count": 1,
   "id": "0b6f5718",
   "metadata": {
    "scrolled": true
   },
   "outputs": [],
   "source": [
    "%load_ext autoreload\n",
    "%autoreload 2"
   ]
  },
  {
   "cell_type": "code",
   "execution_count": 2,
   "id": "8a0d66dc",
   "metadata": {},
   "outputs": [],
   "source": [
    "from src.concept_utils import conceptExample, gate_score\n",
    "import numpy as np"
   ]
  },
  {
   "cell_type": "code",
   "execution_count": 18,
   "id": "86d1bc36",
   "metadata": {},
   "outputs": [
    {
     "data": {
      "image/png": "[encoded data removed]",
      "text/plain": [
       "<Figure size 432x288 with 1 Axes>"
      ]
     },
     "metadata": {
      "needs_background": "light"
     },
     "output_type": "display_data"
    },
    {
     "data": {
      "image/png": "[encoded data removed]",
      "text/plain": [
       "<Figure size 432x288 with 1 Axes>"
      ]
     },
     "metadata": {
      "needs_background": "light"
     },
     "output_type": "display_data"
    },
    {
     "data": {
      "image/png": "[encoded data removed]",
      "text/plain": [
       "<Figure size 432x288 with 1 Axes>"
      ]
     },
     "metadata": {
      "needs_background": "light"
     },
     "output_type": "display_data"
    },
    {
     "data": {
      "image/png": "[encoded data removed]",
      "text/plain": [
       "<Figure size 432x288 with 1 Axes>"
      ]
     },
     "metadata": {
      "needs_background": "light"
     },
     "output_type": "display_data"
    }
   ],
   "source": [
    "ce = conceptExample(var=0.005)\n",
    "\n",
    "ce.plot_starting()\n",
    "ce.plot_cams()\n",
    "ce.plot_paths()\n",
    "ce.plot_detections()\n"
   ]
  },
  {
   "cell_type": "code",
   "execution_count": 19,
   "id": "f4ee8c6e",
   "metadata": {},
   "outputs": [
    {
     "data": {
      "text/html": [
       "<div>\n",
       "<style scoped>\n",
       "    .dataframe tbody tr th:only-of-type {\n",
       "        vertical-align: middle;\n",
       "    }\n",
       "\n",
       "    .dataframe tbody tr th {\n",
       "        vertical-align: top;\n",
       "    }\n",
       "\n",
       "    .dataframe thead th {\n",
       "        text-align: right;\n",
       "    }\n",
       "</style>\n",
       "<table border=\"1\" class=\"dataframe\">\n",
       "  <thead>\n",
       "    <tr style=\"text-align: right;\">\n",
       "      <th></th>\n",
       "      <th>time</th>\n",
       "      <th>individual</th>\n",
       "      <th>x</th>\n",
       "      <th>y</th>\n",
       "    </tr>\n",
       "  </thead>\n",
       "  <tbody>\n",
       "    <tr>\n",
       "      <th>0</th>\n",
       "      <td>0</td>\n",
       "      <td>0</td>\n",
       "      <td>0.800000</td>\n",
       "      <td>0.191239</td>\n",
       "    </tr>\n",
       "    <tr>\n",
       "      <th>1</th>\n",
       "      <td>1</td>\n",
       "      <td>0</td>\n",
       "      <td>0.776422</td>\n",
       "      <td>0.205055</td>\n",
       "    </tr>\n",
       "    <tr>\n",
       "      <th>2</th>\n",
       "      <td>2</td>\n",
       "      <td>1</td>\n",
       "      <td>2.061139</td>\n",
       "      <td>0.445951</td>\n",
       "    </tr>\n",
       "    <tr>\n",
       "      <th>3</th>\n",
       "      <td>3</td>\n",
       "      <td>1</td>\n",
       "      <td>2.118982</td>\n",
       "      <td>0.383438</td>\n",
       "    </tr>\n",
       "    <tr>\n",
       "      <th>4</th>\n",
       "      <td>5</td>\n",
       "      <td>2</td>\n",
       "      <td>3.720025</td>\n",
       "      <td>0.333955</td>\n",
       "    </tr>\n",
       "    <tr>\n",
       "      <th>5</th>\n",
       "      <td>6</td>\n",
       "      <td>2</td>\n",
       "      <td>3.767663</td>\n",
       "      <td>0.344350</td>\n",
       "    </tr>\n",
       "  </tbody>\n",
       "</table>\n",
       "</div>"
      ],
      "text/plain": [
       "   time  individual         x         y\n",
       "0     0           0  0.800000  0.191239\n",
       "1     1           0  0.776422  0.205055\n",
       "2     2           1  2.061139  0.445951\n",
       "3     3           1  2.118982  0.383438\n",
       "4     5           2  3.720025  0.333955\n",
       "5     6           2  3.767663  0.344350"
      ]
     },
     "execution_count": 19,
     "metadata": {},
     "output_type": "execute_result"
    }
   ],
   "source": [
    "ce.df"
   ]
  },
  {
   "cell_type": "code",
   "execution_count": 20,
   "id": "0e91fa27",
   "metadata": {},
   "outputs": [],
   "source": [
    "def step_tracks(t, tracks, ce):\n",
    "    det = ce.df[ce.df[\"time\" ]==t]\n",
    "    return ce.update_tracks(det, tracks)"
   ]
  },
  {
   "cell_type": "code",
   "execution_count": 21,
   "id": "fb67ea5b",
   "metadata": {},
   "outputs": [],
   "source": [
    "def step_tracks_scores(t, tracks, ce, scores):\n",
    "    det = ce.df[ce.df[\"time\" ]==t]\n",
    "#     gate_score(t, ce.df, ce.var, ce.thresh, np.multiply(*ce.cam_area), 3/5)\n",
    "    return ce.update_score_tracks(det, tracks, scores)"
   ]
  },
  {
   "cell_type": "code",
   "execution_count": 22,
   "id": "95b45140",
   "metadata": {},
   "outputs": [
    {
     "data": {
      "text/html": [
       "<div>\n",
       "<style scoped>\n",
       "    .dataframe tbody tr th:only-of-type {\n",
       "        vertical-align: middle;\n",
       "    }\n",
       "\n",
       "    .dataframe tbody tr th {\n",
       "        vertical-align: top;\n",
       "    }\n",
       "\n",
       "    .dataframe thead th {\n",
       "        text-align: right;\n",
       "    }\n",
       "</style>\n",
       "<table border=\"1\" class=\"dataframe\">\n",
       "  <thead>\n",
       "    <tr style=\"text-align: right;\">\n",
       "      <th></th>\n",
       "      <th>time</th>\n",
       "      <th>individual</th>\n",
       "      <th>x</th>\n",
       "      <th>y</th>\n",
       "    </tr>\n",
       "  </thead>\n",
       "  <tbody>\n",
       "    <tr>\n",
       "      <th>0</th>\n",
       "      <td>0</td>\n",
       "      <td>0</td>\n",
       "      <td>0.800000</td>\n",
       "      <td>0.191239</td>\n",
       "    </tr>\n",
       "    <tr>\n",
       "      <th>1</th>\n",
       "      <td>1</td>\n",
       "      <td>0</td>\n",
       "      <td>0.776422</td>\n",
       "      <td>0.205055</td>\n",
       "    </tr>\n",
       "    <tr>\n",
       "      <th>2</th>\n",
       "      <td>2</td>\n",
       "      <td>1</td>\n",
       "      <td>2.061139</td>\n",
       "      <td>0.445951</td>\n",
       "    </tr>\n",
       "    <tr>\n",
       "      <th>3</th>\n",
       "      <td>3</td>\n",
       "      <td>1</td>\n",
       "      <td>2.118982</td>\n",
       "      <td>0.383438</td>\n",
       "    </tr>\n",
       "    <tr>\n",
       "      <th>4</th>\n",
       "      <td>5</td>\n",
       "      <td>2</td>\n",
       "      <td>3.720025</td>\n",
       "      <td>0.333955</td>\n",
       "    </tr>\n",
       "    <tr>\n",
       "      <th>5</th>\n",
       "      <td>6</td>\n",
       "      <td>2</td>\n",
       "      <td>3.767663</td>\n",
       "      <td>0.344350</td>\n",
       "    </tr>\n",
       "  </tbody>\n",
       "</table>\n",
       "</div>"
      ],
      "text/plain": [
       "   time  individual         x         y\n",
       "0     0           0  0.800000  0.191239\n",
       "1     1           0  0.776422  0.205055\n",
       "2     2           1  2.061139  0.445951\n",
       "3     3           1  2.118982  0.383438\n",
       "4     5           2  3.720025  0.333955\n",
       "5     6           2  3.767663  0.344350"
      ]
     },
     "execution_count": 22,
     "metadata": {},
     "output_type": "execute_result"
    }
   ],
   "source": [
    "ce.df"
   ]
  },
  {
   "cell_type": "markdown",
   "id": "19ffe7f1",
   "metadata": {},
   "source": [
    "Make tracks and score them"
   ]
  },
  {
   "cell_type": "code",
   "execution_count": 23,
   "id": "771cf5a1",
   "metadata": {},
   "outputs": [],
   "source": [
    "tracks = ce.make_first_track()\n",
    "scores = [0,0]"
   ]
  },
  {
   "cell_type": "code",
   "execution_count": 24,
   "id": "399143f6",
   "metadata": {},
   "outputs": [
    {
     "name": "stdout",
     "output_type": "stream",
     "text": [
      "insnan last\n",
      "insnan last\n",
      "insnan last\n",
      "insnan last\n",
      "insnan last\n"
     ]
    }
   ],
   "source": [
    "tracks1, scores1 = step_tracks_scores(1, tracks, ce, scores)\n",
    "tracks2, scores2 = step_tracks_scores(2, tracks1, ce, scores1)\n",
    "tracks3, scores3 = step_tracks_scores(3, tracks2, ce, scores2)\n",
    "tracks4, scores4 = step_tracks_scores(4, tracks3, ce, scores3)\n",
    "tracks5, scores5 = step_tracks_scores(5, tracks4, ce, scores4)\n",
    "tracks6, scores6 = step_tracks_scores(6, tracks5, ce, scores5)"
   ]
  },
  {
   "cell_type": "code",
   "execution_count": 25,
   "id": "b02c8e20",
   "metadata": {},
   "outputs": [
    {
     "data": {
      "text/plain": [
       "-0.916290731874155"
      ]
     },
     "execution_count": 25,
     "metadata": {},
     "output_type": "execute_result"
    }
   ],
   "source": [
    "np.log(0.4)#1-ce.density * np.multiply(*ce.cam_area)"
   ]
  },
  {
   "cell_type": "code",
   "execution_count": 26,
   "id": "577adee9",
   "metadata": {},
   "outputs": [
    {
     "name": "stdout",
     "output_type": "stream",
     "text": [
      "[0, nan] -0.01005033585350145\n",
      "[0, 1] 3.459474120392786\n",
      "[nan, nan] -0.01005033585350145\n",
      "[nan, 1] -0.01005033585350145\n"
     ]
    }
   ],
   "source": [
    "for i, t in enumerate(tracks1):\n",
    "    print(t, scores1[i])"
   ]
  },
  {
   "cell_type": "code",
   "execution_count": 27,
   "id": "218f568c",
   "metadata": {},
   "outputs": [
    {
     "name": "stdout",
     "output_type": "stream",
     "text": [
      "[0, nan, nan] -0.0201006717070029\n",
      "[0, nan, 2] 2.692912566183567\n",
      "[0, 1, nan] 3.4494237845392846\n",
      "[0, 1, 2] 6.873701194095537\n",
      "[nan, nan, nan] -0.0201006717070029\n",
      "[nan, nan, 2] -0.0201006717070029\n",
      "[nan, 1, nan] -0.0201006717070029\n",
      "[nan, 1, 2] 3.4041767378492485\n"
     ]
    }
   ],
   "source": [
    "for i, t in enumerate(tracks2):\n",
    "    print(t, scores2[i])"
   ]
  },
  {
   "cell_type": "markdown",
   "id": "61ad7c4e",
   "metadata": {},
   "source": [
    "**Make graph**"
   ]
  },
  {
   "cell_type": "code",
   "execution_count": 28,
   "id": "aa5dfc74",
   "metadata": {},
   "outputs": [],
   "source": [
    "gtrack = np.array(tracks3)"
   ]
  },
  {
   "cell_type": "code",
   "execution_count": 29,
   "id": "157dac2f",
   "metadata": {},
   "outputs": [],
   "source": [
    "import igraph"
   ]
  },
  {
   "cell_type": "markdown",
   "id": "af1e61ec",
   "metadata": {},
   "source": [
    "Graph building\n",
    "1. Each track is a node\n",
    "2. tracks which share a detection are incompatible so have an edge between"
   ]
  },
  {
   "cell_type": "markdown",
   "id": "ce146bf2",
   "metadata": {},
   "source": [
    "Make a graph with n vertices (where n is number of tracks)"
   ]
  },
  {
   "cell_type": "code",
   "execution_count": 30,
   "id": "8c380b52",
   "metadata": {},
   "outputs": [],
   "source": [
    "g = igraph.Graph()\n",
    "nverts = len(gtrack)\n",
    "g.add_vertices(nverts)"
   ]
  },
  {
   "cell_type": "markdown",
   "id": "38389c0a",
   "metadata": {},
   "source": [
    "Find the incompatible tracks"
   ]
  },
  {
   "cell_type": "code",
   "execution_count": 31,
   "id": "bfcb466d",
   "metadata": {},
   "outputs": [],
   "source": [
    "edges = []\n",
    "\n",
    "for i, tr in enumerate(gtrack):\n",
    "    diff = tr - gtrack\n",
    "    for d in np.where(diff==0)[0]:\n",
    "        if d != i:\n",
    "            edges.append((i, d))"
   ]
  },
  {
   "cell_type": "markdown",
   "id": "5fb6cdf5",
   "metadata": {},
   "source": [
    "add edges to the graph"
   ]
  },
  {
   "cell_type": "code",
   "execution_count": 32,
   "id": "160795b0",
   "metadata": {},
   "outputs": [],
   "source": [
    "g.add_edges(edges)"
   ]
  },
  {
   "cell_type": "code",
   "execution_count": 33,
   "id": "2960c058",
   "metadata": {},
   "outputs": [],
   "source": [
    "hyps = g.maximal_independent_vertex_sets()"
   ]
  },
  {
   "cell_type": "code",
   "execution_count": 34,
   "id": "722d732a",
   "metadata": {},
   "outputs": [
    {
     "data": {
      "text/plain": [
       "[(0, 8, 9, 10, 12),\n",
       " (0, 8, 9, 14),\n",
       " (0, 8, 15),\n",
       " (0, 8, 10, 13),\n",
       " (0, 8, 11, 12),\n",
       " (1, 8, 10, 12),\n",
       " (1, 8, 14),\n",
       " (2, 8, 9, 12),\n",
       " (2, 8, 13),\n",
       " (3, 8, 12),\n",
       " (4, 8, 9, 10),\n",
       " (4, 8, 11),\n",
       " (5, 8, 10),\n",
       " (6, 8, 9),\n",
       " (7, 8)]"
      ]
     },
     "execution_count": 34,
     "metadata": {},
     "output_type": "execute_result"
    }
   ],
   "source": [
    "hyps"
   ]
  },
  {
   "cell_type": "markdown",
   "id": "745f0cbe",
   "metadata": {},
   "source": [
    "Score the generated hypotheses"
   ]
  },
  {
   "cell_type": "code",
   "execution_count": 35,
   "id": "901014c5",
   "metadata": {},
   "outputs": [],
   "source": [
    "def score_hypotheses(hyps, scores):\n",
    "    hscores = []\n",
    "    for hyp in hyps:\n",
    "        hscores.append(np.sum([scores[h] for h in hyp]))\n",
    "    return hscores"
   ]
  },
  {
   "cell_type": "code",
   "execution_count": 36,
   "id": "74a0ab98",
   "metadata": {},
   "outputs": [],
   "source": [
    "hscores = score_hypotheses(hyps,scores3 )"
   ]
  },
  {
   "cell_type": "code",
   "execution_count": 37,
   "id": "5307b410",
   "metadata": {},
   "outputs": [
    {
     "name": "stdout",
     "output_type": "stream",
     "text": [
      "(0, 8, 9, 10, 12) -0.15075503780252175\n",
      "(0, 8, 9, 14) 3.3036733793142337\n",
      "(0, 8, 15) 6.801303859552091\n",
      "(0, 8, 10, 13) 2.5890214738426574\n",
      "(0, 8, 11, 12) 3.3468754424353353\n",
      "(1, 8, 10, 12) 2.169650462471976\n",
      "(1, 8, 14) 5.6240788795887315\n",
      "(2, 8, 9, 12) 2.5924092076485525\n",
      "(2, 8, 13) 5.332185719293731\n",
      "(3, 8, 12) 6.090039687886409\n",
      "(4, 8, 9, 10) 3.34892042600427\n",
      "(4, 8, 11) 6.846550906242127\n",
      "(5, 8, 10) 6.088696937649449\n",
      "(6, 8, 9) 6.803348843121027\n",
      "(7, 8) 10.300979323358883\n"
     ]
    }
   ],
   "source": [
    "for i, h in enumerate(hscores):\n",
    "    print(hyps[i], h)"
   ]
  },
  {
   "cell_type": "code",
   "execution_count": 47,
   "id": "8cbd9913",
   "metadata": {},
   "outputs": [],
   "source": [
    "nscores = []\n",
    "for i, h in enumerate(hscores):\n",
    "    nscores.append(h/len(hyps[i]))"
   ]
  },
  {
   "cell_type": "code",
   "execution_count": 52,
   "id": "a94ef525",
   "metadata": {},
   "outputs": [
    {
     "name": "stdout",
     "output_type": "stream",
     "text": [
      "5\n",
      "4\n",
      "3\n",
      "4\n",
      "4\n",
      "4\n",
      "3\n",
      "4\n",
      "3\n",
      "3\n",
      "4\n",
      "3\n",
      "3\n",
      "3\n",
      "2\n"
     ]
    }
   ],
   "source": [
    "for h in hyps:\n",
    "    print(len(h))"
   ]
  },
  {
   "cell_type": "code",
   "execution_count": 49,
   "id": "43a8ee9d",
   "metadata": {},
   "outputs": [
    {
     "data": {
      "text/plain": [
       "[-0.15075503780252175,\n",
       " 3.3036733793142337,\n",
       " 6.801303859552091,\n",
       " 2.5890214738426574,\n",
       " 3.3468754424353353,\n",
       " 2.169650462471976,\n",
       " 5.6240788795887315,\n",
       " 2.5924092076485525,\n",
       " 5.332185719293731,\n",
       " 6.090039687886409,\n",
       " 3.34892042600427,\n",
       " 6.846550906242127,\n",
       " 6.088696937649449,\n",
       " 6.803348843121027,\n",
       " 10.300979323358883]"
      ]
     },
     "execution_count": 49,
     "metadata": {},
     "output_type": "execute_result"
    }
   ],
   "source": [
    "hscores"
   ]
  },
  {
   "cell_type": "code",
   "execution_count": 50,
   "id": "21e31c56",
   "metadata": {},
   "outputs": [
    {
     "data": {
      "text/plain": [
       "[-0.030151007560504352,\n",
       " 0.8259183448285584,\n",
       " 2.2671012865173634,\n",
       " 0.6472553684606643,\n",
       " 0.8367188606088338,\n",
       " 0.542412615617994,\n",
       " 1.8746929598629105,\n",
       " 0.6481023019121381,\n",
       " 1.7773952397645771,\n",
       " 2.0300132292954696,\n",
       " 0.8372301065010676,\n",
       " 2.2821836354140426,\n",
       " 2.02956564588315,\n",
       " 2.267782947707009,\n",
       " 5.150489661679441]"
      ]
     },
     "execution_count": 50,
     "metadata": {},
     "output_type": "execute_result"
    }
   ],
   "source": [
    "nscores"
   ]
  },
  {
   "cell_type": "code",
   "execution_count": 48,
   "id": "64e93fa3",
   "metadata": {},
   "outputs": [
    {
     "data": {
      "text/plain": [
       "array([ 0,  5,  3,  7,  1,  4, 10,  8,  6, 12,  9,  2, 13, 11, 14])"
      ]
     },
     "execution_count": 48,
     "metadata": {},
     "output_type": "execute_result"
    }
   ],
   "source": [
    "np.argsort(nscores)"
   ]
  },
  {
   "cell_type": "code",
   "execution_count": 38,
   "id": "4812995f",
   "metadata": {},
   "outputs": [
    {
     "data": {
      "text/plain": [
       "array([ 0,  5,  3,  7,  1,  4, 10,  8,  6, 12,  9,  2, 13, 11, 14])"
      ]
     },
     "execution_count": 38,
     "metadata": {},
     "output_type": "execute_result"
    }
   ],
   "source": [
    "np.argsort(hscores)"
   ]
  },
  {
   "cell_type": "code",
   "execution_count": 43,
   "id": "71d454c0",
   "metadata": {
    "scrolled": true
   },
   "outputs": [
    {
     "data": {
      "text/plain": [
       "[array([ 0.,  1., nan, nan]),\n",
       " array([nan, nan, nan, nan]),\n",
       " array([nan, nan,  2.,  3.])]"
      ]
     },
     "execution_count": 43,
     "metadata": {},
     "output_type": "execute_result"
    }
   ],
   "source": [
    "[gtrack[h] for h in hyps[11]]"
   ]
  },
  {
   "cell_type": "code",
   "execution_count": 40,
   "id": "b85769ef",
   "metadata": {},
   "outputs": [
    {
     "data": {
      "text/plain": [
       "[[0, nan, nan],\n",
       " [0, nan, 2],\n",
       " [0, 1, nan],\n",
       " [0, 1, 2],\n",
       " [nan, nan, nan],\n",
       " [nan, nan, 2],\n",
       " [nan, 1, nan],\n",
       " [nan, 1, 2]]"
      ]
     },
     "execution_count": 40,
     "metadata": {},
     "output_type": "execute_result"
    }
   ],
   "source": [
    "tracks2"
   ]
  },
  {
   "cell_type": "code",
   "execution_count": 41,
   "id": "bf81af78",
   "metadata": {},
   "outputs": [
    {
     "data": {
      "text/plain": [
       "[-0.0201006717070029,\n",
       " 2.692912566183567,\n",
       " 3.4494237845392846,\n",
       " 6.873701194095537,\n",
       " -0.0201006717070029,\n",
       " -0.0201006717070029,\n",
       " -0.0201006717070029,\n",
       " 3.4041767378492485]"
      ]
     },
     "execution_count": 41,
     "metadata": {},
     "output_type": "execute_result"
    }
   ],
   "source": [
    "scores2"
   ]
  },
  {
   "cell_type": "code",
   "execution_count": 53,
   "id": "64686632",
   "metadata": {},
   "outputs": [
    {
     "data": {
      "text/plain": [
       "9.000000000000002"
      ]
     },
     "execution_count": 53,
     "metadata": {},
     "output_type": "execute_result"
    }
   ],
   "source": [
    "np.linalg.det(np.array([[3, 0], [0, 3]]))"
   ]
  },
  {
   "cell_type": "code",
   "execution_count": null,
   "id": "97fb9d39",
   "metadata": {},
   "outputs": [],
   "source": []
  }
 ],
 "metadata": {
  "kernelspec": {
   "display_name": "Python 3",
   "language": "python",
   "name": "python3"
  },
  "language_info": {
   "codemirror_mode": {
    "name": "ipython",
    "version": 3
   },
   "file_extension": ".py",
   "mimetype": "text/x-python",
   "name": "python",
   "nbconvert_exporter": "python",
   "pygments_lexer": "ipython3",
   "version": "3.6.9"
  }
 },
 "nbformat": 4,
 "nbformat_minor": 5
}
