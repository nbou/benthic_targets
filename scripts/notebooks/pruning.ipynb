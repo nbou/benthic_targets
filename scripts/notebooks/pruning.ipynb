{
 "cells": [
  {
   "cell_type": "code",
   "execution_count": 146,
   "id": "bc0b6098",
   "metadata": {},
   "outputs": [
    {
     "name": "stdout",
     "output_type": "stream",
     "text": [
      "The autoreload extension is already loaded. To reload it, use:\n",
      "  %reload_ext autoreload\n"
     ]
    }
   ],
   "source": [
    "%load_ext autoreload\n",
    "%autoreload 2"
   ]
  },
  {
   "cell_type": "code",
   "execution_count": 147,
   "id": "8a0d66dc",
   "metadata": {},
   "outputs": [],
   "source": [
    "from src.concept_utils import conceptExample, gate_score\n",
    "import numpy as np"
   ]
  },
  {
   "cell_type": "code",
   "execution_count": 151,
   "id": "86d1bc36",
   "metadata": {},
   "outputs": [
    {
     "data": {
      "image/png": "[encoded data removed]",
      "text/plain": [
       "<Figure size 432x288 with 1 Axes>"
      ]
     },
     "metadata": {
      "needs_background": "light"
     },
     "output_type": "display_data"
    },
    {
     "data": {
      "image/png": "[encoded data removed]",
      "text/plain": [
       "<Figure size 432x288 with 1 Axes>"
      ]
     },
     "metadata": {
      "needs_background": "light"
     },
     "output_type": "display_data"
    },
    {
     "data": {
      "image/png": "[encoded data removed]",
      "text/plain": [
       "<Figure size 432x288 with 1 Axes>"
      ]
     },
     "metadata": {
      "needs_background": "light"
     },
     "output_type": "display_data"
    },
    {
     "data": {
      "image/png": "[encoded data removed]",
      "text/plain": [
       "<Figure size 432x288 with 1 Axes>"
      ]
     },
     "metadata": {
      "needs_background": "light"
     },
     "output_type": "display_data"
    }
   ],
   "source": [
    "ce = conceptExample()\n",
    "\n",
    "ce.plot_starting()\n",
    "ce.plot_cams()\n",
    "ce.plot_paths()\n",
    "ce.plot_detections()\n"
   ]
  },
  {
   "cell_type": "code",
   "execution_count": 152,
   "id": "f4ee8c6e",
   "metadata": {},
   "outputs": [
    {
     "data": {
      "text/html": [
       "<div>\n",
       "<style scoped>\n",
       "    .dataframe tbody tr th:only-of-type {\n",
       "        vertical-align: middle;\n",
       "    }\n",
       "\n",
       "    .dataframe tbody tr th {\n",
       "        vertical-align: top;\n",
       "    }\n",
       "\n",
       "    .dataframe thead th {\n",
       "        text-align: right;\n",
       "    }\n",
       "</style>\n",
       "<table border=\"1\" class=\"dataframe\">\n",
       "  <thead>\n",
       "    <tr style=\"text-align: right;\">\n",
       "      <th></th>\n",
       "      <th>time</th>\n",
       "      <th>individual</th>\n",
       "      <th>x</th>\n",
       "      <th>y</th>\n",
       "    </tr>\n",
       "  </thead>\n",
       "  <tbody>\n",
       "    <tr>\n",
       "      <th>0</th>\n",
       "      <td>0</td>\n",
       "      <td>0</td>\n",
       "      <td>0.800000</td>\n",
       "      <td>0.359347</td>\n",
       "    </tr>\n",
       "    <tr>\n",
       "      <th>1</th>\n",
       "      <td>1</td>\n",
       "      <td>0</td>\n",
       "      <td>0.777819</td>\n",
       "      <td>0.377097</td>\n",
       "    </tr>\n",
       "    <tr>\n",
       "      <th>2</th>\n",
       "      <td>2</td>\n",
       "      <td>1</td>\n",
       "      <td>2.026690</td>\n",
       "      <td>0.022814</td>\n",
       "    </tr>\n",
       "    <tr>\n",
       "      <th>3</th>\n",
       "      <td>5</td>\n",
       "      <td>2</td>\n",
       "      <td>3.725290</td>\n",
       "      <td>0.301791</td>\n",
       "    </tr>\n",
       "  </tbody>\n",
       "</table>\n",
       "</div>"
      ],
      "text/plain": [
       "   time  individual         x         y\n",
       "0     0           0  0.800000  0.359347\n",
       "1     1           0  0.777819  0.377097\n",
       "2     2           1  2.026690  0.022814\n",
       "3     5           2  3.725290  0.301791"
      ]
     },
     "execution_count": 152,
     "metadata": {},
     "output_type": "execute_result"
    }
   ],
   "source": [
    "ce.df"
   ]
  },
  {
   "cell_type": "code",
   "execution_count": 153,
   "id": "0e91fa27",
   "metadata": {},
   "outputs": [],
   "source": [
    "def step_tracks(t, tracks, ce):\n",
    "    det = ce.df[ce.df[\"time\" ]==t]\n",
    "    return ce.update_tracks(det, tracks)"
   ]
  },
  {
   "cell_type": "code",
   "execution_count": 154,
   "id": "fb67ea5b",
   "metadata": {},
   "outputs": [],
   "source": [
    "def step_tracks_scores(t, tracks, ce, scores):\n",
    "    det = ce.df[ce.df[\"time\" ]==t]\n",
    "#     gate_score(t, ce.df, ce.var, ce.thresh, np.multiply(*ce.cam_area), 3/5)\n",
    "    return ce.update_score_tracks(det, tracks, scores)"
   ]
  },
  {
   "cell_type": "code",
   "execution_count": 155,
   "id": "95b45140",
   "metadata": {},
   "outputs": [
    {
     "data": {
      "text/html": [
       "<div>\n",
       "<style scoped>\n",
       "    .dataframe tbody tr th:only-of-type {\n",
       "        vertical-align: middle;\n",
       "    }\n",
       "\n",
       "    .dataframe tbody tr th {\n",
       "        vertical-align: top;\n",
       "    }\n",
       "\n",
       "    .dataframe thead th {\n",
       "        text-align: right;\n",
       "    }\n",
       "</style>\n",
       "<table border=\"1\" class=\"dataframe\">\n",
       "  <thead>\n",
       "    <tr style=\"text-align: right;\">\n",
       "      <th></th>\n",
       "      <th>time</th>\n",
       "      <th>individual</th>\n",
       "      <th>x</th>\n",
       "      <th>y</th>\n",
       "    </tr>\n",
       "  </thead>\n",
       "  <tbody>\n",
       "    <tr>\n",
       "      <th>0</th>\n",
       "      <td>0</td>\n",
       "      <td>0</td>\n",
       "      <td>0.800000</td>\n",
       "      <td>0.359347</td>\n",
       "    </tr>\n",
       "    <tr>\n",
       "      <th>1</th>\n",
       "      <td>1</td>\n",
       "      <td>0</td>\n",
       "      <td>0.777819</td>\n",
       "      <td>0.377097</td>\n",
       "    </tr>\n",
       "    <tr>\n",
       "      <th>2</th>\n",
       "      <td>2</td>\n",
       "      <td>1</td>\n",
       "      <td>2.026690</td>\n",
       "      <td>0.022814</td>\n",
       "    </tr>\n",
       "    <tr>\n",
       "      <th>3</th>\n",
       "      <td>5</td>\n",
       "      <td>2</td>\n",
       "      <td>3.725290</td>\n",
       "      <td>0.301791</td>\n",
       "    </tr>\n",
       "  </tbody>\n",
       "</table>\n",
       "</div>"
      ],
      "text/plain": [
       "   time  individual         x         y\n",
       "0     0           0  0.800000  0.359347\n",
       "1     1           0  0.777819  0.377097\n",
       "2     2           1  2.026690  0.022814\n",
       "3     5           2  3.725290  0.301791"
      ]
     },
     "execution_count": 155,
     "metadata": {},
     "output_type": "execute_result"
    }
   ],
   "source": [
    "ce.df"
   ]
  },
  {
   "cell_type": "markdown",
   "id": "19ffe7f1",
   "metadata": {},
   "source": [
    "Make tracks and score them"
   ]
  },
  {
   "cell_type": "code",
   "execution_count": 156,
   "id": "771cf5a1",
   "metadata": {},
   "outputs": [],
   "source": [
    "tracks = ce.make_first_track()\n",
    "scores = [0,0]"
   ]
  },
  {
   "cell_type": "code",
   "execution_count": 157,
   "id": "399143f6",
   "metadata": {},
   "outputs": [
    {
     "name": "stdout",
     "output_type": "stream",
     "text": [
      "Gated detection 3 from 0\n",
      "Gated detection 3 from 1\n",
      "Gated detection 3 from 1\n"
     ]
    }
   ],
   "source": [
    "tracks1, scores1 = step_tracks_scores(1, tracks, ce, scores)\n",
    "tracks2, scores2 = step_tracks_scores(2, tracks1, ce, scores1)\n",
    "tracks3, scores3 = step_tracks_scores(3, tracks2, ce, scores2)\n",
    "tracks4, scores4 = step_tracks_scores(4, tracks3, ce, scores3)\n",
    "tracks5, scores5 = step_tracks_scores(5, tracks4, ce, scores4)\n",
    "tracks6, scores6 = step_tracks_scores(6, tracks5, ce, scores5)"
   ]
  },
  {
   "cell_type": "code",
   "execution_count": 158,
   "id": "a5cb4c54",
   "metadata": {},
   "outputs": [
    {
     "name": "stdout",
     "output_type": "stream",
     "text": [
      "[0, nan, nan] 0\n",
      "[0, nan, 2] -0.5128703565485111\n",
      "[0, 1, nan] 0.4602161241864895\n",
      "[0, 1, 2] 0.719668480107545\n",
      "[nan, nan, nan] 0\n",
      "[nan, nan, 2] 0\n",
      "[nan, 1, nan] 0\n",
      "[nan, 1, 2] 0.2594523559210555\n"
     ]
    }
   ],
   "source": [
    "for i, t in enumerate(tracks2):\n",
    "    print(t, scores2[i])"
   ]
  },
  {
   "cell_type": "markdown",
   "id": "61ad7c4e",
   "metadata": {},
   "source": [
    "**Make graph**"
   ]
  },
  {
   "cell_type": "code",
   "execution_count": 159,
   "id": "aa5dfc74",
   "metadata": {},
   "outputs": [],
   "source": [
    "gtrack = np.array(tracks4)"
   ]
  },
  {
   "cell_type": "code",
   "execution_count": 160,
   "id": "9d8f3636",
   "metadata": {},
   "outputs": [
    {
     "data": {
      "text/plain": [
       "array([[ 0., nan, nan, nan, nan],\n",
       "       [ 0., nan,  2., nan, nan],\n",
       "       [ 0.,  1., nan, nan, nan],\n",
       "       [ 0.,  1.,  2., nan, nan],\n",
       "       [nan, nan, nan, nan, nan],\n",
       "       [nan, nan,  2., nan, nan],\n",
       "       [nan,  1., nan, nan, nan],\n",
       "       [nan,  1.,  2., nan, nan]])"
      ]
     },
     "execution_count": 160,
     "metadata": {},
     "output_type": "execute_result"
    }
   ],
   "source": [
    "gtrack"
   ]
  },
  {
   "cell_type": "code",
   "execution_count": 161,
   "id": "157dac2f",
   "metadata": {},
   "outputs": [],
   "source": [
    "import igraph"
   ]
  },
  {
   "cell_type": "markdown",
   "id": "af1e61ec",
   "metadata": {},
   "source": [
    "Graph building\n",
    "1. Each track is a node\n",
    "2. tracks which share a detection are incompatible so have an edge between"
   ]
  },
  {
   "cell_type": "markdown",
   "id": "ce146bf2",
   "metadata": {},
   "source": [
    "Make a graph with n vertices (where n is number of tracks)"
   ]
  },
  {
   "cell_type": "code",
   "execution_count": 162,
   "id": "8c380b52",
   "metadata": {},
   "outputs": [],
   "source": [
    "g = igraph.Graph()\n",
    "nverts = len(gtrack)\n",
    "g.add_vertices(nverts)"
   ]
  },
  {
   "cell_type": "markdown",
   "id": "38389c0a",
   "metadata": {},
   "source": [
    "Find the incompatible tracks"
   ]
  },
  {
   "cell_type": "code",
   "execution_count": 163,
   "id": "bfcb466d",
   "metadata": {},
   "outputs": [],
   "source": [
    "edges = []\n",
    "\n",
    "for i, tr in enumerate(gtrack):\n",
    "    diff = tr - gtrack\n",
    "    for d in np.where(diff==0)[0]:\n",
    "        if d != i:\n",
    "            edges.append((i, d))"
   ]
  },
  {
   "cell_type": "markdown",
   "id": "5fb6cdf5",
   "metadata": {},
   "source": [
    "add edges to the graph"
   ]
  },
  {
   "cell_type": "code",
   "execution_count": 164,
   "id": "160795b0",
   "metadata": {},
   "outputs": [],
   "source": [
    "g.add_edges(edges)"
   ]
  },
  {
   "cell_type": "code",
   "execution_count": 165,
   "id": "2960c058",
   "metadata": {},
   "outputs": [],
   "source": [
    "hyps = g.maximal_independent_vertex_sets()"
   ]
  },
  {
   "cell_type": "code",
   "execution_count": 166,
   "id": "722d732a",
   "metadata": {},
   "outputs": [
    {
     "data": {
      "text/plain": [
       "[(0, 4, 5, 6), (0, 4, 7), (1, 4, 6), (2, 4, 5), (3, 4)]"
      ]
     },
     "execution_count": 166,
     "metadata": {},
     "output_type": "execute_result"
    }
   ],
   "source": [
    "hyps"
   ]
  },
  {
   "cell_type": "markdown",
   "id": "745f0cbe",
   "metadata": {},
   "source": [
    "Score the generated hypotheses"
   ]
  },
  {
   "cell_type": "code",
   "execution_count": 167,
   "id": "901014c5",
   "metadata": {},
   "outputs": [],
   "source": [
    "def score_hypotheses(hyps, scores):\n",
    "    hscores = []\n",
    "    for hyp in hyps:\n",
    "        hscores.append(np.sum([scores[h] for h in hyp]))\n",
    "    return hscores"
   ]
  },
  {
   "cell_type": "code",
   "execution_count": 168,
   "id": "74a0ab98",
   "metadata": {},
   "outputs": [],
   "source": [
    "hscores = score_hypotheses(hyps,scores4 )"
   ]
  },
  {
   "cell_type": "code",
   "execution_count": 169,
   "id": "5307b410",
   "metadata": {},
   "outputs": [
    {
     "data": {
      "text/plain": [
       "4"
      ]
     },
     "execution_count": 169,
     "metadata": {},
     "output_type": "execute_result"
    }
   ],
   "source": [
    "np.argmax(hscores)"
   ]
  },
  {
   "cell_type": "code",
   "execution_count": 170,
   "id": "4812995f",
   "metadata": {},
   "outputs": [
    {
     "data": {
      "text/plain": [
       "array([2, 0, 1, 3, 4])"
      ]
     },
     "execution_count": 170,
     "metadata": {},
     "output_type": "execute_result"
    }
   ],
   "source": [
    "np.argsort(hscores)"
   ]
  },
  {
   "cell_type": "code",
   "execution_count": 172,
   "id": "71d454c0",
   "metadata": {},
   "outputs": [
    {
     "data": {
      "text/plain": [
       "[array([ 0.,  1., nan, nan, nan]),\n",
       " array([nan, nan, nan, nan, nan]),\n",
       " array([nan, nan,  2., nan, nan])]"
      ]
     },
     "execution_count": 172,
     "metadata": {},
     "output_type": "execute_result"
    }
   ],
   "source": [
    "[gtrack[h] for h in hyps[3]]"
   ]
  },
  {
   "cell_type": "code",
   "execution_count": 64,
   "id": "5f253e87",
   "metadata": {},
   "outputs": [
    {
     "data": {
      "text/plain": [
       "array([0, 1, 1, 2, 3, 3, 5, 7])"
      ]
     },
     "execution_count": 64,
     "metadata": {},
     "output_type": "execute_result"
    }
   ],
   "source": [
    "np.where(diff==0)[0]"
   ]
  },
  {
   "cell_type": "code",
   "execution_count": 63,
   "id": "e9f8db18",
   "metadata": {},
   "outputs": [
    {
     "data": {
      "text/plain": [
       "array([[ 0., nan, nan],\n",
       "       [ 0., nan,  0.],\n",
       "       [ 0., nan, nan],\n",
       "       [ 0., nan,  0.],\n",
       "       [nan, nan, nan],\n",
       "       [nan, nan,  0.],\n",
       "       [nan, nan, nan],\n",
       "       [nan, nan,  0.]])"
      ]
     },
     "execution_count": 63,
     "metadata": {},
     "output_type": "execute_result"
    }
   ],
   "source": [
    "diff"
   ]
  },
  {
   "cell_type": "code",
   "execution_count": 60,
   "id": "848c5dd4",
   "metadata": {},
   "outputs": [
    {
     "data": {
      "text/plain": [
       "array([[ 0., nan, nan],\n",
       "       [ 0., nan, nan],\n",
       "       [ 0., nan, nan],\n",
       "       [ 0., nan, nan],\n",
       "       [nan, nan, nan],\n",
       "       [nan, nan, nan],\n",
       "       [nan, nan, nan],\n",
       "       [nan, nan, nan]])"
      ]
     },
     "execution_count": 60,
     "metadata": {},
     "output_type": "execute_result"
    }
   ],
   "source": [
    "t - gtrack"
   ]
  },
  {
   "cell_type": "code",
   "execution_count": null,
   "id": "b85769ef",
   "metadata": {},
   "outputs": [],
   "source": []
  }
 ],
 "metadata": {
  "kernelspec": {
   "display_name": "Python 3",
   "language": "python",
   "name": "python3"
  },
  "language_info": {
   "codemirror_mode": {
    "name": "ipython",
    "version": 3
   },
   "file_extension": ".py",
   "mimetype": "text/x-python",
   "name": "python",
   "nbconvert_exporter": "python",
   "pygments_lexer": "ipython3",
   "version": "3.6.9"
  }
 },
 "nbformat": 4,
 "nbformat_minor": 5
}
