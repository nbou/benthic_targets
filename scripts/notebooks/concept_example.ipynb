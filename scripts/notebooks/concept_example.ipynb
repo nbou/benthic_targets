{
 "cells": [
  {
   "cell_type": "markdown",
   "id": "826bb011",
   "metadata": {},
   "source": [
    "Notebook for walking through example 1 in concept chapter of thesis.\n",
    "\n",
    "Simulates the movement of 3 individuals over 5 timesteps, makes detections using a camera moving across the survey area"
   ]
  },
  {
   "cell_type": "markdown",
   "id": "57976f83",
   "metadata": {},
   "source": [
    "**Simulate Positions**"
   ]
  },
  {
   "cell_type": "markdown",
   "id": "8e42d7fd",
   "metadata": {},
   "source": [
    "Sim variables:\n",
    "1. variance\n",
    "2. survey area\n",
    "3. Number of individuals"
   ]
  },
  {
   "cell_type": "code",
   "execution_count": 26,
   "id": "4d3391b3",
   "metadata": {},
   "outputs": [],
   "source": [
    "var = 0.1**2\n",
    "survey_x = 5\n",
    "survey_y = 1\n",
    "\n",
    "n_inds = 3"
   ]
  },
  {
   "cell_type": "markdown",
   "id": "56fdb5dd",
   "metadata": {},
   "source": [
    "Randomise starting points of the individuals"
   ]
  },
  {
   "cell_type": "code",
   "execution_count": 27,
   "id": "400d0325",
   "metadata": {},
   "outputs": [],
   "source": [
    "import numpy as np\n",
    "from src.simulate import initial_positions"
   ]
  },
  {
   "cell_type": "code",
   "execution_count": 28,
   "id": "39c95b11",
   "metadata": {},
   "outputs": [],
   "source": [
    "area = [0, survey_x, 0, survey_y]\n",
    "\n",
    "starting_x, starting_y = initial_positions(n_inds, area)\n",
    " "
   ]
  },
  {
   "cell_type": "markdown",
   "id": "c9f941bc",
   "metadata": {},
   "source": [
    "Plot starting scenario"
   ]
  },
  {
   "cell_type": "code",
   "execution_count": 29,
   "id": "11ed8cb9",
   "metadata": {},
   "outputs": [],
   "source": [
    "import matplotlib.pyplot as plt\n",
    "from matplotlib.patches import Rectangle"
   ]
  },
  {
   "cell_type": "code",
   "execution_count": 30,
   "id": "2c3b7ff2",
   "metadata": {},
   "outputs": [
    {
     "name": "stderr",
     "output_type": "stream",
     "text": [
      "/home/nader/Projects/thesis/benthic_targets/venv/lib/python3.6/site-packages/ipykernel_launcher.py:12: UserWarning: Matplotlib is currently using module://ipykernel.pylab.backend_inline, which is a non-GUI backend, so cannot show the figure.\n",
      "  if sys.path[0] == '':\n"
     ]
    },
    {
     "data": {
      "image/png": "[encoded data removed]",
      "text/plain": [
       "<Figure size 432x288 with 1 Axes>"
      ]
     },
     "metadata": {
      "needs_background": "light"
     },
     "output_type": "display_data"
    }
   ],
   "source": [
    "fig, ax = plt.subplots()\n",
    "\n",
    "ax.scatter(starting_x, starting_y)\n",
    "\n",
    "ax.set_xlim(0-.5, survey_x + .5)\n",
    "ax.set_ylim(0-.5, survey_y + .5)\n",
    "\n",
    "ax.axis('off')\n",
    "\n",
    "ax.add_patch(Rectangle((0,0), survey_x, survey_y, fill=False))\n",
    "\n",
    "fig.show()\n"
   ]
  },
  {
   "cell_type": "markdown",
   "id": "c63f1242",
   "metadata": {},
   "source": [
    "**Simulate vehicle track and detections**"
   ]
  },
  {
   "cell_type": "markdown",
   "id": "d7eccf0b",
   "metadata": {},
   "source": [
    "Vehicle parameters:\n",
    "1. camera area\n",
    "2. vehicle step size"
   ]
  },
  {
   "cell_type": "code",
   "execution_count": null,
   "id": "b121102d",
   "metadata": {},
   "outputs": [],
   "source": [
    "cam_area = [1, 1]\n",
    "veh_step = 0.6\n"
   ]
  },
  {
   "cell_type": "markdown",
   "id": "a1b0b42e",
   "metadata": {},
   "source": [
    "**Build and score hypotheses**"
   ]
  },
  {
   "cell_type": "markdown",
   "id": "b73a89a5",
   "metadata": {},
   "source": [
    "**Analyse predicted distributions**"
   ]
  },
  {
   "cell_type": "code",
   "execution_count": null,
   "id": "e54ec6a4",
   "metadata": {},
   "outputs": [],
   "source": []
  }
 ],
 "metadata": {
  "kernelspec": {
   "display_name": "Python 3",
   "language": "python",
   "name": "python3"
  },
  "language_info": {
   "codemirror_mode": {
    "name": "ipython",
    "version": 3
   },
   "file_extension": ".py",
   "mimetype": "text/x-python",
   "name": "python",
   "nbconvert_exporter": "python",
   "pygments_lexer": "ipython3",
   "version": "3.6.9"
  }
 },
 "nbformat": 4,
 "nbformat_minor": 5
}
