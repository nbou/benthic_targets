{
 "cells": [
  {
   "cell_type": "markdown",
   "id": "e6cf6501",
   "metadata": {},
   "source": [
    "Want to build the vectors and get the hypotheses at each timestep so they can be properly scores"
   ]
  },
  {
   "cell_type": "code",
   "execution_count": 2,
   "id": "45947b02",
   "metadata": {},
   "outputs": [],
   "source": [
    "import pandas as pd\n",
    "import numpy as np"
   ]
  },
  {
   "cell_type": "markdown",
   "id": "7612674e",
   "metadata": {},
   "source": [
    "Make dummy detections. First with no simultaneous detections"
   ]
  },
  {
   "cell_type": "code",
   "execution_count": 3,
   "id": "81a5a3e3",
   "metadata": {},
   "outputs": [],
   "source": [
    "detections = pd.DataFrame()\n",
    "detections[\"id\"] = [0, 1, 2]\n",
    "detections[\"time\"] = [0, 1,2]\n",
    "detections[\"object_location\"] = [0, 1, 2]"
   ]
  },
  {
   "cell_type": "code",
   "execution_count": 4,
   "id": "8e5c3e76",
   "metadata": {},
   "outputs": [],
   "source": [
    "import matplotlib.pyplot as plt"
   ]
  },
  {
   "cell_type": "code",
   "execution_count": 5,
   "id": "56f97ca1",
   "metadata": {},
   "outputs": [
    {
     "name": "stderr",
     "output_type": "stream",
     "text": [
      "/home/nader/Projects/thesis/benthic_targets/venv/lib/python3.6/site-packages/ipykernel_launcher.py:11: UserWarning: Matplotlib is currently using module://ipykernel.pylab.backend_inline, which is a non-GUI backend, so cannot show the figure.\n",
      "  # This is added back by InteractiveShellApp.init_path()\n"
     ]
    },
    {
     "data": {
      "image/png": "[encoded data removed]",
      "text/plain": [
       "<Figure size 432x288 with 1 Axes>"
      ]
     },
     "metadata": {
      "needs_background": "light"
     },
     "output_type": "display_data"
    }
   ],
   "source": [
    "fig, ax = plt.subplots()\n",
    "\n",
    "ax.scatter(detections.object_location, detections.time)\n",
    "\n",
    "ax.set_xlabel(\"Position\")\n",
    "ax.set_ylabel(\"Timestep\")\n",
    "\n",
    "ax.set_xticks([0,1,2])\n",
    "ax.set_yticks([0,1,2])\n",
    "\n",
    "fig.show()"
   ]
  },
  {
   "cell_type": "code",
   "execution_count": 16,
   "id": "70c96050",
   "metadata": {},
   "outputs": [],
   "source": [
    "def make_first_branches(det_t):\n",
    "    new_branches = []\n",
    "    for i, row in det_t.iterrows():\n",
    "        new_br = np.array([row[\"id\"]])\n",
    "        new_branches.append(new_br)\n",
    "    return new_branches"
   ]
  },
  {
   "cell_type": "code",
   "execution_count": 6,
   "id": "19a0f399",
   "metadata": {},
   "outputs": [],
   "source": [
    "def make_new_branches(branches, det_t, it):\n",
    "    new_branches = []\n",
    "\n",
    "    old_it = len(branches[0])\n",
    "\n",
    "    nan_append = np.empty(it - old_it) + np.NaN\n",
    "\n",
    "    bz = []\n",
    "    for br in branches:\n",
    "        bz.append(np.append(br, nan_append))\n",
    "\n",
    "    branches = bz\n",
    "    # new_branches = []\n",
    "    if len(det_t) == 1:\n",
    "        # create new vector (case where this detection is a new individual)\n",
    "        d = det_t.iloc[0]\n",
    "        new_br = np.empty(it + 1)\n",
    "        new_br[:] = np.NaN\n",
    "        new_br[it] = d[\"id\"]\n",
    "        new_branches.append(new_br)\n",
    "\n",
    "        for i, br in enumerate(branches):\n",
    "            # case where this is a repeat of the last observed\n",
    "            new_br_repeat = np.append(br, d[\"id\"])\n",
    "            new_branches.append(new_br_repeat)\n",
    "\n",
    "            # get the id of the previous detection in the current branch\n",
    "\n",
    "\n",
    "            # case where it's not\n",
    "            new_br_no_repeat = np.append(br, np.NaN)\n",
    "            new_branches.append(new_br_no_repeat)\n",
    "\n",
    "    else:\n",
    "        for i, br in enumerate(branches):\n",
    "\n",
    "            for i, d in det_t.iterrows():\n",
    "                # create new vector (case where this detection is a new individual)\n",
    "                new_br = np.empty(it + 1)\n",
    "                new_br[:] = np.NaN\n",
    "                new_br[it] = d[\"id\"]\n",
    "\n",
    "                new_branches.append(new_br)\n",
    "\n",
    "                new_br_repeat = np.append(br, d[\"id\"])\n",
    "                new_branches.append(new_br_repeat)\n",
    "\n",
    "                # get the id of the previous detection in the current branch\n",
    "\n",
    "            new_br_no_repeat = np.append(br, np.NaN)\n",
    "            new_branches.append(new_br_no_repeat)\n",
    "            \n",
    "            \n",
    "    return new_branches\n",
    "   \n"
   ]
  },
  {
   "cell_type": "code",
   "execution_count": 7,
   "id": "e250e199",
   "metadata": {},
   "outputs": [
    {
     "data": {
      "text/plain": [
       "[array([0])]"
      ]
     },
     "execution_count": 7,
     "metadata": {},
     "output_type": "execute_result"
    }
   ],
   "source": [
    "det_0 = detections[detections[\"time\"]==0]\n",
    "\n",
    "br = make_first_branches(det_0)\n",
    "br"
   ]
  },
  {
   "cell_type": "code",
   "execution_count": null,
   "id": "31363f13",
   "metadata": {},
   "outputs": [],
   "source": []
  },
  {
   "cell_type": "code",
   "execution_count": 15,
   "id": "6cef8941",
   "metadata": {},
   "outputs": [
    {
     "ename": "NameError",
     "evalue": "name 'make_new_branches' is not defined",
     "output_type": "error",
     "traceback": [
      "\u001b[0;31m---------------------------------------------------------------------------\u001b[0m",
      "\u001b[0;31mNameError\u001b[0m                                 Traceback (most recent call last)",
      "\u001b[0;32m<ipython-input-15-14f47960f310>\u001b[0m in \u001b[0;36m<module>\u001b[0;34m\u001b[0m\n\u001b[1;32m      1\u001b[0m \u001b[0mdet_1\u001b[0m \u001b[0;34m=\u001b[0m \u001b[0mdetections\u001b[0m\u001b[0;34m[\u001b[0m\u001b[0mdetections\u001b[0m\u001b[0;34m[\u001b[0m\u001b[0;34m\"time\"\u001b[0m\u001b[0;34m]\u001b[0m\u001b[0;34m==\u001b[0m\u001b[0;36m1\u001b[0m\u001b[0;34m]\u001b[0m\u001b[0;34m\u001b[0m\u001b[0;34m\u001b[0m\u001b[0m\n\u001b[0;32m----> 2\u001b[0;31m \u001b[0mbr1\u001b[0m \u001b[0;34m=\u001b[0m \u001b[0mmake_new_branches\u001b[0m\u001b[0;34m(\u001b[0m\u001b[0mbr\u001b[0m\u001b[0;34m,\u001b[0m \u001b[0mdet_1\u001b[0m\u001b[0;34m,\u001b[0m \u001b[0;36m1\u001b[0m\u001b[0;34m)\u001b[0m\u001b[0;34m\u001b[0m\u001b[0;34m\u001b[0m\u001b[0m\n\u001b[0m\u001b[1;32m      3\u001b[0m \u001b[0;32mfor\u001b[0m \u001b[0mb\u001b[0m \u001b[0;32min\u001b[0m \u001b[0mbr1\u001b[0m\u001b[0;34m:\u001b[0m\u001b[0;34m\u001b[0m\u001b[0;34m\u001b[0m\u001b[0m\n\u001b[1;32m      4\u001b[0m     \u001b[0mprint\u001b[0m\u001b[0;34m(\u001b[0m\u001b[0mb\u001b[0m\u001b[0;34m)\u001b[0m\u001b[0;34m\u001b[0m\u001b[0;34m\u001b[0m\u001b[0m\n",
      "\u001b[0;31mNameError\u001b[0m: name 'make_new_branches' is not defined"
     ]
    }
   ],
   "source": [
    "det_1 = detections[detections[\"time\"]==1]\n",
    "br1 = make_new_branches(br, det_1, 1)\n",
    "for b in br1:\n",
    "    print(b)"
   ]
  },
  {
   "cell_type": "code",
   "execution_count": 8,
   "id": "4f150162",
   "metadata": {},
   "outputs": [],
   "source": [
    "import igraph\n",
    "import itertools"
   ]
  },
  {
   "cell_type": "code",
   "execution_count": 9,
   "id": "4cbc98e5",
   "metadata": {},
   "outputs": [],
   "source": [
    "def make_tree_compat(trees):\n",
    "    trees = np.array(trees)\n",
    "    tree_compat = np.zeros((len(trees), len(trees)))\n",
    "\n",
    "    for step in trees.transpose():\n",
    "        unique, counts = np.unique(step, return_counts=True)\n",
    "        reps = unique[np.where(counts > 1)]\n",
    "        for r in reps:\n",
    "            if r >= 0:\n",
    "                whr = np.where(step == r)\n",
    "                for pair in itertools.permutations(whr[0], r=2):\n",
    "                    tree_compat[pair] = 1\n",
    "    return tree_compat\n",
    "\n",
    "def make_hypotheses_from_trees(trees):\n",
    "\n",
    "    tree_compat = make_tree_compat(trees)\n",
    "    g = igraph.Graph()\n",
    "    nverts = len(trees)\n",
    "    g.add_vertices(nverts)\n",
    "    labels = []\n",
    "    edges = []\n",
    "    for i in range(nverts):\n",
    "        labels.append(str(i))\n",
    "        for ed in np.where(tree_compat[i] ==1)[0]:\n",
    "            edges.append((i,ed))\n",
    "\n",
    "\n",
    "    g.vs[\"label\"] = labels\n",
    "\n",
    "    g.add_edges(edges)\n",
    "    hyps =  g.maximal_independent_vertex_sets()\n",
    "    return hyps\n"
   ]
  },
  {
   "cell_type": "code",
   "execution_count": 10,
   "id": "ccd1f1c9",
   "metadata": {
    "pycharm": {
     "name": "#%%\n"
    }
   },
   "outputs": [
    {
     "data": {
      "text/plain": [
       "[array([0])]"
      ]
     },
     "execution_count": 10,
     "metadata": {},
     "output_type": "execute_result"
    }
   ],
   "source": [
    "br"
   ]
  },
  {
   "cell_type": "code",
   "execution_count": 11,
   "id": "d893a540",
   "metadata": {
    "pycharm": {
     "name": "#%%\n"
    }
   },
   "outputs": [
    {
     "data": {
      "text/plain": [
       "[(0,)]"
      ]
     },
     "execution_count": 11,
     "metadata": {},
     "output_type": "execute_result"
    }
   ],
   "source": [
    "hyps = make_hypotheses_from_trees(br)\n",
    "hyps"
   ]
  },
  {
   "cell_type": "code",
   "execution_count": 12,
   "id": "6b60ad96",
   "metadata": {
    "pycharm": {
     "name": "#%%\n"
    }
   },
   "outputs": [
    {
     "name": "stdout",
     "output_type": "stream",
     "text": [
      "(0,)\n",
      "[0]\n"
     ]
    }
   ],
   "source": [
    "for hyp in hyps:\n",
    "    print(hyp)\n",
    "    for i in hyp:\n",
    "        print(br[i])"
   ]
  },
  {
   "cell_type": "markdown",
   "id": "7adb34b4",
   "metadata": {
    "pycharm": {
     "name": "#%% md\n"
    }
   },
   "source": [
    "Go through each hypothesis:\n",
    "1. Calculate the score\n",
    "2. generate branches for the next timestep"
   ]
  },
  {
   "cell_type": "markdown",
   "id": "605ee81d",
   "metadata": {},
   "source": [
    "Calculating next hypotheses from hypothesis set and new detection"
   ]
  },
  {
   "cell_type": "code",
   "execution_count": 13,
   "id": "83aa8863",
   "metadata": {},
   "outputs": [
    {
     "data": {
      "text/plain": [
       "[(0,)]"
      ]
     },
     "execution_count": 13,
     "metadata": {},
     "output_type": "execute_result"
    }
   ],
   "source": [
    "hyps"
   ]
  },
  {
   "cell_type": "code",
   "execution_count": 17,
   "id": "3813568d",
   "metadata": {},
   "outputs": [],
   "source": [
    "det_1 = detections[detections[\"time\"]==1]"
   ]
  },
  {
   "cell_type": "code",
   "execution_count": 18,
   "id": "febee2d9",
   "metadata": {},
   "outputs": [
    {
     "name": "stdout",
     "output_type": "stream",
     "text": [
      "[(0,)]\n",
      "   id  time  object_location\n",
      "1   1     1                1\n"
     ]
    }
   ],
   "source": [
    "print(hyps)\n",
    "print(det_1)"
   ]
  },
  {
   "cell_type": "code",
   "execution_count": 60,
   "id": "0dfffd8e",
   "metadata": {},
   "outputs": [],
   "source": []
  },
  {
   "cell_type": "code",
   "execution_count": 108,
   "id": "4440868b",
   "metadata": {},
   "outputs": [],
   "source": [
    "detection_id = det_1.iloc[0].id\n",
    "detection_time = det_1.iloc[0].time\n",
    "detection_pos = det_1.iloc[0].object_location\n",
    "hyps = [[[0]]]\n",
    "\n",
    "new_hyps = []\n",
    "# go through hypotheses\n",
    "for hyp in hyps:\n",
    "    # go through the branches in the hypothesis\n",
    "    for branch in hyp:\n",
    "        # scenario where the new detection is a repeat\n",
    "        repeat_scen = [branch + [detection_id]]\n",
    "        new_hyps.append(repeat_scen)\n",
    "        \n",
    "        # scenario where the new detection is a new individual\n",
    "        new_scen = [branch + [np.nan], list(np.empty(len(branch)) * np.nan) + [detection_id]]\n",
    "        new_hyps.append(new_scen)\n",
    "        \n",
    "        \n",
    "        "
   ]
  },
  {
   "cell_type": "code",
   "execution_count": 109,
   "id": "ee9907f2",
   "metadata": {},
   "outputs": [
    {
     "data": {
      "text/plain": [
       "[[[0, 1]], [[0, nan], [nan, 1]]]"
      ]
     },
     "execution_count": 109,
     "metadata": {},
     "output_type": "execute_result"
    }
   ],
   "source": [
    "new_hyps"
   ]
  },
  {
   "cell_type": "code",
   "execution_count": 110,
   "id": "255c935b",
   "metadata": {},
   "outputs": [
    {
     "name": "stdout",
     "output_type": "stream",
     "text": [
      "[[0, 1, nan], [nan, nan, 2]]\n",
      "[[0, nan, nan], [nan, 1, nan], [nan, nan, 2]]\n"
     ]
    }
   ],
   "source": [
    "hyps = new_hyps\n",
    "det_2 = detections[detections[\"time\"]==2]\n",
    "detection_id = det_2.iloc[0].id\n",
    "detection_time = det_2.iloc[0].time\n",
    "detection_pos = det_2.iloc[0].object_location\n",
    "\n",
    "new_hyps = []\n",
    "# go through hypotheses\n",
    "for hyp in hyps:\n",
    "    \n",
    "    # scenario where the new detection is a new individual\n",
    "    # pad existing branches\n",
    "  \n",
    "    new_scen = [ h + [np.nan] for h in hyp] + [list(np.empty(len(hyp[0]))*np.nan) + [detection_id]]\n",
    "    new_hyps.append(new_scen)\n",
    "    \n",
    "    print(new_scen)\n",
    "    # go through the branches in the hypothesis\n",
    "    for i, branch in enumerate(hyp):\n",
    "        # scenario where the new detection is a repeat\n",
    "        repeat_scen = [branch + [detection_id]]\n",
    "        repeat_scen += [hyp[j] + [np.nan]  for j in range(len(hyp)) if j!=i]\n",
    "        \n",
    "        new_hyps.append(repeat_scen)\n",
    "        \n",
    "\n",
    "        \n",
    "        "
   ]
  },
  {
   "cell_type": "code",
   "execution_count": 111,
   "id": "f64afd82",
   "metadata": {},
   "outputs": [
    {
     "name": "stdout",
     "output_type": "stream",
     "text": [
      "[[0, 1]]\n",
      "[[0, nan], [nan, 1]]\n"
     ]
    }
   ],
   "source": [
    "for h in hyps:\n",
    "    print(h)"
   ]
  },
  {
   "cell_type": "code",
   "execution_count": 112,
   "id": "252dc1f1",
   "metadata": {},
   "outputs": [
    {
     "name": "stdout",
     "output_type": "stream",
     "text": [
      "[[0, 1, nan], [nan, nan, 2]]\n",
      "[[0, 1, 2]]\n",
      "[[0, nan, nan], [nan, 1, nan], [nan, nan, 2]]\n",
      "[[0, nan, 2], [nan, 1, nan]]\n",
      "[[nan, 1, 2], [0, nan, nan]]\n"
     ]
    }
   ],
   "source": [
    "for h in new_hyps:\n",
    "    print(h)"
   ]
  },
  {
   "cell_type": "code",
   "execution_count": 53,
   "id": "4bcd070e",
   "metadata": {},
   "outputs": [],
   "source": [
    "a += [1]"
   ]
  },
  {
   "cell_type": "code",
   "execution_count": 54,
   "id": "1469f50d",
   "metadata": {},
   "outputs": [
    {
     "data": {
      "text/plain": [
       "[0, 1]"
      ]
     },
     "execution_count": 54,
     "metadata": {},
     "output_type": "execute_result"
    }
   ],
   "source": [
    "a"
   ]
  },
  {
   "cell_type": "code",
   "execution_count": 52,
   "id": "567f3518",
   "metadata": {},
   "outputs": [
    {
     "data": {
      "text/plain": [
       "[]"
      ]
     },
     "execution_count": 52,
     "metadata": {},
     "output_type": "execute_result"
    }
   ],
   "source": [
    "[a[i] for i in range(len(a)) if i!=0]\n"
   ]
  },
  {
   "cell_type": "code",
   "execution_count": 14,
   "id": "c0d69787",
   "metadata": {
    "pycharm": {
     "name": "#%%\n"
    }
   },
   "outputs": [
    {
     "name": "stdout",
     "output_type": "stream",
     "text": [
      "[0, 2]\n",
      "[[nan  1.]\n",
      " [ 0. nan]]\n",
      "[1]\n",
      "[[0. 1.]]\n"
     ]
    }
   ],
   "source": [
    "hyps = make_hypotheses_from_trees(br1)\n",
    "for hyp in hyps:\n",
    "    branch_indices = [h for h in hyp]\n",
    "    print(branch_indices)\n",
    "    print(np.array(br1)[branch_indices])\n",
    "            \n",
    "            \n",
    "    "
   ]
  },
  {
   "cell_type": "code",
   "execution_count": 29,
   "id": "f4c38671",
   "metadata": {},
   "outputs": [
    {
     "data": {
      "text/plain": [
       "[[0, 1]]"
      ]
     },
     "execution_count": 29,
     "metadata": {},
     "output_type": "execute_result"
    }
   ],
   "source": [
    "a = [0]\n",
    "[a+[1]]"
   ]
  },
  {
   "cell_type": "code",
   "execution_count": 27,
   "id": "c3293ee6",
   "metadata": {},
   "outputs": [],
   "source": []
  },
  {
   "cell_type": "code",
   "execution_count": 16,
   "id": "ecf608b9",
   "metadata": {},
   "outputs": [
    {
     "data": {
      "text/plain": [
       "[(0, 2), (1,)]"
      ]
     },
     "execution_count": 16,
     "metadata": {},
     "output_type": "execute_result"
    }
   ],
   "source": [
    "blah = make_hypotheses_from_trees(br1)\n",
    "blah"
   ]
  },
  {
   "cell_type": "code",
   "execution_count": 28,
   "id": "8ae63bae",
   "metadata": {},
   "outputs": [
    {
     "data": {
      "text/plain": [
       "array([[nan,  1.],\n",
       "       [ 0., nan]])"
      ]
     },
     "execution_count": 28,
     "metadata": {},
     "output_type": "execute_result"
    }
   ],
   "source": [
    "inds = [b for b in blah[0]]\n",
    "np.array(br1)[inds]"
   ]
  },
  {
   "cell_type": "code",
   "execution_count": null,
   "id": "42f5232a",
   "metadata": {
    "pycharm": {
     "name": "#%%\n"
    }
   },
   "outputs": [],
   "source": [
    "det_2 = detections[detections[\"time\"]==2]\n",
    "br2 = make_new_branches(br1, det_1, 2)\n",
    "br2"
   ]
  },
  {
   "cell_type": "code",
   "execution_count": null,
   "id": "cb8f06e6",
   "metadata": {},
   "outputs": [],
   "source": []
  }
 ],
 "metadata": {
  "kernelspec": {
   "display_name": "Python 3",
   "language": "python",
   "name": "python3"
  },
  "language_info": {
   "codemirror_mode": {
    "name": "ipython",
    "version": 3
   },
   "file_extension": ".py",
   "mimetype": "text/x-python",
   "name": "python",
   "nbconvert_exporter": "python",
   "pygments_lexer": "ipython3",
   "version": "3.6.9"
  }
 },
 "nbformat": 4,
 "nbformat_minor": 5
}
