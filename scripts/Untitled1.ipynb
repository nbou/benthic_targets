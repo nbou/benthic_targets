{
 "cells": [
  {
   "cell_type": "code",
   "execution_count": 1,
   "id": "d5beb885",
   "metadata": {},
   "outputs": [],
   "source": [
    "%load_ext autoreload\n",
    "%autoreload 2"
   ]
  },
  {
   "cell_type": "code",
   "execution_count": 2,
   "id": "b2f4060e",
   "metadata": {},
   "outputs": [],
   "source": [
    "from src.hypotheses import make_branches_multi, score_new_branches, make_hypotheses_from_trees, generate_hypothesis_matrix"
   ]
  },
  {
   "cell_type": "code",
   "execution_count": 37,
   "id": "ecfb0b9b",
   "metadata": {},
   "outputs": [],
   "source": [
    "import pandas as pd\n",
    "import matplotlib.pyplot as plt\n",
    "import numpy as np"
   ]
  },
  {
   "cell_type": "code",
   "execution_count": 69,
   "id": "7ba8e82f",
   "metadata": {},
   "outputs": [],
   "source": [
    "detections = pd.DataFrame()\n",
    "detections[\"id\"] = [0, 1, 2, 3, 4]\n",
    "detections[\"time\"] = [0, 1, 1, 3, 3]\n",
    "detections[\"object_location\"] = [0, 1, 2, 3, 4]\n",
    "\n",
    "faunastep = 0.4\n",
    "bg_prob = 0.2"
   ]
  },
  {
   "cell_type": "code",
   "execution_count": 70,
   "id": "476f5e0a",
   "metadata": {},
   "outputs": [
    {
     "data": {
      "text/html": [
       "<div>\n",
       "<style scoped>\n",
       "    .dataframe tbody tr th:only-of-type {\n",
       "        vertical-align: middle;\n",
       "    }\n",
       "\n",
       "    .dataframe tbody tr th {\n",
       "        vertical-align: top;\n",
       "    }\n",
       "\n",
       "    .dataframe thead th {\n",
       "        text-align: right;\n",
       "    }\n",
       "</style>\n",
       "<table border=\"1\" class=\"dataframe\">\n",
       "  <thead>\n",
       "    <tr style=\"text-align: right;\">\n",
       "      <th></th>\n",
       "      <th>id</th>\n",
       "      <th>time</th>\n",
       "      <th>object_location</th>\n",
       "    </tr>\n",
       "  </thead>\n",
       "  <tbody>\n",
       "    <tr>\n",
       "      <th>0</th>\n",
       "      <td>0</td>\n",
       "      <td>0</td>\n",
       "      <td>0</td>\n",
       "    </tr>\n",
       "    <tr>\n",
       "      <th>1</th>\n",
       "      <td>1</td>\n",
       "      <td>1</td>\n",
       "      <td>1</td>\n",
       "    </tr>\n",
       "    <tr>\n",
       "      <th>2</th>\n",
       "      <td>2</td>\n",
       "      <td>1</td>\n",
       "      <td>2</td>\n",
       "    </tr>\n",
       "    <tr>\n",
       "      <th>3</th>\n",
       "      <td>3</td>\n",
       "      <td>3</td>\n",
       "      <td>3</td>\n",
       "    </tr>\n",
       "    <tr>\n",
       "      <th>4</th>\n",
       "      <td>4</td>\n",
       "      <td>3</td>\n",
       "      <td>4</td>\n",
       "    </tr>\n",
       "  </tbody>\n",
       "</table>\n",
       "</div>"
      ],
      "text/plain": [
       "   id  time  object_location\n",
       "0   0     0                0\n",
       "1   1     1                1\n",
       "2   2     1                2\n",
       "3   3     3                3\n",
       "4   4     3                4"
      ]
     },
     "execution_count": 70,
     "metadata": {},
     "output_type": "execute_result"
    }
   ],
   "source": [
    "detections"
   ]
  },
  {
   "cell_type": "code",
   "execution_count": 71,
   "id": "3868f64b",
   "metadata": {},
   "outputs": [
    {
     "name": "stderr",
     "output_type": "stream",
     "text": [
      "/home/nader/Projects/thesis/benthic_targets/src/hypotheses.py:59: RuntimeWarning: divide by zero encountered in true_divide\n",
      "  # score is the existing + background prob\n",
      "/home/nader/Projects/thesis/benthic_targets/src/hypotheses.py:59: RuntimeWarning: invalid value encountered in true_divide\n",
      "  # score is the existing + background prob\n"
     ]
    }
   ],
   "source": [
    "probz = generate_hypothesis_matrix(detections, faunastep)"
   ]
  },
  {
   "cell_type": "code",
   "execution_count": 72,
   "id": "4cc8ce5b",
   "metadata": {},
   "outputs": [],
   "source": [
    "# make hypotheses and scores for first timestep\n",
    "scores = []\n",
    "hyps = []\n",
    "for i, row in detections[detections[\"time\"] == 0].iterrows():\n",
    "    hyps.append([[row[\"id\"]]])\n",
    "    scores.append(bg_prob)"
   ]
  },
  {
   "cell_type": "code",
   "execution_count": 101,
   "id": "1a608fb6",
   "metadata": {},
   "outputs": [],
   "source": [
    "def update_hyps_scores_multi(det, hyps, scores, probz, bg_prob):\n",
    "    new_hyps = []\n",
    "    new_scores = []\n",
    "\n",
    "    detection_ids = dets[\"id\"].to_list()\n",
    "\n",
    "    for hyp_i, hyp in enumerate(hyps):\n",
    "        existing_score = scores[hyp_i]\n",
    "\n",
    "        for h in hyp:\n",
    "            branches = make_branches_multi(h, detection_ids)\n",
    "            br_scores = score_new_branches(branches, bg_prob, probz)\n",
    "\n",
    "            hyp_inds = make_hypotheses_from_trees(branches)\n",
    "\n",
    "            for hind in hyp_inds:\n",
    "                new_hyps.append([branches[i] for i in hind])\n",
    "\n",
    "                new_scores.append(existing_score + np.sum([br_scores[i] for i in hind]))\n",
    "\n",
    "    return new_hyps, new_scores\n",
    "    "
   ]
  },
  {
   "cell_type": "code",
   "execution_count": 84,
   "id": "528a4900",
   "metadata": {},
   "outputs": [],
   "source": [
    "dets = detections[detections.time == 1]\n",
    "detection_ids = dets[\"id\"].to_list()"
   ]
  },
  {
   "cell_type": "code",
   "execution_count": 105,
   "id": "c9a318ae",
   "metadata": {},
   "outputs": [
    {
     "data": {
      "text/plain": [
       "[1, 2]"
      ]
     },
     "execution_count": 105,
     "metadata": {},
     "output_type": "execute_result"
    }
   ],
   "source": [
    "detection_ids"
   ]
  },
  {
   "cell_type": "code",
   "execution_count": 85,
   "id": "c1a1b55c",
   "metadata": {},
   "outputs": [
    {
     "data": {
      "text/plain": [
       "[[[0]]]"
      ]
     },
     "execution_count": 85,
     "metadata": {},
     "output_type": "execute_result"
    }
   ],
   "source": [
    "hyps"
   ]
  },
  {
   "cell_type": "code",
   "execution_count": 106,
   "id": "e7bbb704",
   "metadata": {},
   "outputs": [
    {
     "data": {
      "text/plain": [
       "[[0]]"
      ]
     },
     "execution_count": 106,
     "metadata": {},
     "output_type": "execute_result"
    }
   ],
   "source": [
    "hyps[0]"
   ]
  },
  {
   "cell_type": "code",
   "execution_count": 111,
   "id": "4ffd2904",
   "metadata": {},
   "outputs": [
    {
     "data": {
      "text/plain": [
       "[[0, nan, nan],\n",
       " [nan, 1, nan],\n",
       " [nan, 2, nan],\n",
       " [nan, nan, nan, 1],\n",
       " [nan, nan, nan, 2],\n",
       " [0, nan, 1],\n",
       " [0, nan, 2],\n",
       " [nan, 1, 1],\n",
       " [nan, 1, 2],\n",
       " [nan, 2, 1],\n",
       " [nan, 2, 2]]"
      ]
     },
     "execution_count": 111,
     "metadata": {},
     "output_type": "execute_result"
    }
   ],
   "source": [
    "make_branches_multi(new_hyps[0], detection_ids)"
   ]
  },
  {
   "cell_type": "code",
   "execution_count": 103,
   "id": "e4564e03",
   "metadata": {},
   "outputs": [],
   "source": [
    "branches = make_branches_multi(hyps[0], detection_ids)\n",
    "br_scores = score_new_branches(branches, bg_prob, probz)"
   ]
  },
  {
   "cell_type": "code",
   "execution_count": 104,
   "id": "a2424c43",
   "metadata": {},
   "outputs": [
    {
     "data": {
      "text/plain": [
       "[[0, nan], [nan, 1], [nan, 2], [0, 1], [0, 2]]"
      ]
     },
     "execution_count": 104,
     "metadata": {},
     "output_type": "execute_result"
    }
   ],
   "source": [
    "branches"
   ]
  },
  {
   "cell_type": "code",
   "execution_count": 87,
   "id": "ea0aa132",
   "metadata": {},
   "outputs": [
    {
     "data": {
      "text/plain": [
       "[0, 0.2, 0.2, 0.012419330651552318, 5.733031438470704e-07]"
      ]
     },
     "execution_count": 87,
     "metadata": {},
     "output_type": "execute_result"
    }
   ],
   "source": [
    "br_scores"
   ]
  },
  {
   "cell_type": "code",
   "execution_count": 88,
   "id": "226b0e29",
   "metadata": {
    "pycharm": {
     "name": "#%%\n"
    }
   },
   "outputs": [],
   "source": [
    "hyp_inds = make_hypotheses_from_trees(branches)\n"
   ]
  },
  {
   "cell_type": "code",
   "execution_count": 89,
   "id": "246ee68f",
   "metadata": {},
   "outputs": [],
   "source": [
    "new_hyps = []\n",
    "new_scores = []\n",
    "\n",
    "for hind in hyp_inds:\n",
    "    new_hyps.append([branches[i] for i in hind])\n",
    "    new_scores.append(scores[0] + np.sum([br_scores[i] for i in hind]))\n",
    "    "
   ]
  },
  {
   "cell_type": "code",
   "execution_count": 90,
   "id": "22fb0d37",
   "metadata": {},
   "outputs": [
    {
     "data": {
      "text/plain": [
       "[[[0, nan], [nan, 1], [nan, 2]], [[nan, 1], [0, 2]], [[nan, 2], [0, 1]]]"
      ]
     },
     "execution_count": 90,
     "metadata": {},
     "output_type": "execute_result"
    }
   ],
   "source": [
    "new_hyps"
   ]
  },
  {
   "cell_type": "code",
   "execution_count": 91,
   "id": "0cec53ea",
   "metadata": {},
   "outputs": [
    {
     "data": {
      "text/plain": [
       "[1, 2]"
      ]
     },
     "execution_count": 91,
     "metadata": {},
     "output_type": "execute_result"
    }
   ],
   "source": [
    "detection_ids"
   ]
  },
  {
   "cell_type": "code",
   "execution_count": 92,
   "id": "3ecbd347",
   "metadata": {},
   "outputs": [
    {
     "name": "stdout",
     "output_type": "stream",
     "text": [
      "[[0, nan], [nan, 1], [nan, 2]] 0.6000000000000001\n",
      "[[nan, 1], [0, 2]] 0.40000057330314387\n",
      "[[nan, 2], [0, 1]] 0.41241933065155234\n"
     ]
    }
   ],
   "source": [
    "for i, h in enumerate(new_hyps):\n",
    "    print(h, new_scores[i])"
   ]
  },
  {
   "cell_type": "code",
   "execution_count": 110,
   "id": "a6037a5a",
   "metadata": {},
   "outputs": [
    {
     "data": {
      "text/plain": [
       "[[0, nan], [nan, 1], [nan, 2]]"
      ]
     },
     "execution_count": 110,
     "metadata": {},
     "output_type": "execute_result"
    }
   ],
   "source": [
    "new_hyps[0]"
   ]
  },
  {
   "cell_type": "code",
   "execution_count": 59,
   "id": "4fdda009",
   "metadata": {},
   "outputs": [],
   "source": [
    "from src.hypotheses import update_hyps_scores"
   ]
  },
  {
   "cell_type": "code",
   "execution_count": 97,
   "id": "bfa48f3b",
   "metadata": {},
   "outputs": [
    {
     "data": {
      "text/plain": [
       "[[[0]]]"
      ]
     },
     "execution_count": 97,
     "metadata": {},
     "output_type": "execute_result"
    }
   ],
   "source": [
    "hyps"
   ]
  },
  {
   "cell_type": "code",
   "execution_count": 98,
   "id": "8b4f1cbe",
   "metadata": {},
   "outputs": [
    {
     "data": {
      "text/html": [
       "<div>\n",
       "<style scoped>\n",
       "    .dataframe tbody tr th:only-of-type {\n",
       "        vertical-align: middle;\n",
       "    }\n",
       "\n",
       "    .dataframe tbody tr th {\n",
       "        vertical-align: top;\n",
       "    }\n",
       "\n",
       "    .dataframe thead th {\n",
       "        text-align: right;\n",
       "    }\n",
       "</style>\n",
       "<table border=\"1\" class=\"dataframe\">\n",
       "  <thead>\n",
       "    <tr style=\"text-align: right;\">\n",
       "      <th></th>\n",
       "      <th>id</th>\n",
       "      <th>time</th>\n",
       "      <th>object_location</th>\n",
       "    </tr>\n",
       "  </thead>\n",
       "  <tbody>\n",
       "    <tr>\n",
       "      <th>1</th>\n",
       "      <td>1</td>\n",
       "      <td>1</td>\n",
       "      <td>1</td>\n",
       "    </tr>\n",
       "    <tr>\n",
       "      <th>2</th>\n",
       "      <td>2</td>\n",
       "      <td>1</td>\n",
       "      <td>2</td>\n",
       "    </tr>\n",
       "  </tbody>\n",
       "</table>\n",
       "</div>"
      ],
      "text/plain": [
       "   id  time  object_location\n",
       "1   1     1                1\n",
       "2   2     1                2"
      ]
     },
     "execution_count": 98,
     "metadata": {},
     "output_type": "execute_result"
    }
   ],
   "source": [
    "dets"
   ]
  },
  {
   "cell_type": "code",
   "execution_count": 102,
   "id": "cf2c8c63",
   "metadata": {},
   "outputs": [
    {
     "name": "stderr",
     "output_type": "stream",
     "text": [
      "/home/nader/Projects/thesis/benthic_targets/src/hypotheses.py:116: VisibleDeprecationWarning: Creating an ndarray from ragged nested sequences (which is a list-or-tuple of lists-or-tuples-or ndarrays with different lengths or shapes) is deprecated. If you meant to do this, you must specify 'dtype=object' when creating the ndarray\n",
      "  trees = np.array(trees)\n"
     ]
    },
    {
     "data": {
      "text/plain": [
       "([[array([nan]), [nan, 1], [nan, 2], array([1]), array([2])]], [1.0])"
      ]
     },
     "execution_count": 102,
     "metadata": {},
     "output_type": "execute_result"
    }
   ],
   "source": [
    "update_hyps_scores_multi(dets,\n",
    "                  hyps,\n",
    "                  scores,\n",
    "                  probz,\n",
    "                  bg_prob)"
   ]
  },
  {
   "cell_type": "code",
   "execution_count": null,
   "id": "585af6f8",
   "metadata": {},
   "outputs": [],
   "source": []
  }
 ],
 "metadata": {
  "kernelspec": {
   "display_name": "Python 3",
   "language": "python",
   "name": "python3"
  },
  "language_info": {
   "codemirror_mode": {
    "name": "ipython",
    "version": 3
   },
   "file_extension": ".py",
   "mimetype": "text/x-python",
   "name": "python",
   "nbconvert_exporter": "python",
   "pygments_lexer": "ipython3",
   "version": "3.6.9"
  }
 },
 "nbformat": 4,
 "nbformat_minor": 5
}
